{
  "nbformat": 4,
  "nbformat_minor": 0,
  "metadata": {
    "colab": {
      "name": "ML_Project_Augmentation_PCA.ipynb",
      "provenance": [],
      "collapsed_sections": [
        "9635-rRaNaHB",
        "q33OJ0hJqoIs",
        "fkzO1gNx5Tgd",
        "ErKErG555xGZ",
        "bGhn4vnO6K3l",
        "P74ZUthv62Vo",
        "6UhhU-hY7Mbk",
        "rRBCrG0g7rVW",
        "TqySfVdpCoE3",
        "ObS0nyN5H1qb",
        "NI8OmhDlIt-f",
        "rkLrc60EJA6i",
        "-evipCEhS6Cb",
        "0vGBC_OpTUVh",
        "voo0Cm09TUVi",
        "h9dDOrzmTUVj",
        "xYt1DfSdTUVj",
        "qonY4zaqTUVk",
        "LNm5XLjbgICM"
      ]
    },
    "kernelspec": {
      "display_name": "Python 3 (ipykernel)",
      "language": "python",
      "name": "python3"
    },
    "language_info": {
      "codemirror_mode": {
        "name": "ipython",
        "version": 3
      },
      "file_extension": ".py",
      "mimetype": "text/x-python",
      "name": "python",
      "nbconvert_exporter": "python",
      "pygments_lexer": "ipython3",
      "version": "3.8.10"
    }
  },
  "cells": [
    {
      "cell_type": "markdown",
      "metadata": {
        "id": "hfulVdlqeDUb"
      },
      "source": [
        "# Libraries"
      ]
    },
    {
      "cell_type": "code",
      "metadata": {
        "id": "6P_KLNhChx4e",
        "scrolled": true
      },
      "source": [
        "import numpy as np\n",
        "import pandas as pd \n",
        "import copy\n",
        "import matplotlib.pyplot as plt\n",
        "%matplotlib inline\n",
        "import seaborn as sns\n",
        "sns.set(font_scale=1.0, style=\"dark\")\n",
        "import warnings \n",
        "from sklearn.svm import SVC, NuSVC\n",
        "warnings.filterwarnings('ignore')\n",
        "from sklearn.model_selection import train_test_split\n",
        "from sklearn.naive_bayes import GaussianNB\n",
        "from sklearn.svm import SVC\n",
        "from sklearn.neighbors  import KNeighborsClassifier\n",
        "from sklearn.tree import DecisionTreeClassifier\n",
        "from sklearn.ensemble import RandomForestClassifier\n",
        "from sklearn.ensemble import AdaBoostClassifier\n",
        "from sklearn.ensemble import GradientBoostingClassifier\n",
        "from sklearn.neural_network import MLPClassifier\n",
        "import xgboost as xgb\n",
        "from scipy import stats\n",
        "from scipy.stats import uniform, randint\n",
        "from sklearn.metrics import f1_score\n",
        "from sklearn.model_selection import KFold, StratifiedKFold, RepeatedStratifiedKFold\n",
        "from sklearn.metrics import roc_curve, auc, accuracy_score\n",
        "# from tflearn.data_utils import to_categorical\n",
        "from sklearn import preprocessing\n",
        "from sklearn.model_selection import GridSearchCV, RandomizedSearchCV\n",
        "from sklearn.metrics import classification_report\n",
        "from scipy import interp\n",
        "from sklearn.metrics import confusion_matrix as confusion_matrix, plot_confusion_matrix\n",
        "from sklearn.decomposition import PCA\n",
        "from sklearn.decomposition import FastICA\n",
        "from tensorflow.keras.utils import to_categorical\n",
        "from imblearn.over_sampling import SMOTE"
      ],
      "execution_count": 2,
      "outputs": []
    },
    {
      "cell_type": "markdown",
      "metadata": {
        "id": "GsIelASieMjL"
      },
      "source": [
        "# Data Manipulation"
      ]
    },
    {
      "cell_type": "code",
      "metadata": {
        "id": "6ZWa0WB5N06M"
      },
      "source": [
        "## Make 1 or True  if you run colab\n",
        "## Other wise 0 or False\n",
        "##if you run in  colab\n",
        "\n",
        "colab = 0\n",
        "if colab ==True:\n",
        "  data_dir='/content/drive/MyDrive/PIMA Journal/diabetes.csv'\n",
        "  from google.colab import drive\n",
        "  drive.mount('/content/drive')\n",
        "else:\n",
        "  \n",
        "  data_dir='Diabetes_processed.csv'\n"
      ],
      "execution_count": 3,
      "outputs": []
    },
    {
      "cell_type": "code",
      "metadata": {
        "id": "gPXAbwA7Olty"
      },
      "source": [
        "data = pd.read_csv(data_dir)\n",
        "all_clf_res = {\n",
        "               'BloodPressure':[],\n",
        "               'Glucose':[]\n",
        "}"
      ],
      "execution_count": 4,
      "outputs": []
    },
    {
      "cell_type": "code",
      "metadata": {
        "colab": {
          "base_uri": "https://localhost:8080/",
          "height": 204
        },
        "id": "fsEN6pCHOtDa",
        "outputId": "a99d6242-507a-4e1e-c985-c58acba2de84"
      },
      "source": [
        "data.head()"
      ],
      "execution_count": 5,
      "outputs": [
        {
          "output_type": "execute_result",
          "data": {
            "text/html": [
              "<div>\n",
              "<style scoped>\n",
              "    .dataframe tbody tr th:only-of-type {\n",
              "        vertical-align: middle;\n",
              "    }\n",
              "\n",
              "    .dataframe tbody tr th {\n",
              "        vertical-align: top;\n",
              "    }\n",
              "\n",
              "    .dataframe thead th {\n",
              "        text-align: right;\n",
              "    }\n",
              "</style>\n",
              "<table border=\"1\" class=\"dataframe\">\n",
              "  <thead>\n",
              "    <tr style=\"text-align: right;\">\n",
              "      <th></th>\n",
              "      <th>Pregnancies</th>\n",
              "      <th>Glucose</th>\n",
              "      <th>BloodPressure</th>\n",
              "      <th>SkinThickness</th>\n",
              "      <th>Insulin</th>\n",
              "      <th>BMI</th>\n",
              "      <th>DiabetesPedigreeFunction</th>\n",
              "      <th>Age</th>\n",
              "      <th>Outcome</th>\n",
              "    </tr>\n",
              "  </thead>\n",
              "  <tbody>\n",
              "    <tr>\n",
              "      <th>0</th>\n",
              "      <td>6.0</td>\n",
              "      <td>148.0</td>\n",
              "      <td>72.0</td>\n",
              "      <td>35.000000</td>\n",
              "      <td>171.474227</td>\n",
              "      <td>33.6</td>\n",
              "      <td>0.627</td>\n",
              "      <td>50.0</td>\n",
              "      <td>1</td>\n",
              "    </tr>\n",
              "    <tr>\n",
              "      <th>1</th>\n",
              "      <td>1.0</td>\n",
              "      <td>85.0</td>\n",
              "      <td>66.0</td>\n",
              "      <td>29.000000</td>\n",
              "      <td>113.606695</td>\n",
              "      <td>26.6</td>\n",
              "      <td>0.351</td>\n",
              "      <td>31.0</td>\n",
              "      <td>0</td>\n",
              "    </tr>\n",
              "    <tr>\n",
              "      <th>2</th>\n",
              "      <td>8.0</td>\n",
              "      <td>183.0</td>\n",
              "      <td>64.0</td>\n",
              "      <td>32.059259</td>\n",
              "      <td>171.474227</td>\n",
              "      <td>23.3</td>\n",
              "      <td>0.672</td>\n",
              "      <td>32.0</td>\n",
              "      <td>1</td>\n",
              "    </tr>\n",
              "    <tr>\n",
              "      <th>3</th>\n",
              "      <td>1.0</td>\n",
              "      <td>89.0</td>\n",
              "      <td>66.0</td>\n",
              "      <td>23.000000</td>\n",
              "      <td>94.000000</td>\n",
              "      <td>28.1</td>\n",
              "      <td>0.167</td>\n",
              "      <td>21.0</td>\n",
              "      <td>0</td>\n",
              "    </tr>\n",
              "    <tr>\n",
              "      <th>4</th>\n",
              "      <td>5.0</td>\n",
              "      <td>116.0</td>\n",
              "      <td>74.0</td>\n",
              "      <td>27.094512</td>\n",
              "      <td>113.606695</td>\n",
              "      <td>25.6</td>\n",
              "      <td>0.201</td>\n",
              "      <td>30.0</td>\n",
              "      <td>0</td>\n",
              "    </tr>\n",
              "  </tbody>\n",
              "</table>\n",
              "</div>"
            ],
            "text/plain": [
              "   Pregnancies  Glucose  BloodPressure  ...  DiabetesPedigreeFunction   Age  Outcome\n",
              "0          6.0    148.0           72.0  ...                     0.627  50.0        1\n",
              "1          1.0     85.0           66.0  ...                     0.351  31.0        0\n",
              "2          8.0    183.0           64.0  ...                     0.672  32.0        1\n",
              "3          1.0     89.0           66.0  ...                     0.167  21.0        0\n",
              "4          5.0    116.0           74.0  ...                     0.201  30.0        0\n",
              "\n",
              "[5 rows x 9 columns]"
            ]
          },
          "metadata": {},
          "execution_count": 5
        }
      ]
    },
    {
      "cell_type": "code",
      "metadata": {
        "id": "7FBYD-y5pmde"
      },
      "source": [
        "def swap_col(target_):\n",
        "  swap_data = copy.deepcopy(data)\n",
        "  swap_data[target_] = data.Outcome\n",
        "  swap_data.Outcome = data[target_]\n",
        "  swap_data.rename(columns = {'Outcome':target_, target_: 'Diabetic'}, inplace = True)\n",
        "  #swap_data.Diabetic.replace({1:'Yes', 0:'No'} , inplace = True)\n",
        "  return swap_data"
      ],
      "execution_count": 6,
      "outputs": []
    },
    {
      "cell_type": "code",
      "metadata": {
        "id": "9EcVLsoXqcT0"
      },
      "source": [
        "data_BP = swap_col('BloodPressure')\n",
        "\n",
        "#data_ST = swap_col('SkinThickness')\n",
        "#data_Ins = swap_col('Insulin')\n",
        "#data_BMI = swap_col('BMI')\n",
        "#data_DPF = swap_col('DiabetesPedigreeFunction')\n",
        "#data_Age = swap_col('Age')\n",
        "#data_Pregnancies = swap_col('Pregnancies')"
      ],
      "execution_count": 7,
      "outputs": []
    },
    {
      "cell_type": "code",
      "metadata": {
        "colab": {
          "base_uri": "https://localhost:8080/",
          "height": 204
        },
        "id": "7g6m-qlyhx4u",
        "outputId": "38d70478-77ef-4ce4-f5b4-ba9b995f2363"
      },
      "source": [
        "data_BP.head()"
      ],
      "execution_count": 8,
      "outputs": [
        {
          "output_type": "execute_result",
          "data": {
            "text/html": [
              "<div>\n",
              "<style scoped>\n",
              "    .dataframe tbody tr th:only-of-type {\n",
              "        vertical-align: middle;\n",
              "    }\n",
              "\n",
              "    .dataframe tbody tr th {\n",
              "        vertical-align: top;\n",
              "    }\n",
              "\n",
              "    .dataframe thead th {\n",
              "        text-align: right;\n",
              "    }\n",
              "</style>\n",
              "<table border=\"1\" class=\"dataframe\">\n",
              "  <thead>\n",
              "    <tr style=\"text-align: right;\">\n",
              "      <th></th>\n",
              "      <th>Pregnancies</th>\n",
              "      <th>Glucose</th>\n",
              "      <th>Diabetic</th>\n",
              "      <th>SkinThickness</th>\n",
              "      <th>Insulin</th>\n",
              "      <th>BMI</th>\n",
              "      <th>DiabetesPedigreeFunction</th>\n",
              "      <th>Age</th>\n",
              "      <th>BloodPressure</th>\n",
              "    </tr>\n",
              "  </thead>\n",
              "  <tbody>\n",
              "    <tr>\n",
              "      <th>0</th>\n",
              "      <td>6.0</td>\n",
              "      <td>148.0</td>\n",
              "      <td>1</td>\n",
              "      <td>35.000000</td>\n",
              "      <td>171.474227</td>\n",
              "      <td>33.6</td>\n",
              "      <td>0.627</td>\n",
              "      <td>50.0</td>\n",
              "      <td>72.0</td>\n",
              "    </tr>\n",
              "    <tr>\n",
              "      <th>1</th>\n",
              "      <td>1.0</td>\n",
              "      <td>85.0</td>\n",
              "      <td>0</td>\n",
              "      <td>29.000000</td>\n",
              "      <td>113.606695</td>\n",
              "      <td>26.6</td>\n",
              "      <td>0.351</td>\n",
              "      <td>31.0</td>\n",
              "      <td>66.0</td>\n",
              "    </tr>\n",
              "    <tr>\n",
              "      <th>2</th>\n",
              "      <td>8.0</td>\n",
              "      <td>183.0</td>\n",
              "      <td>1</td>\n",
              "      <td>32.059259</td>\n",
              "      <td>171.474227</td>\n",
              "      <td>23.3</td>\n",
              "      <td>0.672</td>\n",
              "      <td>32.0</td>\n",
              "      <td>64.0</td>\n",
              "    </tr>\n",
              "    <tr>\n",
              "      <th>3</th>\n",
              "      <td>1.0</td>\n",
              "      <td>89.0</td>\n",
              "      <td>0</td>\n",
              "      <td>23.000000</td>\n",
              "      <td>94.000000</td>\n",
              "      <td>28.1</td>\n",
              "      <td>0.167</td>\n",
              "      <td>21.0</td>\n",
              "      <td>66.0</td>\n",
              "    </tr>\n",
              "    <tr>\n",
              "      <th>4</th>\n",
              "      <td>5.0</td>\n",
              "      <td>116.0</td>\n",
              "      <td>0</td>\n",
              "      <td>27.094512</td>\n",
              "      <td>113.606695</td>\n",
              "      <td>25.6</td>\n",
              "      <td>0.201</td>\n",
              "      <td>30.0</td>\n",
              "      <td>74.0</td>\n",
              "    </tr>\n",
              "  </tbody>\n",
              "</table>\n",
              "</div>"
            ],
            "text/plain": [
              "   Pregnancies  Glucose  ...   Age  BloodPressure\n",
              "0          6.0    148.0  ...  50.0           72.0\n",
              "1          1.0     85.0  ...  31.0           66.0\n",
              "2          8.0    183.0  ...  32.0           64.0\n",
              "3          1.0     89.0  ...  21.0           66.0\n",
              "4          5.0    116.0  ...  30.0           74.0\n",
              "\n",
              "[5 rows x 9 columns]"
            ]
          },
          "metadata": {},
          "execution_count": 8
        }
      ]
    },
    {
      "cell_type": "code",
      "metadata": {
        "id": "sSG-nEalhx4w"
      },
      "source": [
        "knn_res = pd.DataFrame()\n",
        "random_initializer=100            #random initializer\n",
        "n_dots=50"
      ],
      "execution_count": 9,
      "outputs": []
    },
    {
      "cell_type": "markdown",
      "metadata": {
        "id": "9635-rRaNaHB"
      },
      "source": [
        "# Utility Functions\n"
      ]
    },
    {
      "cell_type": "code",
      "metadata": {
        "id": "3PneAZ5Jhx4x"
      },
      "source": [
        "def metrics (y_true, y_pred, probas_, tprs, mean_fpr):\n",
        "  '''\n",
        "  Parameters :\n",
        "  Input - \n",
        "  y_true - true  value of input data    \n",
        "  y_pred- predicted  value of input data  \n",
        "  probas_- probability/confidence of predicted output\n",
        "\n",
        "  return -True Negative(tn),False Positive(fp),False Negative(fn)\n",
        "  True positive(tp),AUC(roc_auc),False Positive Rate(fpr),\n",
        "  True positive rate(tpr)\n",
        "\n",
        "  '''\n",
        "\n",
        "\n",
        "  points=n_dots*'-'\n",
        "  print(points)\n",
        "#    print(\"Best parameters set found on development set:\")\n",
        "#    print(clf.best_params_)\n",
        "  fpr, tpr, thresholds = roc_curve(y_true, probas_[:, 1])\n",
        "  tprs.append(interp(mean_fpr, fpr, tpr))\n",
        "  tprs[-1][0] = 0.0\n",
        "  roc_auc = auc(fpr, tpr)\n",
        "  #  aucs.append(roc_auc)\n",
        "  print(\"Detailed classification report for current fold:\")\n",
        "  print()\n",
        "  print(classification_report(y_true, y_pred))\n",
        "  print()\n",
        "  print(\"Area Under ROC (AUC): {}\".format(roc_auc))\n",
        "  print()\n",
        "  print('Confusion Matrix for current fold: ')\n",
        "  print(confusion_matrix(y_true, y_pred))\n",
        "  print()\n",
        "  print(\"Accuracy for Current Fold: {}\".format(accuracy_score(y_true, y_pred)))\n",
        "  print()\n",
        "  tn, fp, fn, tp = confusion_matrix(y_true, y_pred).ravel()\n",
        "\n",
        "  return  tn, fp, fn, tp, roc_auc, fpr, tpr\n",
        "\n",
        "#*******************************************************************************#\n",
        "\n",
        "def plot_Current_ROC(fpr,tpr,iterator,roc_auc):\n",
        "  \n",
        "  '''\n",
        "  Parameters :\n",
        "  Input - \n",
        "  fpr - False positive rate\n",
        "  tpr - True positive rate\n",
        "  roc_auc -auc values of roc curve\n",
        "\n",
        "  Output - \n",
        "  Visalization of current roc curve\n",
        "\n",
        "  '''\n",
        "  plt.plot(fpr,\n",
        "          \n",
        "          tpr,\n",
        "          # Color[iterator],\n",
        "          alpha=0.35,\n",
        "          # label='macro-average ROC (AUC = {0:0.3f})'.format(roc_auc)\n",
        "          # +FOLD[iterator],\n",
        "          linewidth=1)\n",
        "  \n",
        "\n",
        "#*******************************************************************************#\n",
        "   \n",
        "def average_ROC(mean_fpr,tprs,aucs,TP,TN,FP,FN):\n",
        "\n",
        "  '''\n",
        "  Parameters :\n",
        "  mean_fpr - Mean False positive rate\n",
        "  tprs -values of true positive rate\n",
        "  aucs  - values of auc\n",
        "  TP    - True positive \n",
        "  TN    - True Negative\n",
        "  FP    - False Positiv\n",
        "  FN    - False Negative\n",
        "\n",
        "  Output - \n",
        "  Visalization of TPR vs FPR plot\n",
        "  '''\n",
        "  sen = (np.sum(TP))/(np.sum(TP)+np.sum(FN))\n",
        "  spe = (np.sum(TN))/(np.sum(TN)+np.sum(FP))\n",
        "\n",
        "  mean_tpr = np.mean(tprs, axis=0)\n",
        "  mean_tpr[-1] = 1.0\n",
        "  # mean_auc = auc(mean_fpr, mean_tpr)\n",
        "  mean_auc = np.mean(aucs)\n",
        "  std_auc = np.std(aucs)\n",
        "  # plt.figure(figsize=(8, 5))\n",
        "  # plt.grid(True)\n",
        "  ax = plt.axes()\n",
        "  ax.grid(color='lightgray', linestyle='-', linewidth=.5)\n",
        "  # Setting the background color\n",
        "  ax.set_facecolor(\"white\")\n",
        "  \n",
        "  ax.spines['bottom'].set_color('#000000')\n",
        "  ax.spines['top'].set_color('#000000') \n",
        "  ax.spines['right'].set_color('#000000')\n",
        "  ax.spines['left'].set_color('#000000')\n",
        "\n",
        "  plt.plot(mean_fpr, mean_tpr, color='blue',\n",
        "          label=r'Avg. ROC (AUC (avg $\\pm$ std) = %0.3f $\\pm$ %0.3f)' % (mean_auc, std_auc),\n",
        "          lw=2, alpha=.8)\n",
        "  \n",
        "  plt.scatter((1-spe), sen, s=80, c='r', marker='x',)\n",
        "  plt.scatter(0, sen, s=80, c='r', marker='x',)\n",
        "  plt.scatter((1-spe),0, s=80, c='r', marker='x',)\n",
        "  plt.axhline(y=sen, color='r', linestyle='--')\n",
        "  plt.axvline(x=(1-spe), color='r', linestyle='--')\n",
        "  plt.text((1-spe), 0.02, \"FPR={:0.3f}\".format((1-spe)))\n",
        "  plt.text(0.009, sen+0.05, \"TPR={:0.3f}\".format(sen))\n",
        "\n",
        "  std_tpr = np.std(tprs, axis=0)\n",
        "  tprs_upper = np.minimum(mean_tpr + std_tpr, 1)\n",
        "  tprs_lower = np.maximum(mean_tpr - std_tpr, 0)\n",
        "  plt.fill_between(mean_fpr, tprs_lower, tprs_upper, color='darkgray', alpha=0.5,\n",
        "                  label=r'$\\pm$ 1 Standard deviation')\n",
        "\n",
        "  plt.xticks(np.arange(0.0, 1.01, step=0.1))\n",
        "  plt.yticks(np.arange(0.0, 1.01, step=0.1))\n",
        "  left=0.0\n",
        "  right=1.0\n",
        "  plt.xlim(left, right)\n",
        "  plt.ylim(left, right)\n",
        "  plt.xlabel('False Positive Rate (FPR)')\n",
        "  plt.ylabel('True Positive Rate (TPR)')\n",
        "  plt.legend(loc=\"lower right\")\n",
        "  # plt.grid(True)\n",
        "  plt.show()\n",
        "\n",
        "#*******************************************************************************#\n",
        "\n",
        "def average_performance(aucs,Accuracy,TP,TN,FP,FN, target_col): \n",
        "\n",
        "  '''\n",
        "  Parameters :\n",
        "  Input - \n",
        "  Accuracy - value of accuracy\n",
        "  TP  - True Positive\n",
        "  TN  - True Negative\n",
        "  FP  - False Positive\n",
        "  FN  - False Negative\n",
        "\n",
        "\n",
        "  Output - \n",
        "  It prints the average accuarcy,confusion matrix\n",
        "  '''\n",
        "\n",
        "  print()\n",
        "  n_dotsav=(n_dots-len('Average'))//2\n",
        "    \n",
        "  print('-'*n_dotsav+'Average'+'-'*n_dotsav)\n",
        "  print(\"AUC (Avg. +/- Std.) is  %0.3f +/- %0.3f\" %(np.mean(aucs),np.std(aucs)))\n",
        "  print(\"Accuracy (Avg. +/- Std.) is  %0.3f +/- %0.3f\" %(np.mean(Accuracy),np.std(Accuracy)))\n",
        "  cm = [[int(np.mean(TP)), int(np.mean(FP))],[int(np.mean(FN)), int(np.mean(TN))]]\n",
        "  print ('Avg. CM is '+str(cm))\n",
        "  cm = [[int(np.sum(TP)), int(np.sum(FP))],[int(np.sum(FN)), int(np.sum(TN))]]\n",
        "  print ('Total for all folds CM is '+str(cm))\n",
        "  re_auc=str(round(np.mean(aucs), 3))+'+/-'+str(round(np.std(aucs),3))\n",
        "  re_accuracy=str(round(np.mean(Accuracy), 3))+'+/-'+str(round(np.std(Accuracy),3))\n",
        "  all_clf_res[target_col].append(re_accuracy)\n",
        "\n",
        "def creat_Model (classifier, X_Train, Y_Train, tuned_parameters, verbose):\n",
        " \n",
        "    clf = GridSearchCV(classifier,\n",
        "                    tuned_parameters,\n",
        "                    verbose=verbose,\n",
        "                    cv=5,\n",
        "                    scoring='f1_weighted',\n",
        "                    n_jobs=-1)\n",
        "    clf.fit(X_Train, Y_Train)\n",
        "    return clf\n",
        "\n",
        "#*******************************************************************************#\n",
        "    \n",
        "def feature_Selector(data, algo, n_feature):\n",
        " \n",
        "    if algo=='PCA':                                                   #for pca algorithm\n",
        "        X_Data= data.iloc[:,:8].values\n",
        "        pca = PCA(n_components=n_feature)                             #number of feature\n",
        "        X_Data = pca.fit_transform(X_Data)\n",
        "        return X_Data , data.iloc[:,8:].values\n",
        " \n",
        "    if algo == 'ICA':\n",
        "        X_Data= data.iloc[:,:8].values\n",
        "        ICA = FastICA(n_components=n_feature, random_state=12) \n",
        "        X_Data = ICA.fit_transform(X_Data)\n",
        "        return X_Data , data.iloc[:,8:].values\n",
        "    \n",
        "    if algo =='corr':                                                   #for ica algorithm\n",
        "        if n_feature ==4:\n",
        "            data = data[['F2','F5','F4','F6','Outcome']]                #for 4 feature\n",
        "            return data.iloc[:,:4].values, data.iloc[:,4:].values\n",
        "        if n_feature ==6:\n",
        "            data = data[['F1','F2','F4','F5','F6','F8','Outcome']]       #for 6 feature\n",
        "            return data.iloc[:,:6].values, data.iloc[:,6:].values\n",
        "        \n",
        "    if algo == 'None':\n",
        "        return data.iloc[:,:8].values, data.iloc[:,8:].values            #if feature selection is off all features are counted\n",
        "\n",
        "#*******************************************************************************#"
      ],
      "execution_count": 10,
      "outputs": []
    },
    {
      "cell_type": "code",
      "metadata": {
        "id": "nb_v6Fnqhx40"
      },
      "source": [
        "kf = StratifiedKFold(n_splits=5,\n",
        "                     shuffle=True,\n",
        "                     random_state=random_initializer)"
      ],
      "execution_count": 11,
      "outputs": []
    },
    {
      "cell_type": "markdown",
      "metadata": {
        "id": "vfYhdL_AN9i1"
      },
      "source": [
        "# **Classifiers**"
      ]
    },
    {
      "cell_type": "markdown",
      "metadata": {
        "id": "q33OJ0hJqoIs"
      },
      "source": [
        "## KNN Classifier"
      ]
    },
    {
      "cell_type": "code",
      "metadata": {
        "id": "J1257TzEqoIw",
        "scrolled": true
      },
      "source": [
        "def clf_KNN(X_Data, Y_Lavel, target_col):\n",
        "\n",
        "    Accuracy = []                                                                # for store the value of accuracy \n",
        "    FP = []                                                                      # for store False Positive \n",
        "    TN = []                                                                      # for True Negative\n",
        "    FN = []                                                                      # for False Negative\n",
        "    TP = []                                                                      # for True Positive\n",
        "    tprs = []                                                                    # for true positive rates\n",
        "    aucs_kNN = []                                                                # for store the values of auc\n",
        "    iterator=0\n",
        "    mean_fpr = np.linspace(0, 1, 100)\n",
        "    fig = plt.figure(figsize=(8, 5))\n",
        "\n",
        "    for train_index, test_index in kf.split(X_Data,Y_Lavel):                     # split in train and test\n",
        "        #   print(\"TRAIN:\", train_index, \"TEST:\", test_index)\n",
        "        X_Train, X_Test = X_Data[train_index], X_Data[test_index]                #train data and label\n",
        "        Y_Train, Y_Test = Y_Lavel[train_index], Y_Lavel[test_index]              #test data and label\n",
        "\n",
        "        ###########################################\n",
        "        # define the hyper parameters of Knn\n",
        "        n_neighbors = [1,3,5,7,9,11,13,15,17,19,21,23,25,27,29,31,33,35,37,39,41,43,45,47,49]\n",
        "        leaf_size = [5,10,15,20,25,30,35,40,45,50]\n",
        "        Distance = [1,2]\n",
        "        ############################################\n",
        "\n",
        "\n",
        "        tuned_parameters = [ {'n_neighbors': n_neighbors,                         #define parameters with different algorithm\n",
        "                            'algorithm' : ['brute'],\n",
        "                            'p':Distance},\n",
        "\n",
        "                            {'n_neighbors': n_neighbors, \n",
        "                            'algorithm' : ['ball_tree'],\n",
        "                            'leaf_size' : leaf_size,\n",
        "                            'p':Distance},\n",
        "\n",
        "                            {'n_neighbors': n_neighbors, \n",
        "                            'algorithm' : ['kd_tree'],\n",
        "                            'leaf_size' : leaf_size,\n",
        "                            'p':Distance}]\n",
        "\n",
        "        clf = creat_Model (classifier = KNeighborsClassifier(),                     #create the model \n",
        "                          X_Train = X_Train,\n",
        "                          Y_Train = Y_Train,\n",
        "                          tuned_parameters = tuned_parameters,\n",
        "                          verbose=0)\n",
        "\n",
        "        tn, fp, fn, tp, roc_auc, fpr, tpr = metrics (y_true = Y_Test,               #get the values of  model evaluation \n",
        "                                                    y_pred = clf.predict(X_Test),\n",
        "                                                    probas_ = clf.predict_proba(X_Test), \n",
        "                                                    tprs = tprs,\n",
        "                                                    mean_fpr = mean_fpr)\n",
        "        tprs.append(interp(mean_fpr, fpr, tpr))                                     \n",
        "        tprs[-1][0] = 0.0\n",
        "        aucs_kNN.append(roc_auc)\n",
        "        plot_Current_ROC (fpr,tpr,iterator,roc_auc)                                 #plot the roc of current fold\n",
        "        iterator += 1\n",
        "        plot_confusion_matrix(clf, X_Test, Y_Test)\n",
        "        TN.append(tn)\n",
        "        FP.append(fp)\n",
        "        FN.append(fn)\n",
        "        TP.append(tp)\n",
        "        Accuracy.append(accuracy_score(Y_Test, clf.predict(X_Test)))\n",
        "    average_ROC(mean_fpr,tprs,aucs_kNN,TP,TN,FP,FN)                                 #plot average roc curve\n",
        "    average_performance(aucs_kNN,Accuracy,TP,TN,FP,FN, target_col)                  #print the average performance of the model   \n",
        "    knn_res[target_col+'_KNN'] = Accuracy"
      ],
      "execution_count": 12,
      "outputs": []
    },
    {
      "cell_type": "markdown",
      "metadata": {
        "id": "fkzO1gNx5Tgd"
      },
      "source": [
        "## Decision Tree"
      ]
    },
    {
      "cell_type": "code",
      "metadata": {
        "id": "D1ynAB2l5eHZ"
      },
      "source": [
        "def clf_DT(X_Data, Y_Lavel, target_col):\n",
        "\n",
        "  Accuracy = []                                                                # for store the value of accuracy \n",
        "  FP = []                                                                      # for store False Positive \n",
        "  TN = []                                                                      # for True Negative\n",
        "  FN = []                                                                      # for False Negative\n",
        "  TP = []                                                                      # for True Positive\n",
        "  tprs = []                                                                    # for true positive rates\n",
        "  aucs_Tree = []                                                               # for store the values of auc of tree model\n",
        "  iterator=0\n",
        "  mean_fpr = np.linspace(0, 1, 100)\n",
        "  fig = plt.figure(figsize=(8, 5))\n",
        "\n",
        "  for train_index, test_index in kf.split(X_Data,Y_Lavel):\n",
        "      #   print(\"TRAIN:\", train_index, \"TEST:\", test_index)\n",
        "      X_Train, X_Test = X_Data[train_index], X_Data[test_index]\n",
        "      Y_Train, Y_Test = Y_Lavel[train_index], Y_Lavel[test_index]\n",
        "\n",
        "                                                                              # define the decision tree parameters \n",
        "\n",
        "      tuned_parameters = {'criterion': ['gini','entropy'],\n",
        "                        'splitter': ['best'],\n",
        "                        'min_samples_split':[0.1,0.2,0.3,0.4,0.5,0.6,0.7,0.8,0.9,1.0],\n",
        "                        'min_samples_leaf': [1,2,3,4,5] }\n",
        "\n",
        "      clf = creat_Model (classifier = DecisionTreeClassifier( random_state=random_initializer),\n",
        "                        X_Train = X_Train,                                    # create the model using DecisionTree Classifier \n",
        "                        Y_Train = Y_Train,\n",
        "                        tuned_parameters = tuned_parameters,\n",
        "                        verbose=0)\n",
        "\n",
        "      tn, fp, fn, tp, roc_auc, fpr, tpr = metrics (y_true = Y_Test,           #get the evaluation parameters of model\n",
        "                                                  y_pred = clf.predict(X_Test),\n",
        "                                                  probas_ = clf.predict_proba(X_Test),\n",
        "                                                  tprs = tprs, \n",
        "                                                  mean_fpr = mean_fpr)\n",
        "      tprs.append(interp(mean_fpr, fpr, tpr))\n",
        "      tprs[-1][0] = 0.0\n",
        "      aucs_Tree.append(roc_auc)                                                # plot the roc of current fold\n",
        "      iterator += 1\n",
        "      TN.append(tn)\n",
        "      FP.append(fp)\n",
        "      FN.append(fn)\n",
        "      TP.append(tp)\n",
        "      Accuracy.append(accuracy_score(Y_Test, clf.predict(X_Test)))\n",
        "  average_ROC(mean_fpr,tprs,aucs_Tree,TP,TN,FP,FN)                             #plot average roc curve\n",
        "  average_performance(aucs_Tree,Accuracy,TP,TN,FP,FN, target_col)                          #print the average performance of the model"
      ],
      "execution_count": 13,
      "outputs": []
    },
    {
      "cell_type": "markdown",
      "metadata": {
        "id": "ErKErG555xGZ"
      },
      "source": [
        "## Random Forest"
      ]
    },
    {
      "cell_type": "code",
      "metadata": {
        "id": "lKmfWVqn54Yg"
      },
      "source": [
        "def clf_RF(X_Data, Y_Lavel, target_col):\n",
        "  Accuracy = []                                                                # for store the value of accuracy \n",
        "  FP = []                                                                      # for store False Positive \n",
        "  TN = []                                                                      # for True Negative\n",
        "  FN = []                                                                      # for False Negative\n",
        "  TP = []                                                                      # for True Positive\n",
        "  tprs = []                                                                    # for true positive rates\n",
        "  aucs_Forest = []                                                             # for store the values of auc of Random Forest model\n",
        "  iterator=0\n",
        "  mean_fpr = np.linspace(0, 1, 100)\n",
        "  fig = plt.figure(figsize=(8, 5))\n",
        "\n",
        "  for train_index, test_index in kf.split(X_Data,Y_Lavel):                     #split dataset into train /test\n",
        "  #   print(\"TRAIN:\", train_index, \"TEST:\", test_index)\n",
        "      X_Train, X_Test = X_Data[train_index], X_Data[test_index]                # data and label of train dataset\n",
        "      Y_Train, Y_Test = Y_Lavel[train_index], Y_Lavel[test_index]              # data and label of test dataset\n",
        "\n",
        "      # parameters of Random Forest model\n",
        "      tuned_parameters = {'criterion': ['gini','entropy']}\n",
        "\n",
        "      clf = creat_Model (classifier = RandomForestClassifier( random_state=random_initializer),\n",
        "                        X_Train = X_Train,                                      # create a model using random forest classifier\n",
        "                        Y_Train = Y_Train,\n",
        "                        tuned_parameters = tuned_parameters,\n",
        "                        verbose=0)\n",
        "\n",
        "      tn, fp, fn, tp, roc_auc, fpr, tpr = metrics (y_true = Y_Test,              #evaluation parameters of random forest model\n",
        "                                                  y_pred = clf.predict(X_Test),\n",
        "                                                  probas_ = clf.predict_proba(X_Test),\n",
        "                                                  tprs = tprs, \n",
        "                                                  mean_fpr = mean_fpr)\n",
        "      tprs.append(interp(mean_fpr, fpr, tpr))\n",
        "      tprs[-1][0] = 0.0\n",
        "      aucs_Forest.append(roc_auc)\n",
        "      plot_Current_ROC (fpr,tpr,iterator,roc_auc)                               #plot the roc of current fold\n",
        "      iterator += 1\n",
        "      TN.append(tn)\n",
        "      FP.append(fp)\n",
        "      FN.append(fn)\n",
        "      TP.append(tp)\n",
        "      Accuracy.append(accuracy_score(Y_Test, clf.predict(X_Test)))\n",
        "  average_ROC(mean_fpr,tprs,aucs_Forest,TP,TN,FP,FN)                            #plot average roc curve\n",
        "  average_performance(aucs_Forest,Accuracy,TP,TN,FP,FN, target_col)                         #print the average performance of the model"
      ],
      "execution_count": 14,
      "outputs": []
    },
    {
      "cell_type": "markdown",
      "metadata": {
        "id": "bGhn4vnO6K3l"
      },
      "source": [
        "## AdaBoost"
      ]
    },
    {
      "cell_type": "code",
      "metadata": {
        "id": "0SfVImwq6WGh"
      },
      "source": [
        "def clf_AB(X_Data, Y_Lavel, target_col):\n",
        "  Accuracy = []                                                                # for store the value of accuracy \n",
        "  FP = []                                                                      # for store False Positive \n",
        "  TN = []                                                                      # for True Negative\n",
        "  FN = []                                                                      # for False Negative\n",
        "  TP = []                                                                      # for True Positive\n",
        "  tprs = []                                                                    # for true positive rates\n",
        "  aucs_aBoost = []                                                             # for store the values of auc of Adaboost model\n",
        "  iterator=0\n",
        "\n",
        "  mean_fpr = np.linspace(0, 1, 100)\n",
        "  fig = plt.figure(figsize=(8, 5))\n",
        "\n",
        "\n",
        "  for train_index, test_index in kf.split(X_Data,Y_Lavel):                     #split into train and test \n",
        "      #   print(\"TRAIN:\", train_index, \"TEST:\", test_index)\n",
        "      X_Train, X_Test = X_Data[train_index], X_Data[test_index]                #data and label\n",
        "      Y_Train, Y_Test = Y_Lavel[train_index], Y_Lavel[test_index]              #data and label\n",
        "\n",
        "      #####################################################\n",
        "      # define the parameters of adaboost algorithm\n",
        "      #####################################################\n",
        "      tuned_parameters = { 'algorithm': ['SAMME','SAMME.R'],\n",
        "                        'learning_rate':[0.1,0.5,1.0],\n",
        "                        'n_estimators': [10,50,100,200]}\n",
        "\n",
        "      \n",
        "      clf = creat_Model (classifier = AdaBoostClassifier( random_state=random_initializer),\n",
        "                        X_Train = X_Train,                                      # create a model using  AdaBoost Classifier\n",
        "                        Y_Train = Y_Train,\n",
        "                        tuned_parameters = tuned_parameters,\n",
        "                        verbose=0)\n",
        "      tn, fp, fn, tp, roc_auc, fpr, tpr = metrics (y_true = Y_Test,             # model evaluation parametrs\n",
        "                                                  y_pred = clf.predict(X_Test),\n",
        "                                                  probas_ = clf.predict_proba(X_Test),\n",
        "                                                  tprs = tprs, \n",
        "                                                  mean_fpr = mean_fpr)\n",
        "      tprs.append(interp(mean_fpr, fpr, tpr))\n",
        "      tprs[-1][0] = 0.0\n",
        "      aucs_aBoost.append(roc_auc)\n",
        "      plot_Current_ROC (fpr,tpr,iterator,roc_auc)                              #plot the roc of current fold\n",
        "      iterator += 1\n",
        "      TN.append(tn)\n",
        "      FP.append(fp)\n",
        "      FN.append(fn)\n",
        "      TP.append(tp)\n",
        "      Accuracy.append(accuracy_score(Y_Test, clf.predict(X_Test)))\n",
        "  average_ROC(mean_fpr,tprs,aucs_aBoost,TP,TN,FP,FN)                           #plot average roc curve\n",
        "  average_performance(aucs_aBoost,Accuracy,TP,TN,FP,FN, target_col)                        #print the average performance of the model"
      ],
      "execution_count": 15,
      "outputs": []
    },
    {
      "cell_type": "markdown",
      "metadata": {
        "id": "P74ZUthv62Vo"
      },
      "source": [
        "## Naive Bayes"
      ]
    },
    {
      "cell_type": "code",
      "metadata": {
        "id": "aGSIcPav67nG"
      },
      "source": [
        "def clf_NB(X_Data, Y_Lavel, target_col):\n",
        "  Accuracy = []                                                                # for store the value of accuracy \n",
        "  FP = []                                                                      # for store False Positive \n",
        "  TN = []                                                                      # for True Negative\n",
        "  FN = []                                                                      # for False Negative\n",
        "  TP = []                                                                      # for True Positive\n",
        "  tprs = []                                                                    # for true positive rates\n",
        "  aucs_NB = []                                                                 # for store the values of auc of  model\n",
        "  iterator=0\n",
        "\n",
        "  mean_fpr = np.linspace(0, 1, 100) \n",
        "  fig = plt.figure(figsize=(8, 5))\n",
        "\n",
        "\n",
        "  for train_index, test_index in kf.split(X_Data,Y_Lavel):                     #split into train and test\n",
        "  #   print(\"TRAIN:\", train_index, \"TEST:\", test_index)\n",
        "      X_Train, X_Test = X_Data[train_index], X_Data[test_index]                #train data and label\n",
        "      Y_Train, Y_Test = Y_Lavel[train_index], Y_Lavel[test_index]              #test  data and label\n",
        "\n",
        "\n",
        "      #############################################\n",
        "      # define parameters of Naive Bayes model \n",
        "      ############################################\n",
        "      var_smoothing = [1e-01,\n",
        "                      1e-02,\n",
        "                      1e-03,\n",
        "                      1e-04,\n",
        "                      1e-05,\n",
        "                      1e-06,\n",
        "                      1e-07,\n",
        "                      1e-08,\n",
        "                      1e-09,\n",
        "                      1e-10,\n",
        "                      1e-11,\n",
        "                      1e-12]\n",
        "\n",
        "      tuned_parameters = [{'var_smoothing': var_smoothing}]\n",
        "\n",
        "      #############################################################\n",
        "      clf = creat_Model (classifier = GaussianNB(),                             # create model using Naive Bias\n",
        "                        X_Train = X_Train,\n",
        "                        Y_Train = Y_Train,\n",
        "                        tuned_parameters = tuned_parameters,\n",
        "                        verbose=0)\n",
        "      tn, fp, fn, tp, roc_auc, fpr, tpr = metrics (y_true = Y_Test,             # model evaluation parameters\n",
        "                                                  y_pred = clf.predict(X_Test),\n",
        "                                                  probas_ = clf.predict_proba(X_Test),\n",
        "                                                  tprs = tprs, \n",
        "                                                  mean_fpr = mean_fpr)\n",
        "      tprs.append(interp(mean_fpr, fpr, tpr))\n",
        "      tprs[-1][0] = 0.0\n",
        "      aucs_NB.append(roc_auc)\n",
        "      plot_Current_ROC (fpr,tpr,iterator,roc_auc)                               #plot the roc of current fold\n",
        "      iterator += 1\n",
        "      TN.append(tn)\n",
        "      FP.append(fp)\n",
        "      FN.append(fn)\n",
        "      TP.append(tp)\n",
        "      Accuracy.append(accuracy_score(Y_Test, clf.predict(X_Test)))\n",
        "  average_ROC(mean_fpr,tprs,aucs_NB,TP,TN,FP,FN)                               #plot average roc curve\n",
        "  average_performance(aucs_NB,Accuracy,TP,TN,FP,FN, target_col)                            #print the average performance of the model"
      ],
      "execution_count": 16,
      "outputs": []
    },
    {
      "cell_type": "markdown",
      "metadata": {
        "id": "6UhhU-hY7Mbk"
      },
      "source": [
        "## XGBoost"
      ]
    },
    {
      "cell_type": "code",
      "metadata": {
        "id": "a8XPonAI7XKk"
      },
      "source": [
        "def clf_XGB(X_Data, Y_Lavel, target_col):\n",
        "  Accuracy = []                                                                # for store the value of accuracy \n",
        "  FP = []                                                                      # for store False Positive \n",
        "  TN = []                                                                      # for True Negative\n",
        "  FN = []                                                                      # for False Negative\n",
        "  TP = []                                                                      # for True Positive\n",
        "  tprs = []                                                                    # for true positive rates\n",
        "  aucs_xboost = []                                                                # for store the values of auc\n",
        "  sn = []                                                                      # for sensitivity \n",
        "  sp = []                                                                      # for specificity\n",
        "  pr = []                                                                      # for precision\n",
        "  FOR = []                                                                     # for False omission rate \n",
        "  DOR = []                                                                     # for Diagnostic odds ratio (DOR)\n",
        "  iterator=0\n",
        "  mean_fpr = np.linspace(0, 1, 100)\n",
        "  fig = plt.figure(figsize=(8, 5))\n",
        "\n",
        "\n",
        "  for train_index, test_index in kf.split(X_Data,Y_Lavel):                     # split into train and test\n",
        "  #   print(\"TRAIN:\", train_index, \"TEST:\", test_index)\n",
        "      X_Train, X_Test = X_Data[train_index], X_Data[test_index]                #train data and label\n",
        "      Y_Train, Y_Test = Y_Lavel[train_index], Y_Lavel[test_index]              #test data and label\n",
        "\n",
        "      #####################################\n",
        "      ## define the parameters \n",
        "      ######################################\n",
        "      tuned_parameters = {\n",
        "          'min_child_weight': [1, 5, 10],\n",
        "          'gamma': [0.5, 1, 1.5, 2, 5],\n",
        "          'subsample': [0.5, 1.0],\n",
        "          'colsample_bytree': [0.6, 0.8, 1.0],\n",
        "          'max_depth': [3, 4, 5]\n",
        "          }\n",
        "\n",
        "      clf = creat_Model (classifier = xgb.XGBClassifier(objective = \"binary:logistic\", eval_metric = 'error', random_state=random_initializer),\n",
        "                        X_Train = X_Train,                                        # create model using XGB classifier \n",
        "                        Y_Train = Y_Train,\n",
        "                        tuned_parameters = tuned_parameters,\n",
        "                        verbose=0)\n",
        "      tn, fp, fn, tp, roc_auc, fpr, tpr = metrics (y_true = Y_Test,               #evaluate the model parameters\n",
        "                                                  y_pred = clf.predict(X_Test),\n",
        "                                                  probas_ = clf.predict_proba(X_Test),\n",
        "                                                  tprs = tprs, \n",
        "                                                  mean_fpr = mean_fpr)\n",
        "      tprs.append(interp(mean_fpr, fpr, tpr))\n",
        "      tprs[-1][0] = 0.0\n",
        "      aucs_xboost.append(roc_auc)\n",
        "      plot_Current_ROC(fpr,tpr,iterator,roc_auc)                                  #plot the roc of current fold \n",
        "      iterator += 1\n",
        "      TN.append(tn)\n",
        "      FP.append(fp)\n",
        "      FN.append(fn)\n",
        "      TP.append(tp)\n",
        "      Accuracy.append(accuracy_score(Y_Test, clf.predict(X_Test)))\n",
        "      sn.append(tp/(tp+fn))\n",
        "      sp.append(tn/(fp+tn))\n",
        "      pr.append(tp/(tp+fp))\n",
        "      FOR.append(fn/(tn+fn))\n",
        "      DOR.append((tp*tn)/(fp*fn))\n",
        "\n",
        "  average_ROC(mean_fpr,tprs,aucs_xboost,TP,TN,FP,FN)                              #plot average roc curve\n",
        "  average_performance(aucs_xboost,Accuracy,TP,TN,FP,FN, target_col)               #print the average performance of the model\n",
        "\n",
        "  #####################################################################\n",
        "  #    print the sensitivity,specificity,precision,for,dor of model\n",
        "  #####################################################################\n",
        "  print(\"Sensitivity (Avg. +/- Std.) is  %0.3f +/- %0.3f\" %(np.mean(sn),np.std(sn)))\n",
        "  print(\"Specificity (Avg. +/- Std.) is  %0.3f +/- %0.3f\" %(np.mean(sp),np.std(sp)))\n",
        "  print(\"Precision (Avg. +/- Std.) is  %0.3f +/- %0.3f\" %(np.mean(pr),np.std(pr)))\n",
        "  print(\"FOR (Avg. +/- Std.) is  %0.3f +/- %0.3f\" %(np.mean(FOR),np.std(FOR)))\n",
        "  print(\"DOR (Avg. +/- Std.) is  %0.3f +/- %0.3f\" %(np.mean(DOR),np.std(DOR)))"
      ],
      "execution_count": 17,
      "outputs": []
    },
    {
      "cell_type": "markdown",
      "metadata": {
        "id": "-SsUKyeshx41"
      },
      "source": [
        "# With BloodPressure as Target"
      ]
    },
    {
      "cell_type": "code",
      "metadata": {
        "colab": {
          "base_uri": "https://localhost:8080/"
        },
        "id": "Sr1VI20Utwf6",
        "scrolled": true,
        "outputId": "f2ea5653-4d8f-4d80-df8a-60db120b6d75"
      },
      "source": [
        "data_BP.head(), data_BP.shape"
      ],
      "execution_count": 18,
      "outputs": [
        {
          "output_type": "execute_result",
          "data": {
            "text/plain": [
              "(   Pregnancies  Glucose  ...   Age  BloodPressure\n",
              " 0          6.0    148.0  ...  50.0           72.0\n",
              " 1          1.0     85.0  ...  31.0           66.0\n",
              " 2          8.0    183.0  ...  32.0           64.0\n",
              " 3          1.0     89.0  ...  21.0           66.0\n",
              " 4          5.0    116.0  ...  30.0           74.0\n",
              " \n",
              " [5 rows x 9 columns], (636, 9))"
            ]
          },
          "metadata": {},
          "execution_count": 18
        }
      ]
    },
    {
      "cell_type": "code",
      "metadata": {
        "id": "T1R64Mjrhx42"
      },
      "source": [
        "def categorize_BP(data_BP):\n",
        "    \n",
        "    BP = \"BloodPressure\"\n",
        "    try:\n",
        "        norm_i = data_BP.loc[(data_BP[BP] <= 80)] #diastolic less than 80 is normal\n",
        "        #elevated_i = data_BP.loc[(data_BP[BP] > 80) & (data_BP[BP] < 90)] #diastolic between 80 and 89 is elevated\n",
        "        high_i =  data_BP.loc[data_BP[BP] > 80] #diastolic greater than 80 is high\n",
        " \n",
        "        data_BP[BP][norm_i.index] = 0\n",
        "        #data_BP[BP][elevated_i.index] = 2\n",
        "        data_BP[BP][high_i.index] = 1\n",
        "     \n",
        "    except:\n",
        "        pass\n",
        "    \n",
        "    return data_BP"
      ],
      "execution_count": 19,
      "outputs": []
    },
    {
      "cell_type": "code",
      "metadata": {
        "id": "NCUqhRgVhx43"
      },
      "source": [
        "data_BP = categorize_BP(data_BP)"
      ],
      "execution_count": 20,
      "outputs": []
    },
    {
      "cell_type": "code",
      "metadata": {
        "colab": {
          "base_uri": "https://localhost:8080/",
          "height": 419
        },
        "id": "yRgvgFqKYVs4",
        "outputId": "df3d7f62-a69e-49fc-ab45-6fef22827833"
      },
      "source": [
        "#Augmentation\n",
        "smote = SMOTE()\n",
        "X = np.array(data_BP.iloc[:,0:8])\n",
        "y = np.array(data_BP.iloc[:,8])\n",
        "X, y = smote.fit_resample(X, y)\n",
        "data_BP = pd.DataFrame(X)\n",
        "data_BP['BloodPressure'] = y\n",
        "data_BP"
      ],
      "execution_count": 21,
      "outputs": [
        {
          "output_type": "execute_result",
          "data": {
            "text/html": [
              "<div>\n",
              "<style scoped>\n",
              "    .dataframe tbody tr th:only-of-type {\n",
              "        vertical-align: middle;\n",
              "    }\n",
              "\n",
              "    .dataframe tbody tr th {\n",
              "        vertical-align: top;\n",
              "    }\n",
              "\n",
              "    .dataframe thead th {\n",
              "        text-align: right;\n",
              "    }\n",
              "</style>\n",
              "<table border=\"1\" class=\"dataframe\">\n",
              "  <thead>\n",
              "    <tr style=\"text-align: right;\">\n",
              "      <th></th>\n",
              "      <th>0</th>\n",
              "      <th>1</th>\n",
              "      <th>2</th>\n",
              "      <th>3</th>\n",
              "      <th>4</th>\n",
              "      <th>5</th>\n",
              "      <th>6</th>\n",
              "      <th>7</th>\n",
              "      <th>BloodPressure</th>\n",
              "    </tr>\n",
              "  </thead>\n",
              "  <tbody>\n",
              "    <tr>\n",
              "      <th>0</th>\n",
              "      <td>6.000000</td>\n",
              "      <td>148.000000</td>\n",
              "      <td>1.000000</td>\n",
              "      <td>35.000000</td>\n",
              "      <td>171.474227</td>\n",
              "      <td>33.600000</td>\n",
              "      <td>0.627000</td>\n",
              "      <td>50.000000</td>\n",
              "      <td>0.0</td>\n",
              "    </tr>\n",
              "    <tr>\n",
              "      <th>1</th>\n",
              "      <td>1.000000</td>\n",
              "      <td>85.000000</td>\n",
              "      <td>0.000000</td>\n",
              "      <td>29.000000</td>\n",
              "      <td>113.606695</td>\n",
              "      <td>26.600000</td>\n",
              "      <td>0.351000</td>\n",
              "      <td>31.000000</td>\n",
              "      <td>0.0</td>\n",
              "    </tr>\n",
              "    <tr>\n",
              "      <th>2</th>\n",
              "      <td>8.000000</td>\n",
              "      <td>183.000000</td>\n",
              "      <td>1.000000</td>\n",
              "      <td>32.059259</td>\n",
              "      <td>171.474227</td>\n",
              "      <td>23.300000</td>\n",
              "      <td>0.672000</td>\n",
              "      <td>32.000000</td>\n",
              "      <td>0.0</td>\n",
              "    </tr>\n",
              "    <tr>\n",
              "      <th>3</th>\n",
              "      <td>1.000000</td>\n",
              "      <td>89.000000</td>\n",
              "      <td>0.000000</td>\n",
              "      <td>23.000000</td>\n",
              "      <td>94.000000</td>\n",
              "      <td>28.100000</td>\n",
              "      <td>0.167000</td>\n",
              "      <td>21.000000</td>\n",
              "      <td>0.0</td>\n",
              "    </tr>\n",
              "    <tr>\n",
              "      <th>4</th>\n",
              "      <td>5.000000</td>\n",
              "      <td>116.000000</td>\n",
              "      <td>0.000000</td>\n",
              "      <td>27.094512</td>\n",
              "      <td>113.606695</td>\n",
              "      <td>25.600000</td>\n",
              "      <td>0.201000</td>\n",
              "      <td>30.000000</td>\n",
              "      <td>0.0</td>\n",
              "    </tr>\n",
              "    <tr>\n",
              "      <th>...</th>\n",
              "      <td>...</td>\n",
              "      <td>...</td>\n",
              "      <td>...</td>\n",
              "      <td>...</td>\n",
              "      <td>...</td>\n",
              "      <td>...</td>\n",
              "      <td>...</td>\n",
              "      <td>...</td>\n",
              "      <td>...</td>\n",
              "    </tr>\n",
              "    <tr>\n",
              "      <th>1003</th>\n",
              "      <td>6.637073</td>\n",
              "      <td>151.274147</td>\n",
              "      <td>1.000000</td>\n",
              "      <td>32.059259</td>\n",
              "      <td>171.474227</td>\n",
              "      <td>27.824546</td>\n",
              "      <td>0.376029</td>\n",
              "      <td>56.780683</td>\n",
              "      <td>1.0</td>\n",
              "    </tr>\n",
              "    <tr>\n",
              "      <th>1004</th>\n",
              "      <td>3.396468</td>\n",
              "      <td>123.390581</td>\n",
              "      <td>0.600589</td>\n",
              "      <td>20.405298</td>\n",
              "      <td>148.994113</td>\n",
              "      <td>33.661236</td>\n",
              "      <td>0.346683</td>\n",
              "      <td>38.801766</td>\n",
              "      <td>1.0</td>\n",
              "    </tr>\n",
              "    <tr>\n",
              "      <th>1005</th>\n",
              "      <td>3.602990</td>\n",
              "      <td>83.404486</td>\n",
              "      <td>0.000000</td>\n",
              "      <td>23.595514</td>\n",
              "      <td>54.411962</td>\n",
              "      <td>39.241944</td>\n",
              "      <td>0.186294</td>\n",
              "      <td>24.602990</td>\n",
              "      <td>1.0</td>\n",
              "    </tr>\n",
              "    <tr>\n",
              "      <th>1006</th>\n",
              "      <td>2.000000</td>\n",
              "      <td>129.379214</td>\n",
              "      <td>0.000000</td>\n",
              "      <td>27.094512</td>\n",
              "      <td>113.606695</td>\n",
              "      <td>25.952245</td>\n",
              "      <td>0.277933</td>\n",
              "      <td>24.724716</td>\n",
              "      <td>1.0</td>\n",
              "    </tr>\n",
              "    <tr>\n",
              "      <th>1007</th>\n",
              "      <td>5.224175</td>\n",
              "      <td>134.203173</td>\n",
              "      <td>1.000000</td>\n",
              "      <td>49.591942</td>\n",
              "      <td>227.978998</td>\n",
              "      <td>44.020831</td>\n",
              "      <td>0.642283</td>\n",
              "      <td>40.387056</td>\n",
              "      <td>1.0</td>\n",
              "    </tr>\n",
              "  </tbody>\n",
              "</table>\n",
              "<p>1008 rows × 9 columns</p>\n",
              "</div>"
            ],
            "text/plain": [
              "             0           1         2  ...         6          7  BloodPressure\n",
              "0     6.000000  148.000000  1.000000  ...  0.627000  50.000000            0.0\n",
              "1     1.000000   85.000000  0.000000  ...  0.351000  31.000000            0.0\n",
              "2     8.000000  183.000000  1.000000  ...  0.672000  32.000000            0.0\n",
              "3     1.000000   89.000000  0.000000  ...  0.167000  21.000000            0.0\n",
              "4     5.000000  116.000000  0.000000  ...  0.201000  30.000000            0.0\n",
              "...        ...         ...       ...  ...       ...        ...            ...\n",
              "1003  6.637073  151.274147  1.000000  ...  0.376029  56.780683            1.0\n",
              "1004  3.396468  123.390581  0.600589  ...  0.346683  38.801766            1.0\n",
              "1005  3.602990   83.404486  0.000000  ...  0.186294  24.602990            1.0\n",
              "1006  2.000000  129.379214  0.000000  ...  0.277933  24.724716            1.0\n",
              "1007  5.224175  134.203173  1.000000  ...  0.642283  40.387056            1.0\n",
              "\n",
              "[1008 rows x 9 columns]"
            ]
          },
          "metadata": {},
          "execution_count": 21
        }
      ]
    },
    {
      "cell_type": "code",
      "metadata": {
        "colab": {
          "base_uri": "https://localhost:8080/"
        },
        "id": "z9midecChx44",
        "outputId": "68275c76-5b8e-4e76-ab51-8a14bcaf9999"
      },
      "source": [
        "data_BP.BloodPressure.value_counts()"
      ],
      "execution_count": 22,
      "outputs": [
        {
          "output_type": "execute_result",
          "data": {
            "text/plain": [
              "1.0    504\n",
              "0.0    504\n",
              "Name: BloodPressure, dtype: int64"
            ]
          },
          "metadata": {},
          "execution_count": 22
        }
      ]
    },
    {
      "cell_type": "code",
      "metadata": {
        "id": "LXpvMzadhx45"
      },
      "source": [
        "data_BP.columns = ['F' + str(i) for i in range(1,9)]+['Outcome'] #Renaming"
      ],
      "execution_count": 23,
      "outputs": []
    },
    {
      "cell_type": "code",
      "metadata": {
        "id": "Eerd4pjVhx45"
      },
      "source": [
        "X_Data,Y_Lavel = feature_Selector(data_BP, algo='PCA', n_feature=8)  "
      ],
      "execution_count": 37,
      "outputs": []
    },
    {
      "cell_type": "code",
      "metadata": {
        "colab": {
          "base_uri": "https://localhost:8080/"
        },
        "id": "wmLtRnM9hx45",
        "scrolled": true,
        "outputId": "cf574f9b-a9be-4954-f597-4ee2da9c51f3"
      },
      "source": [
        "np.unique(Y_Lavel,return_counts = True)"
      ],
      "execution_count": null,
      "outputs": [
        {
          "output_type": "execute_result",
          "data": {
            "text/plain": [
              "(array([0., 1.]), array([504, 504]))"
            ]
          },
          "metadata": {},
          "execution_count": 210
        }
      ]
    },
    {
      "cell_type": "markdown",
      "metadata": {
        "id": "Lo6UwJM9wEYU"
      },
      "source": [
        "#### Analyzing **KNN**"
      ]
    },
    {
      "cell_type": "code",
      "metadata": {
        "id": "ja0vlEwcIaEH"
      },
      "source": [
        "clf_KNN(X_Data, Y_Lavel, 'BloodPressure')"
      ],
      "execution_count": null,
      "outputs": []
    },
    {
      "cell_type": "markdown",
      "metadata": {
        "id": "rRBCrG0g7rVW"
      },
      "source": [
        "#### Analyzing **Decision Trees**"
      ]
    },
    {
      "cell_type": "code",
      "metadata": {
        "id": "plku1Joy79bq"
      },
      "source": [
        "clf_DT(X_Data, Y_Lavel, 'BloodPressure')"
      ],
      "execution_count": null,
      "outputs": []
    },
    {
      "cell_type": "markdown",
      "metadata": {
        "id": "TqySfVdpCoE3"
      },
      "source": [
        "#### Analyzing **Random Forest**"
      ]
    },
    {
      "cell_type": "code",
      "metadata": {
        "id": "20CxA0gqCyQm",
        "colab": {
          "base_uri": "https://localhost:8080/",
          "height": 1000
        },
        "outputId": "d68533f5-e478-4a4b-d2fe-1e8f2b00c57b"
      },
      "source": [
        "clf_RF(X_Data, Y_Lavel, 'BloodPressure')"
      ],
      "execution_count": 36,
      "outputs": [
        {
          "output_type": "stream",
          "name": "stdout",
          "text": [
            "--------------------------------------------------\n",
            "Detailed classification report for current fold:\n",
            "\n",
            "              precision    recall  f1-score   support\n",
            "\n",
            "         0.0       0.83      0.79      0.81       101\n",
            "         1.0       0.80      0.84      0.82       101\n",
            "\n",
            "    accuracy                           0.82       202\n",
            "   macro avg       0.82      0.82      0.82       202\n",
            "weighted avg       0.82      0.82      0.82       202\n",
            "\n",
            "\n",
            "Area Under ROC (AUC): 0.9015782766395452\n",
            "\n",
            "Confusion Matrix for current fold: \n",
            "[[80 21]\n",
            " [16 85]]\n",
            "\n",
            "Accuracy for Current Fold: 0.8168316831683168\n",
            "\n",
            "--------------------------------------------------\n",
            "Detailed classification report for current fold:\n",
            "\n",
            "              precision    recall  f1-score   support\n",
            "\n",
            "         0.0       0.85      0.71      0.77       101\n",
            "         1.0       0.75      0.87      0.81       101\n",
            "\n",
            "    accuracy                           0.79       202\n",
            "   macro avg       0.80      0.79      0.79       202\n",
            "weighted avg       0.80      0.79      0.79       202\n",
            "\n",
            "\n",
            "Area Under ROC (AUC): 0.8759435349475542\n",
            "\n",
            "Confusion Matrix for current fold: \n",
            "[[72 29]\n",
            " [13 88]]\n",
            "\n",
            "Accuracy for Current Fold: 0.7920792079207921\n",
            "\n",
            "--------------------------------------------------\n",
            "Detailed classification report for current fold:\n",
            "\n",
            "              precision    recall  f1-score   support\n",
            "\n",
            "         0.0       0.80      0.72      0.76       101\n",
            "         1.0       0.75      0.82      0.78       101\n",
            "\n",
            "    accuracy                           0.77       202\n",
            "   macro avg       0.77      0.77      0.77       202\n",
            "weighted avg       0.77      0.77      0.77       202\n",
            "\n",
            "\n",
            "Area Under ROC (AUC): 0.8683952553671208\n",
            "\n",
            "Confusion Matrix for current fold: \n",
            "[[73 28]\n",
            " [18 83]]\n",
            "\n",
            "Accuracy for Current Fold: 0.7722772277227723\n",
            "\n",
            "--------------------------------------------------\n",
            "Detailed classification report for current fold:\n",
            "\n",
            "              precision    recall  f1-score   support\n",
            "\n",
            "         0.0       0.77      0.74      0.76       101\n",
            "         1.0       0.75      0.78      0.76       100\n",
            "\n",
            "    accuracy                           0.76       201\n",
            "   macro avg       0.76      0.76      0.76       201\n",
            "weighted avg       0.76      0.76      0.76       201\n",
            "\n",
            "\n",
            "Area Under ROC (AUC): 0.847079207920792\n",
            "\n",
            "Confusion Matrix for current fold: \n",
            "[[75 26]\n",
            " [22 78]]\n",
            "\n",
            "Accuracy for Current Fold: 0.7611940298507462\n",
            "\n",
            "--------------------------------------------------\n",
            "Detailed classification report for current fold:\n",
            "\n",
            "              precision    recall  f1-score   support\n",
            "\n",
            "         0.0       0.78      0.78      0.78       100\n",
            "         1.0       0.78      0.78      0.78       101\n",
            "\n",
            "    accuracy                           0.78       201\n",
            "   macro avg       0.78      0.78      0.78       201\n",
            "weighted avg       0.78      0.78      0.78       201\n",
            "\n",
            "\n",
            "Area Under ROC (AUC): 0.8556435643564356\n",
            "\n",
            "Confusion Matrix for current fold: \n",
            "[[78 22]\n",
            " [22 79]]\n",
            "\n",
            "Accuracy for Current Fold: 0.7810945273631841\n",
            "\n"
          ]
        },
        {
          "output_type": "display_data",
          "data": {
            "image/png": "[encoded data removed]",
            "text/plain": [
              "<Figure size 576x360 with 1 Axes>"
            ]
          },
          "metadata": {}
        },
        {
          "output_type": "stream",
          "name": "stdout",
          "text": [
            "\n",
            "---------------------Average---------------------\n",
            "AUC (Avg. +/- Std.) is  0.870 +/- 0.019\n",
            "Accuracy (Avg. +/- Std.) is  0.785 +/- 0.019\n",
            "Avg. CM is [[82, 25], [18, 75]]\n",
            "Total for all folds CM is [[413, 126], [91, 378]]\n"
          ]
        }
      ]
    },
    {
      "cell_type": "markdown",
      "metadata": {
        "id": "ObS0nyN5H1qb"
      },
      "source": [
        "#### Analyzing **AdaBoost**"
      ]
    },
    {
      "cell_type": "code",
      "metadata": {
        "id": "BXwutgp4H8uw"
      },
      "source": [
        "clf_AB(X_Data, Y_Lavel, 'BloodPressure')"
      ],
      "execution_count": null,
      "outputs": []
    },
    {
      "cell_type": "markdown",
      "metadata": {
        "id": "NI8OmhDlIt-f"
      },
      "source": [
        "#### Analyzing **Naive Bayes**"
      ]
    },
    {
      "cell_type": "code",
      "metadata": {
        "id": "UfxRBIB4IdgW"
      },
      "source": [
        "clf_NB(X_Data, Y_Lavel, 'BloodPressure')"
      ],
      "execution_count": null,
      "outputs": []
    },
    {
      "cell_type": "markdown",
      "metadata": {
        "id": "rkLrc60EJA6i"
      },
      "source": [
        "#### Analyzing **XGBoost**"
      ]
    },
    {
      "cell_type": "code",
      "metadata": {
        "id": "U4c2mzLpI9vd"
      },
      "source": [
        "clf_XGB(X_Data, Y_Lavel, 'BloodPressure')"
      ],
      "execution_count": null,
      "outputs": []
    },
    {
      "cell_type": "markdown",
      "metadata": {
        "id": "ruw9L1ZkwMkO"
      },
      "source": [
        "# With Glucose as Target"
      ]
    },
    {
      "cell_type": "code",
      "metadata": {
        "id": "5PqLKfiGzNqd"
      },
      "source": [
        "def categorize_GL(data_GL):\n",
        "    #Oral glucose tolerance test\n",
        "    GL = \"Glucose\"\n",
        "    try:\n",
        "        norm_i = data_GL.loc[(data_GL[GL] <= 140)] # normal\n",
        "        #elevated_i = data_GL.loc[(data_GL[GL] > 140) & (data_GL[GL] < 200)] #prediabetic\n",
        "        high_i =  data_GL.loc[data_GL[GL] > 140] #risk\n",
        "\n",
        "        data_GL[GL][norm_i.index] = 0\n",
        "        #data_GL[GL][elevated_i.index] = 2\n",
        "        data_GL[GL][high_i.index] = 1\n",
        "     \n",
        "    except:\n",
        "        pass\n",
        "    \n",
        "    return data_GL"
      ],
      "execution_count": 38,
      "outputs": []
    },
    {
      "cell_type": "code",
      "metadata": {
        "id": "eSpX-Hw-wpEI",
        "colab": {
          "base_uri": "https://localhost:8080/"
        },
        "outputId": "98cceb81-b5e1-4a27-a3d2-132135217fcf"
      },
      "source": [
        "data_GL = swap_col('Glucose')\n",
        "print(data_GL.head()), data_GL.shape"
      ],
      "execution_count": 45,
      "outputs": [
        {
          "output_type": "stream",
          "name": "stdout",
          "text": [
            "   Pregnancies  Diabetic  ...   Age  Glucose\n",
            "0          6.0         1  ...  50.0    148.0\n",
            "1          1.0         0  ...  31.0     85.0\n",
            "2          8.0         1  ...  32.0    183.0\n",
            "3          1.0         0  ...  21.0     89.0\n",
            "4          5.0         0  ...  30.0    116.0\n",
            "\n",
            "[5 rows x 9 columns]\n"
          ]
        },
        {
          "output_type": "execute_result",
          "data": {
            "text/plain": [
              "(None, (636, 9))"
            ]
          },
          "metadata": {},
          "execution_count": 45
        }
      ]
    },
    {
      "cell_type": "code",
      "metadata": {
        "id": "w6j5iDfuaorf"
      },
      "source": [
        "data_GL = categorize_GL(data_GL)"
      ],
      "execution_count": 46,
      "outputs": []
    },
    {
      "cell_type": "code",
      "metadata": {
        "id": "BqgwLxu5djXx",
        "colab": {
          "base_uri": "https://localhost:8080/",
          "height": 419
        },
        "outputId": "4aba70d3-ea84-4880-cd77-bd4e9c3538bd"
      },
      "source": [
        "#Augmentation\n",
        "smote = SMOTE()\n",
        "X = np.array(data_GL.iloc[:,0:8])\n",
        "y = np.array(data_GL.iloc[:,8])\n",
        "X, y = smote.fit_resample(X, y)\n",
        "data_GL = pd.DataFrame(X)\n",
        "data_GL['Glucose'] = y\n",
        "data_GL"
      ],
      "execution_count": 48,
      "outputs": [
        {
          "output_type": "execute_result",
          "data": {
            "text/html": [
              "<div>\n",
              "<style scoped>\n",
              "    .dataframe tbody tr th:only-of-type {\n",
              "        vertical-align: middle;\n",
              "    }\n",
              "\n",
              "    .dataframe tbody tr th {\n",
              "        vertical-align: top;\n",
              "    }\n",
              "\n",
              "    .dataframe thead th {\n",
              "        text-align: right;\n",
              "    }\n",
              "</style>\n",
              "<table border=\"1\" class=\"dataframe\">\n",
              "  <thead>\n",
              "    <tr style=\"text-align: right;\">\n",
              "      <th></th>\n",
              "      <th>0</th>\n",
              "      <th>1</th>\n",
              "      <th>2</th>\n",
              "      <th>3</th>\n",
              "      <th>4</th>\n",
              "      <th>5</th>\n",
              "      <th>6</th>\n",
              "      <th>7</th>\n",
              "      <th>Glucose</th>\n",
              "    </tr>\n",
              "  </thead>\n",
              "  <tbody>\n",
              "    <tr>\n",
              "      <th>0</th>\n",
              "      <td>6.000000</td>\n",
              "      <td>1.0</td>\n",
              "      <td>72.000000</td>\n",
              "      <td>35.000000</td>\n",
              "      <td>171.474227</td>\n",
              "      <td>33.600000</td>\n",
              "      <td>0.627000</td>\n",
              "      <td>50.000000</td>\n",
              "      <td>1.0</td>\n",
              "    </tr>\n",
              "    <tr>\n",
              "      <th>1</th>\n",
              "      <td>1.000000</td>\n",
              "      <td>0.0</td>\n",
              "      <td>66.000000</td>\n",
              "      <td>29.000000</td>\n",
              "      <td>113.606695</td>\n",
              "      <td>26.600000</td>\n",
              "      <td>0.351000</td>\n",
              "      <td>31.000000</td>\n",
              "      <td>0.0</td>\n",
              "    </tr>\n",
              "    <tr>\n",
              "      <th>2</th>\n",
              "      <td>8.000000</td>\n",
              "      <td>1.0</td>\n",
              "      <td>64.000000</td>\n",
              "      <td>32.059259</td>\n",
              "      <td>171.474227</td>\n",
              "      <td>23.300000</td>\n",
              "      <td>0.672000</td>\n",
              "      <td>32.000000</td>\n",
              "      <td>1.0</td>\n",
              "    </tr>\n",
              "    <tr>\n",
              "      <th>3</th>\n",
              "      <td>1.000000</td>\n",
              "      <td>0.0</td>\n",
              "      <td>66.000000</td>\n",
              "      <td>23.000000</td>\n",
              "      <td>94.000000</td>\n",
              "      <td>28.100000</td>\n",
              "      <td>0.167000</td>\n",
              "      <td>21.000000</td>\n",
              "      <td>0.0</td>\n",
              "    </tr>\n",
              "    <tr>\n",
              "      <th>4</th>\n",
              "      <td>5.000000</td>\n",
              "      <td>0.0</td>\n",
              "      <td>74.000000</td>\n",
              "      <td>27.094512</td>\n",
              "      <td>113.606695</td>\n",
              "      <td>25.600000</td>\n",
              "      <td>0.201000</td>\n",
              "      <td>30.000000</td>\n",
              "      <td>0.0</td>\n",
              "    </tr>\n",
              "    <tr>\n",
              "      <th>...</th>\n",
              "      <td>...</td>\n",
              "      <td>...</td>\n",
              "      <td>...</td>\n",
              "      <td>...</td>\n",
              "      <td>...</td>\n",
              "      <td>...</td>\n",
              "      <td>...</td>\n",
              "      <td>...</td>\n",
              "      <td>...</td>\n",
              "    </tr>\n",
              "    <tr>\n",
              "      <th>993</th>\n",
              "      <td>4.912569</td>\n",
              "      <td>0.0</td>\n",
              "      <td>60.912569</td>\n",
              "      <td>31.815574</td>\n",
              "      <td>122.174863</td>\n",
              "      <td>32.754236</td>\n",
              "      <td>0.693903</td>\n",
              "      <td>26.912569</td>\n",
              "      <td>1.0</td>\n",
              "    </tr>\n",
              "    <tr>\n",
              "      <th>994</th>\n",
              "      <td>7.177681</td>\n",
              "      <td>1.0</td>\n",
              "      <td>89.457855</td>\n",
              "      <td>33.292670</td>\n",
              "      <td>167.359622</td>\n",
              "      <td>30.628017</td>\n",
              "      <td>0.686444</td>\n",
              "      <td>55.915711</td>\n",
              "      <td>1.0</td>\n",
              "    </tr>\n",
              "    <tr>\n",
              "      <th>995</th>\n",
              "      <td>3.197891</td>\n",
              "      <td>1.0</td>\n",
              "      <td>70.000000</td>\n",
              "      <td>31.069873</td>\n",
              "      <td>171.474227</td>\n",
              "      <td>34.636145</td>\n",
              "      <td>0.246739</td>\n",
              "      <td>25.395782</td>\n",
              "      <td>1.0</td>\n",
              "    </tr>\n",
              "    <tr>\n",
              "      <th>996</th>\n",
              "      <td>7.399494</td>\n",
              "      <td>1.0</td>\n",
              "      <td>82.804048</td>\n",
              "      <td>32.035586</td>\n",
              "      <td>171.474227</td>\n",
              "      <td>31.198988</td>\n",
              "      <td>0.276059</td>\n",
              "      <td>46.201012</td>\n",
              "      <td>1.0</td>\n",
              "    </tr>\n",
              "    <tr>\n",
              "      <th>997</th>\n",
              "      <td>9.305581</td>\n",
              "      <td>1.0</td>\n",
              "      <td>74.041629</td>\n",
              "      <td>32.590347</td>\n",
              "      <td>277.062443</td>\n",
              "      <td>38.903499</td>\n",
              "      <td>0.649716</td>\n",
              "      <td>50.798491</td>\n",
              "      <td>1.0</td>\n",
              "    </tr>\n",
              "  </tbody>\n",
              "</table>\n",
              "<p>998 rows × 9 columns</p>\n",
              "</div>"
            ],
            "text/plain": [
              "            0    1          2  ...         6          7  Glucose\n",
              "0    6.000000  1.0  72.000000  ...  0.627000  50.000000      1.0\n",
              "1    1.000000  0.0  66.000000  ...  0.351000  31.000000      0.0\n",
              "2    8.000000  1.0  64.000000  ...  0.672000  32.000000      1.0\n",
              "3    1.000000  0.0  66.000000  ...  0.167000  21.000000      0.0\n",
              "4    5.000000  0.0  74.000000  ...  0.201000  30.000000      0.0\n",
              "..        ...  ...        ...  ...       ...        ...      ...\n",
              "993  4.912569  0.0  60.912569  ...  0.693903  26.912569      1.0\n",
              "994  7.177681  1.0  89.457855  ...  0.686444  55.915711      1.0\n",
              "995  3.197891  1.0  70.000000  ...  0.246739  25.395782      1.0\n",
              "996  7.399494  1.0  82.804048  ...  0.276059  46.201012      1.0\n",
              "997  9.305581  1.0  74.041629  ...  0.649716  50.798491      1.0\n",
              "\n",
              "[998 rows x 9 columns]"
            ]
          },
          "metadata": {},
          "execution_count": 48
        }
      ]
    },
    {
      "cell_type": "code",
      "metadata": {
        "id": "OAtsyAOOCFJb",
        "colab": {
          "base_uri": "https://localhost:8080/"
        },
        "outputId": "7846f0c4-b6ab-41ae-ae1f-f57ba8f5fbbe"
      },
      "source": [
        "data_GL.Glucose.value_counts()"
      ],
      "execution_count": 49,
      "outputs": [
        {
          "output_type": "execute_result",
          "data": {
            "text/plain": [
              "0.0    499\n",
              "1.0    499\n",
              "Name: Glucose, dtype: int64"
            ]
          },
          "metadata": {},
          "execution_count": 49
        }
      ]
    },
    {
      "cell_type": "code",
      "metadata": {
        "id": "DCrUBu0CCFJc"
      },
      "source": [
        "data_GL.columns = ['F' + str(i) for i in range(1,9)]+['Outcome'] #Renaming"
      ],
      "execution_count": 50,
      "outputs": []
    },
    {
      "cell_type": "code",
      "metadata": {
        "id": "GLo5e6rbDwPn"
      },
      "source": [
        "X_Data,Y_Lavel = feature_Selector(data_GL, algo='None', n_feature=8)  "
      ],
      "execution_count": 55,
      "outputs": []
    },
    {
      "cell_type": "markdown",
      "metadata": {
        "id": "-evipCEhS6Cb"
      },
      "source": [
        "#### Analyzing **KNN**"
      ]
    },
    {
      "cell_type": "code",
      "metadata": {
        "id": "jGR3mjBFS6Cr"
      },
      "source": [
        "clf_KNN(X_Data, Y_Lavel, 'Glucose')"
      ],
      "execution_count": null,
      "outputs": []
    },
    {
      "cell_type": "code",
      "metadata": {
        "id": "RyXUwkHFDzMQ"
      },
      "source": [
        "#clf_KNN(X_Data, Y_Lavel, 'Glucose')"
      ],
      "execution_count": null,
      "outputs": []
    },
    {
      "cell_type": "code",
      "metadata": {
        "id": "cPs3Ksk5B8tZ"
      },
      "source": [
        "all_clf_res['BloodPressure']"
      ],
      "execution_count": null,
      "outputs": []
    },
    {
      "cell_type": "markdown",
      "metadata": {
        "id": "0vGBC_OpTUVh"
      },
      "source": [
        "#### Analyzing **Decision Trees**"
      ]
    },
    {
      "cell_type": "code",
      "metadata": {
        "id": "YXIvuFNyTUVh"
      },
      "source": [
        "clf_DT(X_Data, Y_Lavel, 'Glucose')"
      ],
      "execution_count": null,
      "outputs": []
    },
    {
      "cell_type": "markdown",
      "metadata": {
        "id": "voo0Cm09TUVi"
      },
      "source": [
        "#### Analyzing **Random Forest**"
      ]
    },
    {
      "cell_type": "code",
      "metadata": {
        "id": "u5dbju9xTUVi",
        "colab": {
          "base_uri": "https://localhost:8080/",
          "height": 1000
        },
        "outputId": "69df94be-a85a-404b-ce19-0c62d4f5e7a7"
      },
      "source": [
        "clf_RF(X_Data, Y_Lavel, 'Glucose')"
      ],
      "execution_count": 56,
      "outputs": [
        {
          "output_type": "stream",
          "name": "stdout",
          "text": [
            "--------------------------------------------------\n",
            "Detailed classification report for current fold:\n",
            "\n",
            "              precision    recall  f1-score   support\n",
            "\n",
            "         0.0       0.91      0.86      0.89       100\n",
            "         1.0       0.87      0.92      0.89       100\n",
            "\n",
            "    accuracy                           0.89       200\n",
            "   macro avg       0.89      0.89      0.89       200\n",
            "weighted avg       0.89      0.89      0.89       200\n",
            "\n",
            "\n",
            "Area Under ROC (AUC): 0.9477\n",
            "\n",
            "Confusion Matrix for current fold: \n",
            "[[86 14]\n",
            " [ 8 92]]\n",
            "\n",
            "Accuracy for Current Fold: 0.89\n",
            "\n",
            "--------------------------------------------------\n",
            "Detailed classification report for current fold:\n",
            "\n",
            "              precision    recall  f1-score   support\n",
            "\n",
            "         0.0       0.81      0.80      0.80       100\n",
            "         1.0       0.80      0.81      0.81       100\n",
            "\n",
            "    accuracy                           0.81       200\n",
            "   macro avg       0.81      0.81      0.80       200\n",
            "weighted avg       0.81      0.81      0.80       200\n",
            "\n",
            "\n",
            "Area Under ROC (AUC): 0.9035\n",
            "\n",
            "Confusion Matrix for current fold: \n",
            "[[80 20]\n",
            " [19 81]]\n",
            "\n",
            "Accuracy for Current Fold: 0.805\n",
            "\n",
            "--------------------------------------------------\n",
            "Detailed classification report for current fold:\n",
            "\n",
            "              precision    recall  f1-score   support\n",
            "\n",
            "         0.0       0.90      0.88      0.89       100\n",
            "         1.0       0.88      0.90      0.89       100\n",
            "\n",
            "    accuracy                           0.89       200\n",
            "   macro avg       0.89      0.89      0.89       200\n",
            "weighted avg       0.89      0.89      0.89       200\n",
            "\n",
            "\n",
            "Area Under ROC (AUC): 0.95765\n",
            "\n",
            "Confusion Matrix for current fold: \n",
            "[[88 12]\n",
            " [10 90]]\n",
            "\n",
            "Accuracy for Current Fold: 0.89\n",
            "\n",
            "--------------------------------------------------\n",
            "Detailed classification report for current fold:\n",
            "\n",
            "              precision    recall  f1-score   support\n",
            "\n",
            "         0.0       0.89      0.78      0.83        99\n",
            "         1.0       0.80      0.90      0.85       100\n",
            "\n",
            "    accuracy                           0.84       199\n",
            "   macro avg       0.84      0.84      0.84       199\n",
            "weighted avg       0.84      0.84      0.84       199\n",
            "\n",
            "\n",
            "Area Under ROC (AUC): 0.9258585858585858\n",
            "\n",
            "Confusion Matrix for current fold: \n",
            "[[77 22]\n",
            " [10 90]]\n",
            "\n",
            "Accuracy for Current Fold: 0.8391959798994975\n",
            "\n",
            "--------------------------------------------------\n",
            "Detailed classification report for current fold:\n",
            "\n",
            "              precision    recall  f1-score   support\n",
            "\n",
            "         0.0       0.84      0.84      0.84       100\n",
            "         1.0       0.84      0.84      0.84        99\n",
            "\n",
            "    accuracy                           0.84       199\n",
            "   macro avg       0.84      0.84      0.84       199\n",
            "weighted avg       0.84      0.84      0.84       199\n",
            "\n",
            "\n",
            "Area Under ROC (AUC): 0.9287878787878787\n",
            "\n",
            "Confusion Matrix for current fold: \n",
            "[[84 16]\n",
            " [16 83]]\n",
            "\n",
            "Accuracy for Current Fold: 0.8391959798994975\n",
            "\n"
          ]
        },
        {
          "output_type": "display_data",
          "data": {
            "image/png": "[encoded data removed]",
            "text/plain": [
              "<Figure size 576x360 with 1 Axes>"
            ]
          },
          "metadata": {}
        },
        {
          "output_type": "stream",
          "name": "stdout",
          "text": [
            "\n",
            "---------------------Average---------------------\n",
            "AUC (Avg. +/- Std.) is  0.933 +/- 0.019\n",
            "Accuracy (Avg. +/- Std.) is  0.853 +/- 0.033\n",
            "Avg. CM is [[87, 16], [12, 83]]\n",
            "Total for all folds CM is [[436, 84], [63, 415]]\n"
          ]
        }
      ]
    },
    {
      "cell_type": "markdown",
      "metadata": {
        "id": "h9dDOrzmTUVj"
      },
      "source": [
        "#### Analyzing **AdaBoost**"
      ]
    },
    {
      "cell_type": "code",
      "metadata": {
        "id": "pXNHLhI2TUVj"
      },
      "source": [
        "clf_AB(X_Data, Y_Lavel, 'Glucose')"
      ],
      "execution_count": null,
      "outputs": []
    },
    {
      "cell_type": "markdown",
      "metadata": {
        "id": "xYt1DfSdTUVj"
      },
      "source": [
        "#### Analyzing **Naive Bayes**"
      ]
    },
    {
      "cell_type": "code",
      "metadata": {
        "id": "qZJmrlB0TUVk"
      },
      "source": [
        "clf_NB(X_Data, Y_Lavel, 'Glucose')"
      ],
      "execution_count": null,
      "outputs": []
    },
    {
      "cell_type": "markdown",
      "metadata": {
        "id": "qonY4zaqTUVk"
      },
      "source": [
        "#### Analyzing **XGBoost**"
      ]
    },
    {
      "cell_type": "code",
      "metadata": {
        "id": "ZcCdpaKYTUVk"
      },
      "source": [
        "clf_XGB(X_Data, Y_Lavel, 'Glucose')"
      ],
      "execution_count": null,
      "outputs": []
    },
    {
      "cell_type": "markdown",
      "metadata": {
        "id": "LNm5XLjbgICM"
      },
      "source": [
        "# Results"
      ]
    },
    {
      "cell_type": "code",
      "metadata": {
        "id": "CoWT8X5yTowz"
      },
      "source": [
        "row_index = ['BloodPressure', 'Glucose']\n",
        "model_names = ['KNN', 'DecisionTree', 'RandomForest', 'AdaBoost', 'NaiveBayes', 'XGBoost']\n",
        "results = pd.DataFrame(all_clf_res['BloodPressure'], index = model_names)\n",
        "results['Glucose'] = all_clf_res['Glucose']\n",
        "results = results.transpose()"
      ],
      "execution_count": null,
      "outputs": []
    },
    {
      "cell_type": "code",
      "metadata": {
        "id": "WQkn5K84UwfB"
      },
      "source": [
        "results.index = row_index"
      ],
      "execution_count": null,
      "outputs": []
    },
    {
      "cell_type": "code",
      "metadata": {
        "id": "x0A9DjmvWmux"
      },
      "source": [
        "results"
      ],
      "execution_count": null,
      "outputs": []
    }
  ]
}
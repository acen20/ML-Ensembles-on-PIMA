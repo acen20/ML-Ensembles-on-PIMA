{
  "nbformat": 4,
  "nbformat_minor": 0,
  "metadata": {
    "colab": {
      "name": "ML_Project_Multi_Augmentation_PCA.ipynb",
      "provenance": [],
      "collapsed_sections": [
        "9635-rRaNaHB",
        "q33OJ0hJqoIs",
        "fkzO1gNx5Tgd",
        "ErKErG555xGZ",
        "bGhn4vnO6K3l",
        "P74ZUthv62Vo",
        "6UhhU-hY7Mbk",
        "Lo6UwJM9wEYU",
        "rRBCrG0g7rVW",
        "TqySfVdpCoE3",
        "ObS0nyN5H1qb",
        "NI8OmhDlIt-f",
        "rkLrc60EJA6i",
        "0vGBC_OpTUVh",
        "h9dDOrzmTUVj",
        "xYt1DfSdTUVj",
        "qonY4zaqTUVk",
        "LNm5XLjbgICM"
      ]
    },
    "kernelspec": {
      "display_name": "Python 3 (ipykernel)",
      "language": "python",
      "name": "python3"
    },
    "language_info": {
      "codemirror_mode": {
        "name": "ipython",
        "version": 3
      },
      "file_extension": ".py",
      "mimetype": "text/x-python",
      "name": "python",
      "nbconvert_exporter": "python",
      "pygments_lexer": "ipython3",
      "version": "3.8.10"
    }
  },
  "cells": [
    {
      "cell_type": "markdown",
      "metadata": {
        "id": "hfulVdlqeDUb"
      },
      "source": [
        "# Libraries"
      ]
    },
    {
      "cell_type": "code",
      "metadata": {
        "id": "6P_KLNhChx4e",
        "scrolled": true
      },
      "source": [
        "import numpy as np\n",
        "import pandas as pd \n",
        "import copy\n",
        "import matplotlib.pyplot as plt\n",
        "%matplotlib inline\n",
        "import seaborn as sns\n",
        "sns.set(font_scale=1.0, style=\"dark\")\n",
        "import warnings \n",
        "from sklearn.svm import SVC, NuSVC\n",
        "warnings.filterwarnings('ignore')\n",
        "from sklearn.model_selection import train_test_split\n",
        "from sklearn.naive_bayes import GaussianNB\n",
        "from sklearn.svm import SVC\n",
        "from sklearn.neighbors  import KNeighborsClassifier\n",
        "from sklearn.tree import DecisionTreeClassifier\n",
        "from sklearn.ensemble import RandomForestClassifier\n",
        "from sklearn.ensemble import AdaBoostClassifier\n",
        "from sklearn.ensemble import GradientBoostingClassifier\n",
        "from sklearn.neural_network import MLPClassifier\n",
        "import xgboost as xgb\n",
        "from scipy import stats\n",
        "from scipy.stats import uniform, randint\n",
        "from sklearn.metrics import f1_score\n",
        "from sklearn.model_selection import KFold, StratifiedKFold, RepeatedStratifiedKFold\n",
        "from sklearn.metrics import roc_curve, auc, accuracy_score\n",
        "# from tflearn.data_utils import to_categorical\n",
        "from sklearn import preprocessing\n",
        "from sklearn.model_selection import GridSearchCV, RandomizedSearchCV\n",
        "from sklearn.metrics import classification_report\n",
        "from scipy import interp\n",
        "from sklearn.metrics import confusion_matrix, multilabel_confusion_matrix, plot_confusion_matrix\n",
        "from sklearn.decomposition import PCA\n",
        "from sklearn.decomposition import FastICA\n",
        "from tensorflow.keras.utils import to_categorical\n",
        "from imblearn.over_sampling import SMOTE"
      ],
      "execution_count": 58,
      "outputs": []
    },
    {
      "cell_type": "markdown",
      "metadata": {
        "id": "GsIelASieMjL"
      },
      "source": [
        "# Data Manipulation"
      ]
    },
    {
      "cell_type": "code",
      "metadata": {
        "id": "6ZWa0WB5N06M"
      },
      "source": [
        "## Make 1 or True  if you run colab\n",
        "## Other wise 0 or False\n",
        "##if you run in  colab\n",
        "\n",
        "colab = 0\n",
        "if colab ==True:\n",
        "  data_dir='/content/drive/MyDrive/PIMA Journal/diabetes.csv'\n",
        "  from google.colab import drive\n",
        "  drive.mount('/content/drive')\n",
        "else:\n",
        "  \n",
        "  data_dir='Diabetes_processed.csv'\n"
      ],
      "execution_count": 59,
      "outputs": []
    },
    {
      "cell_type": "code",
      "metadata": {
        "id": "gPXAbwA7Olty"
      },
      "source": [
        "data = pd.read_csv(data_dir)\n",
        "all_clf_res = {\n",
        "               'BloodPressure':[],\n",
        "               'Glucose':[]\n",
        "}"
      ],
      "execution_count": 60,
      "outputs": []
    },
    {
      "cell_type": "code",
      "metadata": {
        "colab": {
          "base_uri": "https://localhost:8080/",
          "height": 204
        },
        "id": "fsEN6pCHOtDa",
        "outputId": "3595c099-8329-40a5-bca6-74a9aa0dd8e5"
      },
      "source": [
        "data.head()"
      ],
      "execution_count": 61,
      "outputs": [
        {
          "output_type": "execute_result",
          "data": {
            "text/html": [
              "<div>\n",
              "<style scoped>\n",
              "    .dataframe tbody tr th:only-of-type {\n",
              "        vertical-align: middle;\n",
              "    }\n",
              "\n",
              "    .dataframe tbody tr th {\n",
              "        vertical-align: top;\n",
              "    }\n",
              "\n",
              "    .dataframe thead th {\n",
              "        text-align: right;\n",
              "    }\n",
              "</style>\n",
              "<table border=\"1\" class=\"dataframe\">\n",
              "  <thead>\n",
              "    <tr style=\"text-align: right;\">\n",
              "      <th></th>\n",
              "      <th>Pregnancies</th>\n",
              "      <th>Glucose</th>\n",
              "      <th>BloodPressure</th>\n",
              "      <th>SkinThickness</th>\n",
              "      <th>Insulin</th>\n",
              "      <th>BMI</th>\n",
              "      <th>DiabetesPedigreeFunction</th>\n",
              "      <th>Age</th>\n",
              "      <th>Outcome</th>\n",
              "    </tr>\n",
              "  </thead>\n",
              "  <tbody>\n",
              "    <tr>\n",
              "      <th>0</th>\n",
              "      <td>6.0</td>\n",
              "      <td>148.0</td>\n",
              "      <td>72.0</td>\n",
              "      <td>35.000000</td>\n",
              "      <td>171.474227</td>\n",
              "      <td>33.6</td>\n",
              "      <td>0.627</td>\n",
              "      <td>50.0</td>\n",
              "      <td>1</td>\n",
              "    </tr>\n",
              "    <tr>\n",
              "      <th>1</th>\n",
              "      <td>1.0</td>\n",
              "      <td>85.0</td>\n",
              "      <td>66.0</td>\n",
              "      <td>29.000000</td>\n",
              "      <td>113.606695</td>\n",
              "      <td>26.6</td>\n",
              "      <td>0.351</td>\n",
              "      <td>31.0</td>\n",
              "      <td>0</td>\n",
              "    </tr>\n",
              "    <tr>\n",
              "      <th>2</th>\n",
              "      <td>8.0</td>\n",
              "      <td>183.0</td>\n",
              "      <td>64.0</td>\n",
              "      <td>32.059259</td>\n",
              "      <td>171.474227</td>\n",
              "      <td>23.3</td>\n",
              "      <td>0.672</td>\n",
              "      <td>32.0</td>\n",
              "      <td>1</td>\n",
              "    </tr>\n",
              "    <tr>\n",
              "      <th>3</th>\n",
              "      <td>1.0</td>\n",
              "      <td>89.0</td>\n",
              "      <td>66.0</td>\n",
              "      <td>23.000000</td>\n",
              "      <td>94.000000</td>\n",
              "      <td>28.1</td>\n",
              "      <td>0.167</td>\n",
              "      <td>21.0</td>\n",
              "      <td>0</td>\n",
              "    </tr>\n",
              "    <tr>\n",
              "      <th>4</th>\n",
              "      <td>5.0</td>\n",
              "      <td>116.0</td>\n",
              "      <td>74.0</td>\n",
              "      <td>27.094512</td>\n",
              "      <td>113.606695</td>\n",
              "      <td>25.6</td>\n",
              "      <td>0.201</td>\n",
              "      <td>30.0</td>\n",
              "      <td>0</td>\n",
              "    </tr>\n",
              "  </tbody>\n",
              "</table>\n",
              "</div>"
            ],
            "text/plain": [
              "   Pregnancies  Glucose  BloodPressure  ...  DiabetesPedigreeFunction   Age  Outcome\n",
              "0          6.0    148.0           72.0  ...                     0.627  50.0        1\n",
              "1          1.0     85.0           66.0  ...                     0.351  31.0        0\n",
              "2          8.0    183.0           64.0  ...                     0.672  32.0        1\n",
              "3          1.0     89.0           66.0  ...                     0.167  21.0        0\n",
              "4          5.0    116.0           74.0  ...                     0.201  30.0        0\n",
              "\n",
              "[5 rows x 9 columns]"
            ]
          },
          "metadata": {},
          "execution_count": 61
        }
      ]
    },
    {
      "cell_type": "code",
      "metadata": {
        "id": "7FBYD-y5pmde"
      },
      "source": [
        "def swap_col(target_):\n",
        "  swap_data = copy.deepcopy(data)\n",
        "  swap_data[target_] = data.Outcome\n",
        "  swap_data.Outcome = data[target_]\n",
        "  swap_data.rename(columns = {'Outcome':target_, target_: 'Diabetic'}, inplace = True)\n",
        "  #swap_data.Diabetic.replace({1:'Yes', 0:'No'} , inplace = True)\n",
        "  return swap_data"
      ],
      "execution_count": 62,
      "outputs": []
    },
    {
      "cell_type": "code",
      "metadata": {
        "id": "9EcVLsoXqcT0"
      },
      "source": [
        "data_BP = swap_col('BloodPressure')\n",
        "\n",
        "#data_ST = swap_col('SkinThickness')\n",
        "#data_Ins = swap_col('Insulin')\n",
        "#data_BMI = swap_col('BMI')\n",
        "#data_DPF = swap_col('DiabetesPedigreeFunction')\n",
        "#data_Age = swap_col('Age')\n",
        "#data_Pregnancies = swap_col('Pregnancies')"
      ],
      "execution_count": 63,
      "outputs": []
    },
    {
      "cell_type": "code",
      "metadata": {
        "colab": {
          "base_uri": "https://localhost:8080/",
          "height": 204
        },
        "id": "7g6m-qlyhx4u",
        "outputId": "fa0dbc4d-16b3-459c-9c37-032b7987dee5"
      },
      "source": [
        "data_BP.head()"
      ],
      "execution_count": 64,
      "outputs": [
        {
          "output_type": "execute_result",
          "data": {
            "text/html": [
              "<div>\n",
              "<style scoped>\n",
              "    .dataframe tbody tr th:only-of-type {\n",
              "        vertical-align: middle;\n",
              "    }\n",
              "\n",
              "    .dataframe tbody tr th {\n",
              "        vertical-align: top;\n",
              "    }\n",
              "\n",
              "    .dataframe thead th {\n",
              "        text-align: right;\n",
              "    }\n",
              "</style>\n",
              "<table border=\"1\" class=\"dataframe\">\n",
              "  <thead>\n",
              "    <tr style=\"text-align: right;\">\n",
              "      <th></th>\n",
              "      <th>Pregnancies</th>\n",
              "      <th>Glucose</th>\n",
              "      <th>Diabetic</th>\n",
              "      <th>SkinThickness</th>\n",
              "      <th>Insulin</th>\n",
              "      <th>BMI</th>\n",
              "      <th>DiabetesPedigreeFunction</th>\n",
              "      <th>Age</th>\n",
              "      <th>BloodPressure</th>\n",
              "    </tr>\n",
              "  </thead>\n",
              "  <tbody>\n",
              "    <tr>\n",
              "      <th>0</th>\n",
              "      <td>6.0</td>\n",
              "      <td>148.0</td>\n",
              "      <td>1</td>\n",
              "      <td>35.000000</td>\n",
              "      <td>171.474227</td>\n",
              "      <td>33.6</td>\n",
              "      <td>0.627</td>\n",
              "      <td>50.0</td>\n",
              "      <td>72.0</td>\n",
              "    </tr>\n",
              "    <tr>\n",
              "      <th>1</th>\n",
              "      <td>1.0</td>\n",
              "      <td>85.0</td>\n",
              "      <td>0</td>\n",
              "      <td>29.000000</td>\n",
              "      <td>113.606695</td>\n",
              "      <td>26.6</td>\n",
              "      <td>0.351</td>\n",
              "      <td>31.0</td>\n",
              "      <td>66.0</td>\n",
              "    </tr>\n",
              "    <tr>\n",
              "      <th>2</th>\n",
              "      <td>8.0</td>\n",
              "      <td>183.0</td>\n",
              "      <td>1</td>\n",
              "      <td>32.059259</td>\n",
              "      <td>171.474227</td>\n",
              "      <td>23.3</td>\n",
              "      <td>0.672</td>\n",
              "      <td>32.0</td>\n",
              "      <td>64.0</td>\n",
              "    </tr>\n",
              "    <tr>\n",
              "      <th>3</th>\n",
              "      <td>1.0</td>\n",
              "      <td>89.0</td>\n",
              "      <td>0</td>\n",
              "      <td>23.000000</td>\n",
              "      <td>94.000000</td>\n",
              "      <td>28.1</td>\n",
              "      <td>0.167</td>\n",
              "      <td>21.0</td>\n",
              "      <td>66.0</td>\n",
              "    </tr>\n",
              "    <tr>\n",
              "      <th>4</th>\n",
              "      <td>5.0</td>\n",
              "      <td>116.0</td>\n",
              "      <td>0</td>\n",
              "      <td>27.094512</td>\n",
              "      <td>113.606695</td>\n",
              "      <td>25.6</td>\n",
              "      <td>0.201</td>\n",
              "      <td>30.0</td>\n",
              "      <td>74.0</td>\n",
              "    </tr>\n",
              "  </tbody>\n",
              "</table>\n",
              "</div>"
            ],
            "text/plain": [
              "   Pregnancies  Glucose  ...   Age  BloodPressure\n",
              "0          6.0    148.0  ...  50.0           72.0\n",
              "1          1.0     85.0  ...  31.0           66.0\n",
              "2          8.0    183.0  ...  32.0           64.0\n",
              "3          1.0     89.0  ...  21.0           66.0\n",
              "4          5.0    116.0  ...  30.0           74.0\n",
              "\n",
              "[5 rows x 9 columns]"
            ]
          },
          "metadata": {},
          "execution_count": 64
        }
      ]
    },
    {
      "cell_type": "code",
      "metadata": {
        "id": "sSG-nEalhx4w"
      },
      "source": [
        "knn_res = pd.DataFrame()\n",
        "random_initializer=100            #random initializer\n",
        "n_dots=50"
      ],
      "execution_count": 65,
      "outputs": []
    },
    {
      "cell_type": "markdown",
      "metadata": {
        "id": "9635-rRaNaHB"
      },
      "source": [
        "# Utility Functions\n"
      ]
    },
    {
      "cell_type": "code",
      "metadata": {
        "id": "3PneAZ5Jhx4x"
      },
      "source": [
        "def metrics (y_true, y_pred, probas_, tprs, mean_fpr):\n",
        "  '''\n",
        "  Parameters :\n",
        "  Input - \n",
        "  y_true - true  value of input data    \n",
        "  y_pred- predicted  value of input data  \n",
        "  probas_- probability/confidence of predicted output\n",
        "\n",
        "  return -True Negative(tn),False Positive(fp),False Negative(fn)\n",
        "  True positive(tp),AUC(roc_auc),False Positive Rate(fpr),\n",
        "  True positive rate(tpr)\n",
        "\n",
        "  '''\n",
        "\n",
        "\n",
        "  points=n_dots*'-'\n",
        "  print(points)\n",
        "#    print(\"Best parameters set found on development set:\")\n",
        "#    print(clf.best_params_)\n",
        "  #fpr, tpr, thresholds = roc_curve(y_true, probas_[:, 1])\n",
        "  #tprs.append(interp(mean_fpr, fpr, tpr))\n",
        "  #tprs[-1][0] = 0.0\n",
        "  #roc_auc = auc(fpr, tpr)\n",
        "  #  aucs.append(roc_auc)\n",
        "  print(\"Detailed classification report for current fold:\")\n",
        "  print()\n",
        "  print(classification_report(y_true, y_pred))\n",
        "  print()\n",
        "  #print(\"Area Under ROC (AUC): {}\".format(roc_auc))\n",
        "  print()\n",
        "  print('Confusion Matrix for current fold: ')\n",
        "  print(confusion_matrix(y_true, y_pred))\n",
        "  print()\n",
        "  print(\"Accuracy for Current Fold: {}\".format(accuracy_score(y_true, y_pred)))\n",
        "  print()\n",
        "  confusion_array = multilabel_confusion_matrix(y_true, y_pred)\n",
        "  confusion_d = pd.DataFrame(confusion_array.reshape(-1, 4), columns=[\"TN\", \"FP\", \"FN\", \"TP\"])\n",
        "  tn, fp, fn, tp = np.array(confusion_d.TN), np.array(confusion_d.FP), np.array(confusion_d.FN), np.array(confusion_d.TP)\n",
        "\n",
        "  return  tn, fp, fn, tp\n",
        "\n",
        "#*******************************************************************************#\n",
        "\n",
        "def plot_Current_ROC(fpr,tpr,iterator,roc_auc):\n",
        "  \n",
        "  '''\n",
        "  Parameters :\n",
        "  Input - \n",
        "  fpr - False positive rate\n",
        "  tpr - True positive rate\n",
        "  roc_auc -auc values of roc curve\n",
        "\n",
        "  Output - \n",
        "  Visalization of current roc curve\n",
        "\n",
        "  '''\n",
        "  plt.plot(fpr,\n",
        "          \n",
        "          tpr,\n",
        "          # Color[iterator],\n",
        "          alpha=0.35,\n",
        "          # label='macro-average ROC (AUC = {0:0.3f})'.format(roc_auc)\n",
        "          # +FOLD[iterator],\n",
        "          linewidth=1)\n",
        "  \n",
        "\n",
        "#*******************************************************************************#\n",
        "   \n",
        "def average_ROC(mean_fpr,tprs,aucs,TP,TN,FP,FN):\n",
        "\n",
        "  '''\n",
        "  Parameters :\n",
        "  mean_fpr - Mean False positive rate\n",
        "  tprs -values of true positive rate\n",
        "  aucs  - values of auc\n",
        "  TP    - True positive \n",
        "  TN    - True Negative\n",
        "  FP    - False Positiv\n",
        "  FN    - False Negative\n",
        "\n",
        "  Output - \n",
        "  Visalization of TPR vs FPR plot\n",
        "  '''\n",
        "  sen = (np.sum(TP))/(np.sum(TP)+np.sum(FN))\n",
        "  spe = (np.sum(TN))/(np.sum(TN)+np.sum(FP))\n",
        "\n",
        "  mean_tpr = np.mean(tprs, axis=0)\n",
        "  mean_tpr[-1] = 1.0\n",
        "  # mean_auc = auc(mean_fpr, mean_tpr)\n",
        "  mean_auc = np.mean(aucs)\n",
        "  std_auc = np.std(aucs)\n",
        "  # plt.figure(figsize=(8, 5))\n",
        "  # plt.grid(True)\n",
        "  ax = plt.axes()\n",
        "  ax.grid(color='lightgray', linestyle='-', linewidth=.5)\n",
        "  # Setting the background color\n",
        "  ax.set_facecolor(\"white\")\n",
        "  \n",
        "  ax.spines['bottom'].set_color('#000000')\n",
        "  ax.spines['top'].set_color('#000000') \n",
        "  ax.spines['right'].set_color('#000000')\n",
        "  ax.spines['left'].set_color('#000000')\n",
        "\n",
        "  plt.plot(mean_fpr, mean_tpr, color='blue',\n",
        "          label=r'Avg. ROC (AUC (avg $\\pm$ std) = %0.3f $\\pm$ %0.3f)' % (mean_auc, std_auc),\n",
        "          lw=2, alpha=.8)\n",
        "  \n",
        "  plt.scatter((1-spe), sen, s=80, c='r', marker='x',)\n",
        "  plt.scatter(0, sen, s=80, c='r', marker='x',)\n",
        "  plt.scatter((1-spe),0, s=80, c='r', marker='x',)\n",
        "  plt.axhline(y=sen, color='r', linestyle='--')\n",
        "  plt.axvline(x=(1-spe), color='r', linestyle='--')\n",
        "  plt.text((1-spe), 0.02, \"FPR={:0.3f}\".format((1-spe)))\n",
        "  plt.text(0.009, sen+0.05, \"TPR={:0.3f}\".format(sen))\n",
        "\n",
        "  std_tpr = np.std(tprs, axis=0)\n",
        "  tprs_upper = np.minimum(mean_tpr + std_tpr, 1)\n",
        "  tprs_lower = np.maximum(mean_tpr - std_tpr, 0)\n",
        "  plt.fill_between(mean_fpr, tprs_lower, tprs_upper, color='darkgray', alpha=0.5,\n",
        "                  label=r'$\\pm$ 1 Standard deviation')\n",
        "\n",
        "  plt.xticks(np.arange(0.0, 1.01, step=0.1))\n",
        "  plt.yticks(np.arange(0.0, 1.01, step=0.1))\n",
        "  left=0.0\n",
        "  right=1.0\n",
        "  plt.xlim(left, right)\n",
        "  plt.ylim(left, right)\n",
        "  plt.xlabel('False Positive Rate (FPR)')\n",
        "  plt.ylabel('True Positive Rate (TPR)')\n",
        "  plt.legend(loc=\"lower right\")\n",
        "  # plt.grid(True)\n",
        "  plt.show()\n",
        "\n",
        "#*******************************************************************************#\n",
        "\n",
        "def average_performance(Accuracy,TP,TN,FP,FN, target_col): \n",
        "\n",
        "  '''\n",
        "  Parameters :\n",
        "  Input - \n",
        "  Accuracy - value of accuracy\n",
        "  TP  - True Positive\n",
        "  TN  - True Negative\n",
        "  FP  - False Positive\n",
        "  FN  - False Negative\n",
        "\n",
        "\n",
        "  Output - \n",
        "  It prints the average accuarcy,confusion matrix\n",
        "  '''\n",
        "\n",
        "  print()\n",
        "  n_dotsav=(n_dots-len('Average'))//2\n",
        "    \n",
        "  print('-'*n_dotsav+'Average'+'-'*n_dotsav)\n",
        "  #print(\"AUC (Avg. +/- Std.) is  %0.3f +/- %0.3f\" %(np.mean(aucs),np.std(aucs)))\n",
        "  print(\"Accuracy (Avg. +/- Std.) is  %0.3f +/- %0.3f\" %(np.mean(Accuracy),np.std(Accuracy)))\n",
        "  cm = [[int(np.mean(TP)), int(np.mean(FP))],[int(np.mean(FN)), int(np.mean(TN))]]\n",
        "  print ('Avg. CM is '+str(cm))\n",
        "  cm = [[int(np.sum(TP)), int(np.sum(FP))],[int(np.sum(FN)), int(np.sum(TN))]]\n",
        "  print ('Total for all folds CM is '+str(cm))\n",
        "  #re_auc=str(round(np.mean(aucs), 3))+'+/-'+str(round(np.std(aucs),3))\n",
        "  re_accuracy=str(round(np.mean(Accuracy), 3))+'+/-'+str(round(np.std(Accuracy),3))\n",
        "  all_clf_res[target_col].append(re_accuracy)\n",
        "\n",
        "def creat_Model (classifier, X_Train, Y_Train, tuned_parameters, verbose):\n",
        " \n",
        "    clf = GridSearchCV(classifier,\n",
        "                    tuned_parameters,\n",
        "                    verbose=verbose,\n",
        "                    cv=5,\n",
        "                    scoring='accuracy',\n",
        "                    n_jobs=-1)\n",
        "    clf.fit(X_Train, Y_Train)\n",
        "    return clf\n",
        "\n",
        "#*******************************************************************************#\n",
        "    \n",
        "def feature_Selector(data, algo, n_feature):\n",
        " \n",
        "    if algo=='PCA':                                                   #for pca algorithm\n",
        "        X_Data= data.iloc[:,:8].values\n",
        "        pca = PCA(n_components=n_feature)                             #number of feature\n",
        "        X_Data = pca.fit_transform(X_Data)\n",
        "        return X_Data , data.iloc[:,8:].values\n",
        " \n",
        "    if algo == 'ICA':\n",
        "        X_Data= data.iloc[:,:8].values\n",
        "        ICA = FastICA(n_components=n_feature, random_state=12) \n",
        "        X_Data = ICA.fit_transform(X_Data)\n",
        "        return X_Data , data.iloc[:,8:].values\n",
        "    \n",
        "    if algo =='corr':                                                   #for ica algorithm\n",
        "        if n_feature ==4:\n",
        "            data = data[['F2','F5','F4','F6','Outcome']]                #for 4 feature\n",
        "            return data.iloc[:,:4].values, data.iloc[:,4:].values\n",
        "        if n_feature ==6:\n",
        "            data = data[['F1','F2','F4','F5','F6','F8','Outcome']]       #for 6 feature\n",
        "            return data.iloc[:,:6].values, data.iloc[:,6:].values\n",
        "        \n",
        "    if algo == 'None':\n",
        "        return data.iloc[:,:8].values, data.iloc[:,8:].values            #if feature selection is off all features are counted\n",
        "\n",
        "#*******************************************************************************#"
      ],
      "execution_count": 66,
      "outputs": []
    },
    {
      "cell_type": "code",
      "metadata": {
        "id": "nb_v6Fnqhx40"
      },
      "source": [
        "kf = StratifiedKFold(n_splits=5,\n",
        "                     shuffle=True,\n",
        "                     random_state=random_initializer)"
      ],
      "execution_count": 67,
      "outputs": []
    },
    {
      "cell_type": "markdown",
      "metadata": {
        "id": "vfYhdL_AN9i1"
      },
      "source": [
        "# **Classifiers**"
      ]
    },
    {
      "cell_type": "markdown",
      "metadata": {
        "id": "q33OJ0hJqoIs"
      },
      "source": [
        "## KNN Classifier"
      ]
    },
    {
      "cell_type": "code",
      "metadata": {
        "id": "J1257TzEqoIw",
        "scrolled": true
      },
      "source": [
        "def clf_KNN(X_Data, Y_Lavel, target_col):\n",
        "\n",
        "    Accuracy = []                                                                # for store the value of accuracy \n",
        "    FP = []                                                                      # for store False Positive \n",
        "    TN = []                                                                      # for True Negative\n",
        "    FN = []                                                                      # for False Negative\n",
        "    TP = []                                                                      # for True Positive\n",
        "    tprs = []                                                                    # for true positive rates\n",
        "    aucs_kNN = []                                                                # for store the values of auc\n",
        "    iterator=0\n",
        "    mean_fpr = np.linspace(0, 1, 100)\n",
        "    fig = plt.figure(figsize=(8, 5))\n",
        "\n",
        "    for train_index, test_index in kf.split(X_Data,Y_Lavel):                     # split in train and test\n",
        "        #   print(\"TRAIN:\", train_index, \"TEST:\", test_index)\n",
        "        X_Train, X_Test = X_Data[train_index], X_Data[test_index]                #train data and label\n",
        "        Y_Train, Y_Test = Y_Lavel[train_index], Y_Lavel[test_index]              #test data and label\n",
        "\n",
        "        ###########################################\n",
        "        # define the hyper parameters of Knn\n",
        "        n_neighbors = [1,3,5,7,9,11,13,15,17,19,21,23,25,27,29,31,33,35,37,39,41,43,45,47,49]\n",
        "        leaf_size = [5,10,15,20,25,30,35,40,45,50]\n",
        "        Distance = [1,2]\n",
        "        ############################################\n",
        "\n",
        "\n",
        "        tuned_parameters = [ {'n_neighbors': n_neighbors,                         #define parameters with different algorithm\n",
        "                            'algorithm' : ['brute'],\n",
        "                            'p':Distance},\n",
        "\n",
        "                            {'n_neighbors': n_neighbors, \n",
        "                            'algorithm' : ['ball_tree'],\n",
        "                            'leaf_size' : leaf_size,\n",
        "                            'p':Distance},\n",
        "\n",
        "                            {'n_neighbors': n_neighbors, \n",
        "                            'algorithm' : ['kd_tree'],\n",
        "                            'leaf_size' : leaf_size,\n",
        "                            'p':Distance}]\n",
        "\n",
        "        clf = creat_Model (classifier = KNeighborsClassifier(),                     #create the model \n",
        "                          X_Train = X_Train,\n",
        "                          Y_Train = Y_Train,\n",
        "                          tuned_parameters = tuned_parameters,\n",
        "                          verbose=0)\n",
        "\n",
        "        tn, fp, fn, tp = metrics (y_true = Y_Test,               #get the values of  model evaluation \n",
        "                                          y_pred = clf.predict(X_Test),\n",
        "                                          probas_ = clf.predict_proba(X_Test), \n",
        "                                          tprs = tprs,\n",
        "                                          mean_fpr = mean_fpr)\n",
        "        #tprs.append(interp(mean_fpr, fpr, tpr))                                     \n",
        "        #tprs[-1][0] = 0.0\n",
        "        #aucs_kNN.append(roc_auc)\n",
        "        #plot_Current_ROC (fpr,tpr,iterator,roc_auc)                                 #plot the roc of current fold\n",
        "        iterator += 1\n",
        "        plot_confusion_matrix(clf, X_Test, Y_Test)\n",
        "        TN.append(tn)\n",
        "        FP.append(fp)\n",
        "        FN.append(fn)\n",
        "        TP.append(tp)\n",
        "        Accuracy.append(accuracy_score(Y_Test, clf.predict(X_Test)))\n",
        "    #average_ROC(mean_fpr,tprs,aucs_kNN,TP,TN,FP,FN)                                 #plot average roc curve\n",
        "    average_performance(Accuracy,TP,TN,FP,FN, target_col)                  #print the average performance of the model   "
      ],
      "execution_count": 68,
      "outputs": []
    },
    {
      "cell_type": "markdown",
      "metadata": {
        "id": "fkzO1gNx5Tgd"
      },
      "source": [
        "## Decision Tree"
      ]
    },
    {
      "cell_type": "code",
      "metadata": {
        "id": "D1ynAB2l5eHZ"
      },
      "source": [
        "def clf_DT(X_Data, Y_Lavel, target_col):\n",
        "\n",
        "  Accuracy = []                                                                # for store the value of accuracy \n",
        "  FP = []                                                                      # for store False Positive \n",
        "  TN = []                                                                      # for True Negative\n",
        "  FN = []                                                                      # for False Negative\n",
        "  TP = []                                                                      # for True Positive\n",
        "  tprs = []                                                                    # for true positive rates\n",
        "  aucs_Tree = []                                                               # for store the values of auc of tree model\n",
        "  iterator=0\n",
        "  mean_fpr = np.linspace(0, 1, 100)\n",
        "  fig = plt.figure(figsize=(8, 5))\n",
        "\n",
        "  for train_index, test_index in kf.split(X_Data,Y_Lavel):\n",
        "      #   print(\"TRAIN:\", train_index, \"TEST:\", test_index)\n",
        "      X_Train, X_Test = X_Data[train_index], X_Data[test_index]\n",
        "      Y_Train, Y_Test = Y_Lavel[train_index], Y_Lavel[test_index]\n",
        "\n",
        "                                                                              # define the decision tree parameters \n",
        "\n",
        "      tuned_parameters = {'criterion': ['gini','entropy'],\n",
        "                        'splitter': ['best'],\n",
        "                        'min_samples_split':[0.1,0.2,0.3,0.4,0.5,0.6,0.7,0.8,0.9,1.0],\n",
        "                        'min_samples_leaf': [1,2,3,4,5] }\n",
        "\n",
        "      clf = creat_Model (classifier = DecisionTreeClassifier( random_state=random_initializer),\n",
        "                        X_Train = X_Train,                                    # create the model using DecisionTree Classifier \n",
        "                        Y_Train = Y_Train,\n",
        "                        tuned_parameters = tuned_parameters,\n",
        "                        verbose=0)\n",
        "\n",
        "      tn, fp, fn, tp  = metrics (y_true = Y_Test,           #get the evaluation parameters of model\n",
        "                                y_pred = clf.predict(X_Test),\n",
        "                                probas_ = clf.predict_proba(X_Test),\n",
        "                                tprs = tprs, \n",
        "                                mean_fpr = mean_fpr)\n",
        "      #tprs.append(interp(mean_fpr, fpr, tpr))\n",
        "      #tprs[-1][0] = 0.0\n",
        "      #aucs_Tree.append(roc_auc)                                                # plot the roc of current fold\n",
        "      iterator += 1\n",
        "      TN.append(tn)\n",
        "      FP.append(fp)\n",
        "      FN.append(fn)\n",
        "      TP.append(tp)\n",
        "      Accuracy.append(accuracy_score(Y_Test, clf.predict(X_Test)))\n",
        "  #average_ROC(mean_fpr,tprs,aucs_Tree,TP,TN,FP,FN)                             #plot average roc curve\n",
        "  average_performance(Accuracy,TP,TN,FP,FN, target_col)                          #print the average performance of the model"
      ],
      "execution_count": 69,
      "outputs": []
    },
    {
      "cell_type": "markdown",
      "metadata": {
        "id": "ErKErG555xGZ"
      },
      "source": [
        "## Random Forest"
      ]
    },
    {
      "cell_type": "code",
      "metadata": {
        "id": "lKmfWVqn54Yg"
      },
      "source": [
        "def clf_RF(X_Data, Y_Lavel, target_col):\n",
        "  Accuracy = []                                                                # for store the value of accuracy \n",
        "  FP = []                                                                      # for store False Positive \n",
        "  TN = []                                                                      # for True Negative\n",
        "  FN = []                                                                      # for False Negative\n",
        "  TP = []                                                                      # for True Positive\n",
        "  tprs = []                                                                    # for true positive rates\n",
        "  aucs_Forest = []                                                             # for store the values of auc of Random Forest model\n",
        "  iterator=0\n",
        "  mean_fpr = np.linspace(0, 1, 100)\n",
        "  fig = plt.figure(figsize=(8, 5))\n",
        "\n",
        "  for train_index, test_index in kf.split(X_Data,Y_Lavel):                     #split dataset into train /test\n",
        "  #   print(\"TRAIN:\", train_index, \"TEST:\", test_index)\n",
        "      X_Train, X_Test = X_Data[train_index], X_Data[test_index]                # data and label of train dataset\n",
        "      Y_Train, Y_Test = Y_Lavel[train_index], Y_Lavel[test_index]              # data and label of test dataset\n",
        "\n",
        "      # parameters of Random Forest model\n",
        "      tuned_parameters = {'criterion': ['gini','entropy']}\n",
        "\n",
        "      clf = creat_Model (classifier = RandomForestClassifier( random_state=random_initializer),\n",
        "                        X_Train = X_Train,                                      # create a model using random forest classifier\n",
        "                        Y_Train = Y_Train,\n",
        "                        tuned_parameters = tuned_parameters,\n",
        "                        verbose=0)\n",
        "\n",
        "      tn, fp, fn, tp = metrics (y_true = Y_Test,              #evaluation parameters of random forest model\n",
        "                                y_pred = clf.predict(X_Test),\n",
        "                                probas_ = clf.predict_proba(X_Test),\n",
        "                                tprs = tprs, \n",
        "                                mean_fpr = mean_fpr)\n",
        "      \n",
        "      #tprs.append(interp(mean_fpr, fpr, tpr))\n",
        "      #tprs[-1][0] = 0.0\n",
        "      #aucs_Forest.append(roc_auc)\n",
        "      #plot_Current_ROC (fpr,tpr,iterator,roc_auc)                               #plot the roc of current fold\n",
        "      iterator += 1\n",
        "      TN.append(tn)\n",
        "      FP.append(fp)\n",
        "      FN.append(fn)\n",
        "      TP.append(tp)\n",
        "      Accuracy.append(accuracy_score(Y_Test, clf.predict(X_Test)))\n",
        "  #average_ROC(mean_fpr,tprs,aucs_Forest,TP,TN,FP,FN)                            #plot average roc curve\n",
        "  average_performance(Accuracy,TP,TN,FP,FN, target_col)                         #print the average performance of the model"
      ],
      "execution_count": 70,
      "outputs": []
    },
    {
      "cell_type": "markdown",
      "metadata": {
        "id": "bGhn4vnO6K3l"
      },
      "source": [
        "## AdaBoost"
      ]
    },
    {
      "cell_type": "code",
      "metadata": {
        "id": "0SfVImwq6WGh"
      },
      "source": [
        "def clf_AB(X_Data, Y_Lavel, target_col):\n",
        "  Accuracy = []                                                                # for store the value of accuracy \n",
        "  FP = []                                                                      # for store False Positive \n",
        "  TN = []                                                                      # for True Negative\n",
        "  FN = []                                                                      # for False Negative\n",
        "  TP = []                                                                      # for True Positive\n",
        "  tprs = []                                                                    # for true positive rates\n",
        "  aucs_aBoost = []                                                             # for store the values of auc of Adaboost model\n",
        "  iterator=0\n",
        "\n",
        "  mean_fpr = np.linspace(0, 1, 100)\n",
        "  fig = plt.figure(figsize=(8, 5))\n",
        "\n",
        "\n",
        "  for train_index, test_index in kf.split(X_Data,Y_Lavel):                     #split into train and test \n",
        "      #   print(\"TRAIN:\", train_index, \"TEST:\", test_index)\n",
        "      X_Train, X_Test = X_Data[train_index], X_Data[test_index]                #data and label\n",
        "      Y_Train, Y_Test = Y_Lavel[train_index], Y_Lavel[test_index]              #data and label\n",
        "\n",
        "      #####################################################\n",
        "      # define the parameters of adaboost algorithm\n",
        "      #####################################################\n",
        "      tuned_parameters = { 'algorithm': ['SAMME','SAMME.R'],\n",
        "                        'learning_rate':[0.1,0.5,1.0],\n",
        "                        'n_estimators': [10,50,100,200]}\n",
        "\n",
        "      \n",
        "      clf = creat_Model (classifier = AdaBoostClassifier( random_state=random_initializer),\n",
        "                        X_Train = X_Train,                                      # create a model using  AdaBoost Classifier\n",
        "                        Y_Train = Y_Train,\n",
        "                        tuned_parameters = tuned_parameters,\n",
        "                        verbose=0)\n",
        "      tn, fp, fn, tp = metrics (y_true = Y_Test,             # model evaluation parametrs\n",
        "                                y_pred = clf.predict(X_Test),\n",
        "                                probas_ = clf.predict_proba(X_Test),\n",
        "                                tprs = tprs, \n",
        "                                mean_fpr = mean_fpr)\n",
        "      #tprs.append(interp(mean_fpr, fpr, tpr))\n",
        "      #tprs[-1][0] = 0.0\n",
        "      #aucs_aBoost.append(roc_auc)\n",
        "      #plot_Current_ROC (fpr,tpr,iterator,roc_auc)                              #plot the roc of current fold\n",
        "      iterator += 1\n",
        "      TN.append(tn)\n",
        "      FP.append(fp)\n",
        "      FN.append(fn)\n",
        "      TP.append(tp)\n",
        "      Accuracy.append(accuracy_score(Y_Test, clf.predict(X_Test)))\n",
        "  #average_ROC(mean_fpr,tprs,aucs_aBoost,TP,TN,FP,FN)                           #plot average roc curve\n",
        "  average_performance(Accuracy,TP,TN,FP,FN, target_col)                        #print the average performance of the model"
      ],
      "execution_count": 71,
      "outputs": []
    },
    {
      "cell_type": "markdown",
      "metadata": {
        "id": "P74ZUthv62Vo"
      },
      "source": [
        "## Naive Bayes"
      ]
    },
    {
      "cell_type": "code",
      "metadata": {
        "id": "aGSIcPav67nG"
      },
      "source": [
        "def clf_NB(X_Data, Y_Lavel, target_col):\n",
        "  Accuracy = []                                                                # for store the value of accuracy \n",
        "  FP = []                                                                      # for store False Positive \n",
        "  TN = []                                                                      # for True Negative\n",
        "  FN = []                                                                      # for False Negative\n",
        "  TP = []                                                                      # for True Positive\n",
        "  tprs = []                                                                    # for true positive rates\n",
        "  aucs_NB = []                                                                 # for store the values of auc of  model\n",
        "  iterator=0\n",
        "\n",
        "  mean_fpr = np.linspace(0, 1, 100) \n",
        "  fig = plt.figure(figsize=(8, 5))\n",
        "\n",
        "\n",
        "  for train_index, test_index in kf.split(X_Data,Y_Lavel):                     #split into train and test\n",
        "  #   print(\"TRAIN:\", train_index, \"TEST:\", test_index)\n",
        "      X_Train, X_Test = X_Data[train_index], X_Data[test_index]                #train data and label\n",
        "      Y_Train, Y_Test = Y_Lavel[train_index], Y_Lavel[test_index]              #test  data and label\n",
        "\n",
        "\n",
        "      #############################################\n",
        "      # define parameters of Naive Bayes model \n",
        "      ############################################\n",
        "      var_smoothing = [1e-01,\n",
        "                      1e-02,\n",
        "                      1e-03,\n",
        "                      1e-04,\n",
        "                      1e-05,\n",
        "                      1e-06,\n",
        "                      1e-07,\n",
        "                      1e-08,\n",
        "                      1e-09,\n",
        "                      1e-10,\n",
        "                      1e-11,\n",
        "                      1e-12]\n",
        "\n",
        "      tuned_parameters = [{'var_smoothing': var_smoothing}]\n",
        "\n",
        "      #############################################################\n",
        "      clf = creat_Model (classifier = GaussianNB(),                             # create model using Naive Bias\n",
        "                        X_Train = X_Train,\n",
        "                        Y_Train = Y_Train,\n",
        "                        tuned_parameters = tuned_parameters,\n",
        "                        verbose=0)\n",
        "      tn, fp, fn, tp = metrics (y_true = Y_Test,             # model evaluation parameters\n",
        "                                y_pred = clf.predict(X_Test),\n",
        "                                probas_ = clf.predict_proba(X_Test),\n",
        "                                tprs = tprs, \n",
        "                                mean_fpr = mean_fpr)\n",
        "      #tprs.append(interp(mean_fpr, fpr, tpr))\n",
        "      #tprs[-1][0] = 0.0\n",
        "      #aucs_NB.append(roc_auc)\n",
        "      #plot_Current_ROC (fpr,tpr,iterator,roc_auc)                               #plot the roc of current fold\n",
        "      iterator += 1\n",
        "      TN.append(tn)\n",
        "      FP.append(fp)\n",
        "      FN.append(fn)\n",
        "      TP.append(tp)\n",
        "      Accuracy.append(accuracy_score(Y_Test, clf.predict(X_Test)))\n",
        "  #average_ROC(mean_fpr,tprs,aucs_NB,TP,TN,FP,FN)                               #plot average roc curve\n",
        "  average_performance(Accuracy,TP,TN,FP,FN, target_col)                            #print the average performance of the model"
      ],
      "execution_count": 72,
      "outputs": []
    },
    {
      "cell_type": "markdown",
      "metadata": {
        "id": "6UhhU-hY7Mbk"
      },
      "source": [
        "## XGBoost"
      ]
    },
    {
      "cell_type": "code",
      "metadata": {
        "id": "a8XPonAI7XKk"
      },
      "source": [
        "def clf_XGB(X_Data, Y_Lavel, target_col):\n",
        "  Accuracy = []                                                                # for store the value of accuracy \n",
        "  FP = []                                                                      # for store False Positive \n",
        "  TN = []                                                                      # for True Negative\n",
        "  FN = []                                                                      # for False Negative\n",
        "  TP = []                                                                      # for True Positive\n",
        "  tprs = []                                                                    # for true positive rates\n",
        "  aucs_xboost = []                                                                # for store the values of auc\n",
        "  sn = []                                                                      # for sensitivity \n",
        "  sp = []                                                                      # for specificity\n",
        "  pr = []                                                                      # for precision\n",
        "  FOR = []                                                                     # for False omission rate \n",
        "  DOR = []                                                                     # for Diagnostic odds ratio (DOR)\n",
        "  iterator=0\n",
        "  mean_fpr = np.linspace(0, 1, 100)\n",
        "  fig = plt.figure(figsize=(8, 5))\n",
        "\n",
        "\n",
        "  for train_index, test_index in kf.split(X_Data,Y_Lavel):                     # split into train and test\n",
        "  #   print(\"TRAIN:\", train_index, \"TEST:\", test_index)\n",
        "      X_Train, X_Test = X_Data[train_index], X_Data[test_index]                #train data and label\n",
        "      Y_Train, Y_Test = Y_Lavel[train_index], Y_Lavel[test_index]              #test data and label\n",
        "\n",
        "      #####################################\n",
        "      ## define the parameters \n",
        "      ######################################\n",
        "      tuned_parameters = {\n",
        "          'min_child_weight': [1, 5, 10],\n",
        "          'gamma': [0.5, 1, 1.5, 2, 5],\n",
        "          'subsample': [0.5, 1.0],\n",
        "          'colsample_bytree': [0.6, 0.8, 1.0],\n",
        "          'max_depth': [3, 4, 5]\n",
        "          }\n",
        "\n",
        "      clf = creat_Model (classifier = xgb.XGBClassifier(objective = \"multi:softprob\", eval_metric = 'merror', random_state=random_initializer),\n",
        "                        X_Train = X_Train,                                        # create model using XGB classifier \n",
        "                        Y_Train = Y_Train,\n",
        "                        tuned_parameters = tuned_parameters,\n",
        "                        verbose=0)\n",
        "      tn, fp, fn, tp  = metrics (y_true = Y_Test,               #evaluate the model parameters\n",
        "                        y_pred = clf.predict(X_Test),\n",
        "                        probas_ = clf.predict_proba(X_Test),\n",
        "                        tprs = tprs, \n",
        "                        mean_fpr = mean_fpr)\n",
        "      #tprs.append(interp(mean_fpr, fpr, tpr))\n",
        "      #tprs[-1][0] = 0.0\n",
        "      #aucs_xboost.append(roc_auc)\n",
        "      #plot_Current_ROC(fpr,tpr,iterator,roc_auc)                                  #plot the roc of current fold \n",
        "      iterator += 1\n",
        "      TN.append(tn)\n",
        "      FP.append(fp)\n",
        "      FN.append(fn)\n",
        "      TP.append(tp)\n",
        "      Accuracy.append(accuracy_score(Y_Test, clf.predict(X_Test)))\n",
        "      sn.append(tp/(tp+fn))\n",
        "      sp.append(tn/(fp+tn))\n",
        "      pr.append(tp/(tp+fp))\n",
        "      FOR.append(fn/(tn+fn))\n",
        "      DOR.append((tp*tn)/(fp*fn))\n",
        "\n",
        "  #average_ROC(mean_fpr,tprs,aucs_xboost,TP,TN,FP,FN)                              #plot average roc curve\n",
        "  average_performance(Accuracy,TP,TN,FP,FN, target_col)               #print the average performance of the model\n",
        "\n",
        "  #####################################################################\n",
        "  #    print the sensitivity,specificity,precision,for,dor of model\n",
        "  #####################################################################\n",
        "  print(\"Sensitivity (Avg. +/- Std.) is  %0.3f +/- %0.3f\" %(np.mean(sn),np.std(sn)))\n",
        "  print(\"Specificity (Avg. +/- Std.) is  %0.3f +/- %0.3f\" %(np.mean(sp),np.std(sp)))\n",
        "  print(\"Precision (Avg. +/- Std.) is  %0.3f +/- %0.3f\" %(np.mean(pr),np.std(pr)))\n",
        "  print(\"FOR (Avg. +/- Std.) is  %0.3f +/- %0.3f\" %(np.mean(FOR),np.std(FOR)))\n",
        "  print(\"DOR (Avg. +/- Std.) is  %0.3f +/- %0.3f\" %(np.mean(DOR),np.std(DOR)))"
      ],
      "execution_count": 73,
      "outputs": []
    },
    {
      "cell_type": "markdown",
      "metadata": {
        "id": "-SsUKyeshx41"
      },
      "source": [
        "# With BloodPressure as Target"
      ]
    },
    {
      "cell_type": "code",
      "metadata": {
        "colab": {
          "base_uri": "https://localhost:8080/"
        },
        "id": "Sr1VI20Utwf6",
        "scrolled": true,
        "outputId": "632fa442-cee9-472b-c750-80ef6478631f"
      },
      "source": [
        "data_BP.head(), data_BP.shape"
      ],
      "execution_count": 74,
      "outputs": [
        {
          "output_type": "execute_result",
          "data": {
            "text/plain": [
              "(   Pregnancies  Glucose  ...   Age  BloodPressure\n",
              " 0          6.0    148.0  ...  50.0           72.0\n",
              " 1          1.0     85.0  ...  31.0           66.0\n",
              " 2          8.0    183.0  ...  32.0           64.0\n",
              " 3          1.0     89.0  ...  21.0           66.0\n",
              " 4          5.0    116.0  ...  30.0           74.0\n",
              " \n",
              " [5 rows x 9 columns], (636, 9))"
            ]
          },
          "metadata": {},
          "execution_count": 74
        }
      ]
    },
    {
      "cell_type": "code",
      "metadata": {
        "id": "T1R64Mjrhx42"
      },
      "source": [
        "def categorize_BP(data_BP):\n",
        "    \n",
        "    BP = \"BloodPressure\"\n",
        "    try:\n",
        "        low_i = data_BP.loc[(data_BP[BP] <= 60)] #diastolic less than 80 is normal\n",
        "        normal_i = data_BP.loc[(data_BP[BP] > 60) & (data_BP[BP] < 80)] #diastolic between 60 and 80 is normal\n",
        "        high_i =  data_BP.loc[data_BP[BP] >= 80] #diastolic greater than 80 is high\n",
        " \n",
        "        data_BP[BP][low_i.index] = 0\n",
        "        data_BP[BP][normal_i.index] = 1\n",
        "        data_BP[BP][high_i.index] = 2\n",
        "     \n",
        "    except:\n",
        "        pass\n",
        "    \n",
        "    return data_BP"
      ],
      "execution_count": 75,
      "outputs": []
    },
    {
      "cell_type": "code",
      "metadata": {
        "id": "NCUqhRgVhx43"
      },
      "source": [
        "data_BP = categorize_BP(data_BP)"
      ],
      "execution_count": 76,
      "outputs": []
    },
    {
      "cell_type": "code",
      "metadata": {
        "colab": {
          "base_uri": "https://localhost:8080/",
          "height": 419
        },
        "id": "AYl_S6af28Pr",
        "outputId": "7343c925-fd97-49b8-cfd8-a3c22e9eee88"
      },
      "source": [
        "#Augmentation\n",
        "smote = SMOTE()\n",
        "X = np.array(data_BP.iloc[:,0:8])\n",
        "y = np.array(data_BP.iloc[:,8])\n",
        "X, y = smote.fit_resample(X, y)\n",
        "data_BP = pd.DataFrame(X)\n",
        "data_BP['BloodPressure'] = y\n",
        "data_BP.shape"
      ],
      "execution_count": 77,
      "outputs": [
        {
          "output_type": "execute_result",
          "data": {
            "text/html": [
              "<div>\n",
              "<style scoped>\n",
              "    .dataframe tbody tr th:only-of-type {\n",
              "        vertical-align: middle;\n",
              "    }\n",
              "\n",
              "    .dataframe tbody tr th {\n",
              "        vertical-align: top;\n",
              "    }\n",
              "\n",
              "    .dataframe thead th {\n",
              "        text-align: right;\n",
              "    }\n",
              "</style>\n",
              "<table border=\"1\" class=\"dataframe\">\n",
              "  <thead>\n",
              "    <tr style=\"text-align: right;\">\n",
              "      <th></th>\n",
              "      <th>0</th>\n",
              "      <th>1</th>\n",
              "      <th>2</th>\n",
              "      <th>3</th>\n",
              "      <th>4</th>\n",
              "      <th>5</th>\n",
              "      <th>6</th>\n",
              "      <th>7</th>\n",
              "      <th>BloodPressure</th>\n",
              "    </tr>\n",
              "  </thead>\n",
              "  <tbody>\n",
              "    <tr>\n",
              "      <th>0</th>\n",
              "      <td>6.000000</td>\n",
              "      <td>148.000000</td>\n",
              "      <td>1.000000</td>\n",
              "      <td>35.000000</td>\n",
              "      <td>171.474227</td>\n",
              "      <td>33.600000</td>\n",
              "      <td>0.627000</td>\n",
              "      <td>50.000000</td>\n",
              "      <td>1.0</td>\n",
              "    </tr>\n",
              "    <tr>\n",
              "      <th>1</th>\n",
              "      <td>1.000000</td>\n",
              "      <td>85.000000</td>\n",
              "      <td>0.000000</td>\n",
              "      <td>29.000000</td>\n",
              "      <td>113.606695</td>\n",
              "      <td>26.600000</td>\n",
              "      <td>0.351000</td>\n",
              "      <td>31.000000</td>\n",
              "      <td>1.0</td>\n",
              "    </tr>\n",
              "    <tr>\n",
              "      <th>2</th>\n",
              "      <td>8.000000</td>\n",
              "      <td>183.000000</td>\n",
              "      <td>1.000000</td>\n",
              "      <td>32.059259</td>\n",
              "      <td>171.474227</td>\n",
              "      <td>23.300000</td>\n",
              "      <td>0.672000</td>\n",
              "      <td>32.000000</td>\n",
              "      <td>1.0</td>\n",
              "    </tr>\n",
              "    <tr>\n",
              "      <th>3</th>\n",
              "      <td>1.000000</td>\n",
              "      <td>89.000000</td>\n",
              "      <td>0.000000</td>\n",
              "      <td>23.000000</td>\n",
              "      <td>94.000000</td>\n",
              "      <td>28.100000</td>\n",
              "      <td>0.167000</td>\n",
              "      <td>21.000000</td>\n",
              "      <td>1.0</td>\n",
              "    </tr>\n",
              "    <tr>\n",
              "      <th>4</th>\n",
              "      <td>5.000000</td>\n",
              "      <td>116.000000</td>\n",
              "      <td>0.000000</td>\n",
              "      <td>27.094512</td>\n",
              "      <td>113.606695</td>\n",
              "      <td>25.600000</td>\n",
              "      <td>0.201000</td>\n",
              "      <td>30.000000</td>\n",
              "      <td>1.0</td>\n",
              "    </tr>\n",
              "    <tr>\n",
              "      <th>...</th>\n",
              "      <td>...</td>\n",
              "      <td>...</td>\n",
              "      <td>...</td>\n",
              "      <td>...</td>\n",
              "      <td>...</td>\n",
              "      <td>...</td>\n",
              "      <td>...</td>\n",
              "      <td>...</td>\n",
              "      <td>...</td>\n",
              "    </tr>\n",
              "    <tr>\n",
              "      <th>1081</th>\n",
              "      <td>5.934270</td>\n",
              "      <td>105.039438</td>\n",
              "      <td>0.000000</td>\n",
              "      <td>27.881686</td>\n",
              "      <td>113.606695</td>\n",
              "      <td>32.429011</td>\n",
              "      <td>0.871716</td>\n",
              "      <td>25.973708</td>\n",
              "      <td>2.0</td>\n",
              "    </tr>\n",
              "    <tr>\n",
              "      <th>1082</th>\n",
              "      <td>1.179441</td>\n",
              "      <td>77.764112</td>\n",
              "      <td>0.000000</td>\n",
              "      <td>31.830657</td>\n",
              "      <td>40.471776</td>\n",
              "      <td>36.640523</td>\n",
              "      <td>0.368423</td>\n",
              "      <td>24.302434</td>\n",
              "      <td>2.0</td>\n",
              "    </tr>\n",
              "    <tr>\n",
              "      <th>1083</th>\n",
              "      <td>0.560337</td>\n",
              "      <td>86.034609</td>\n",
              "      <td>0.439663</td>\n",
              "      <td>25.000000</td>\n",
              "      <td>36.560337</td>\n",
              "      <td>30.675957</td>\n",
              "      <td>0.435273</td>\n",
              "      <td>22.879326</td>\n",
              "      <td>2.0</td>\n",
              "    </tr>\n",
              "    <tr>\n",
              "      <th>1084</th>\n",
              "      <td>1.206636</td>\n",
              "      <td>117.553549</td>\n",
              "      <td>0.000000</td>\n",
              "      <td>41.206636</td>\n",
              "      <td>167.933642</td>\n",
              "      <td>43.874213</td>\n",
              "      <td>0.453068</td>\n",
              "      <td>26.413272</td>\n",
              "      <td>2.0</td>\n",
              "    </tr>\n",
              "    <tr>\n",
              "      <th>1085</th>\n",
              "      <td>5.757954</td>\n",
              "      <td>103.121023</td>\n",
              "      <td>1.000000</td>\n",
              "      <td>41.242046</td>\n",
              "      <td>181.827881</td>\n",
              "      <td>39.289956</td>\n",
              "      <td>0.910641</td>\n",
              "      <td>33.227698</td>\n",
              "      <td>2.0</td>\n",
              "    </tr>\n",
              "  </tbody>\n",
              "</table>\n",
              "<p>1086 rows × 9 columns</p>\n",
              "</div>"
            ],
            "text/plain": [
              "             0           1         2  ...         6          7  BloodPressure\n",
              "0     6.000000  148.000000  1.000000  ...  0.627000  50.000000            1.0\n",
              "1     1.000000   85.000000  0.000000  ...  0.351000  31.000000            1.0\n",
              "2     8.000000  183.000000  1.000000  ...  0.672000  32.000000            1.0\n",
              "3     1.000000   89.000000  0.000000  ...  0.167000  21.000000            1.0\n",
              "4     5.000000  116.000000  0.000000  ...  0.201000  30.000000            1.0\n",
              "...        ...         ...       ...  ...       ...        ...            ...\n",
              "1081  5.934270  105.039438  0.000000  ...  0.871716  25.973708            2.0\n",
              "1082  1.179441   77.764112  0.000000  ...  0.368423  24.302434            2.0\n",
              "1083  0.560337   86.034609  0.439663  ...  0.435273  22.879326            2.0\n",
              "1084  1.206636  117.553549  0.000000  ...  0.453068  26.413272            2.0\n",
              "1085  5.757954  103.121023  1.000000  ...  0.910641  33.227698            2.0\n",
              "\n",
              "[1086 rows x 9 columns]"
            ]
          },
          "metadata": {},
          "execution_count": 77
        }
      ]
    },
    {
      "cell_type": "code",
      "metadata": {
        "colab": {
          "base_uri": "https://localhost:8080/"
        },
        "id": "z9midecChx44",
        "outputId": "bddb4c24-1ce8-4e12-a782-64be4eb49461"
      },
      "source": [
        "data_BP.BloodPressure.value_counts()"
      ],
      "execution_count": 78,
      "outputs": [
        {
          "output_type": "execute_result",
          "data": {
            "text/plain": [
              "2.0    362\n",
              "0.0    362\n",
              "1.0    362\n",
              "Name: BloodPressure, dtype: int64"
            ]
          },
          "metadata": {},
          "execution_count": 78
        }
      ]
    },
    {
      "cell_type": "code",
      "metadata": {
        "id": "LXpvMzadhx45"
      },
      "source": [
        "data_BP.columns = ['F' + str(i) for i in range(1,9)]+['Outcome'] #Renaming"
      ],
      "execution_count": 79,
      "outputs": []
    },
    {
      "cell_type": "code",
      "metadata": {
        "id": "Eerd4pjVhx45"
      },
      "source": [
        "X_Data,Y_Lavel = feature_Selector(data_BP, algo='PCA', n_feature=6)  "
      ],
      "execution_count": 80,
      "outputs": []
    },
    {
      "cell_type": "code",
      "metadata": {
        "colab": {
          "base_uri": "https://localhost:8080/"
        },
        "id": "wmLtRnM9hx45",
        "scrolled": true,
        "outputId": "b9caf28d-2f04-436d-e2fa-5c15a4654a0e"
      },
      "source": [
        "np.unique(Y_Lavel,return_counts = True)"
      ],
      "execution_count": 81,
      "outputs": [
        {
          "output_type": "execute_result",
          "data": {
            "text/plain": [
              "(array([0., 1., 2.]), array([362, 362, 362]))"
            ]
          },
          "metadata": {},
          "execution_count": 81
        }
      ]
    },
    {
      "cell_type": "markdown",
      "metadata": {
        "id": "Lo6UwJM9wEYU"
      },
      "source": [
        "#### Analyzing **KNN**"
      ]
    },
    {
      "cell_type": "code",
      "metadata": {
        "colab": {
          "base_uri": "https://localhost:8080/",
          "height": 0
        },
        "id": "ja0vlEwcIaEH",
        "outputId": "f4c3a69d-1ea4-472c-84be-003c59f68a9c"
      },
      "source": [
        "clf_KNN(X_Data, Y_Lavel, 'BloodPressure')"
      ],
      "execution_count": 82,
      "outputs": [
        {
          "output_type": "stream",
          "name": "stdout",
          "text": [
            "--------------------------------------------------\n",
            "Detailed classification report for current fold:\n",
            "\n",
            "              precision    recall  f1-score   support\n",
            "\n",
            "         0.0       0.78      0.88      0.82        72\n",
            "         1.0       0.79      0.42      0.55        73\n",
            "         2.0       0.64      0.86      0.74        73\n",
            "\n",
            "    accuracy                           0.72       218\n",
            "   macro avg       0.74      0.72      0.70       218\n",
            "weighted avg       0.74      0.72      0.70       218\n",
            "\n",
            "\n",
            "\n",
            "Confusion Matrix for current fold: \n",
            "[[63  3  6]\n",
            " [13 31 29]\n",
            " [ 5  5 63]]\n",
            "\n",
            "Accuracy for Current Fold: 0.7201834862385321\n",
            "\n",
            "--------------------------------------------------\n",
            "Detailed classification report for current fold:\n",
            "\n",
            "              precision    recall  f1-score   support\n",
            "\n",
            "         0.0       0.74      0.88      0.80        72\n",
            "         1.0       0.57      0.37      0.45        73\n",
            "         2.0       0.67      0.79      0.73        72\n",
            "\n",
            "    accuracy                           0.68       217\n",
            "   macro avg       0.66      0.68      0.66       217\n",
            "weighted avg       0.66      0.68      0.66       217\n",
            "\n",
            "\n",
            "\n",
            "Confusion Matrix for current fold: \n",
            "[[63  7  2]\n",
            " [20 27 26]\n",
            " [ 2 13 57]]\n",
            "\n",
            "Accuracy for Current Fold: 0.6774193548387096\n",
            "\n",
            "--------------------------------------------------\n",
            "Detailed classification report for current fold:\n",
            "\n",
            "              precision    recall  f1-score   support\n",
            "\n",
            "         0.0       0.69      0.95      0.80        73\n",
            "         1.0       0.74      0.40      0.52        72\n",
            "         2.0       0.72      0.78      0.75        72\n",
            "\n",
            "    accuracy                           0.71       217\n",
            "   macro avg       0.72      0.71      0.69       217\n",
            "weighted avg       0.72      0.71      0.69       217\n",
            "\n",
            "\n",
            "\n",
            "Confusion Matrix for current fold: \n",
            "[[69  2  2]\n",
            " [23 29 20]\n",
            " [ 8  8 56]]\n",
            "\n",
            "Accuracy for Current Fold: 0.7096774193548387\n",
            "\n",
            "--------------------------------------------------\n",
            "Detailed classification report for current fold:\n",
            "\n",
            "              precision    recall  f1-score   support\n",
            "\n",
            "         0.0       0.69      0.90      0.78        73\n",
            "         1.0       0.60      0.38      0.46        72\n",
            "         2.0       0.72      0.76      0.74        72\n",
            "\n",
            "    accuracy                           0.68       217\n",
            "   macro avg       0.67      0.68      0.66       217\n",
            "weighted avg       0.67      0.68      0.66       217\n",
            "\n",
            "\n",
            "\n",
            "Confusion Matrix for current fold: \n",
            "[[66  4  3]\n",
            " [27 27 18]\n",
            " [ 3 14 55]]\n",
            "\n",
            "Accuracy for Current Fold: 0.6820276497695853\n",
            "\n",
            "--------------------------------------------------\n",
            "Detailed classification report for current fold:\n",
            "\n",
            "              precision    recall  f1-score   support\n",
            "\n",
            "         0.0       0.70      0.86      0.77        72\n",
            "         1.0       0.73      0.44      0.55        72\n",
            "         2.0       0.71      0.82      0.76        73\n",
            "\n",
            "    accuracy                           0.71       217\n",
            "   macro avg       0.71      0.71      0.70       217\n",
            "weighted avg       0.71      0.71      0.70       217\n",
            "\n",
            "\n",
            "\n",
            "Confusion Matrix for current fold: \n",
            "[[62  5  5]\n",
            " [21 32 19]\n",
            " [ 6  7 60]]\n",
            "\n",
            "Accuracy for Current Fold: 0.7096774193548387\n",
            "\n",
            "\n",
            "---------------------Average---------------------\n",
            "Accuracy (Avg. +/- Std.) is  0.700 +/- 0.017\n",
            "Avg. CM is [[50, 21], [21, 123]]\n",
            "Total for all folds CM is [[760, 326], [326, 1846]]\n"
          ]
        },
        {
          "output_type": "display_data",
          "data": {
            "text/plain": [
              "<Figure size 576x360 with 0 Axes>"
            ]
          },
          "metadata": {}
        },
        {
          "output_type": "display_data",
          "data": {
            "image/png": "[encoded data removed]",
            "text/plain": [
              "<Figure size 432x288 with 2 Axes>"
            ]
          },
          "metadata": {}
        },
        {
          "output_type": "display_data",
          "data": {
            "image/png": "[encoded data removed]",
            "text/plain": [
              "<Figure size 432x288 with 2 Axes>"
            ]
          },
          "metadata": {}
        },
        {
          "output_type": "display_data",
          "data": {
            "image/png": "[encoded data removed]",
            "text/plain": [
              "<Figure size 432x288 with 2 Axes>"
            ]
          },
          "metadata": {}
        },
        {
          "output_type": "display_data",
          "data": {
            "image/png": "[encoded data removed]",
            "text/plain": [
              "<Figure size 432x288 with 2 Axes>"
            ]
          },
          "metadata": {}
        },
        {
          "output_type": "display_data",
          "data": {
            "image/png": "[encoded data removed]",
            "text/plain": [
              "<Figure size 432x288 with 2 Axes>"
            ]
          },
          "metadata": {}
        }
      ]
    },
    {
      "cell_type": "markdown",
      "metadata": {
        "id": "rRBCrG0g7rVW"
      },
      "source": [
        "#### Analyzing **Decision Trees**"
      ]
    },
    {
      "cell_type": "code",
      "metadata": {
        "colab": {
          "base_uri": "https://localhost:8080/",
          "height": 0
        },
        "id": "plku1Joy79bq",
        "outputId": "3d60a7eb-23e7-4950-b26d-0ef657d06ee8"
      },
      "source": [
        "clf_DT(X_Data, Y_Lavel, 'BloodPressure')"
      ],
      "execution_count": 83,
      "outputs": [
        {
          "output_type": "stream",
          "name": "stdout",
          "text": [
            "--------------------------------------------------\n",
            "Detailed classification report for current fold:\n",
            "\n",
            "              precision    recall  f1-score   support\n",
            "\n",
            "         0.0       0.62      0.72      0.67        72\n",
            "         1.0       0.45      0.23      0.31        73\n",
            "         2.0       0.53      0.70      0.60        73\n",
            "\n",
            "    accuracy                           0.55       218\n",
            "   macro avg       0.53      0.55      0.53       218\n",
            "weighted avg       0.53      0.55      0.52       218\n",
            "\n",
            "\n",
            "\n",
            "Confusion Matrix for current fold: \n",
            "[[52 12  8]\n",
            " [19 17 37]\n",
            " [13  9 51]]\n",
            "\n",
            "Accuracy for Current Fold: 0.5504587155963303\n",
            "\n",
            "--------------------------------------------------\n",
            "Detailed classification report for current fold:\n",
            "\n",
            "              precision    recall  f1-score   support\n",
            "\n",
            "         0.0       0.59      0.60      0.59        72\n",
            "         1.0       0.35      0.34      0.34        73\n",
            "         2.0       0.60      0.60      0.60        72\n",
            "\n",
            "    accuracy                           0.51       217\n",
            "   macro avg       0.51      0.51      0.51       217\n",
            "weighted avg       0.51      0.51      0.51       217\n",
            "\n",
            "\n",
            "\n",
            "Confusion Matrix for current fold: \n",
            "[[43 25  4]\n",
            " [23 25 25]\n",
            " [ 7 22 43]]\n",
            "\n",
            "Accuracy for Current Fold: 0.511520737327189\n",
            "\n",
            "--------------------------------------------------\n",
            "Detailed classification report for current fold:\n",
            "\n",
            "              precision    recall  f1-score   support\n",
            "\n",
            "         0.0       0.50      0.53      0.52        73\n",
            "         1.0       0.30      0.33      0.31        72\n",
            "         2.0       0.52      0.42      0.46        72\n",
            "\n",
            "    accuracy                           0.43       217\n",
            "   macro avg       0.44      0.43      0.43       217\n",
            "weighted avg       0.44      0.43      0.43       217\n",
            "\n",
            "\n",
            "\n",
            "Confusion Matrix for current fold: \n",
            "[[39 27  7]\n",
            " [27 24 21]\n",
            " [12 30 30]]\n",
            "\n",
            "Accuracy for Current Fold: 0.42857142857142855\n",
            "\n",
            "--------------------------------------------------\n",
            "Detailed classification report for current fold:\n",
            "\n",
            "              precision    recall  f1-score   support\n",
            "\n",
            "         0.0       0.57      0.59      0.58        73\n",
            "         1.0       0.36      0.42      0.39        72\n",
            "         2.0       0.48      0.39      0.43        72\n",
            "\n",
            "    accuracy                           0.47       217\n",
            "   macro avg       0.47      0.46      0.47       217\n",
            "weighted avg       0.47      0.47      0.47       217\n",
            "\n",
            "\n",
            "\n",
            "Confusion Matrix for current fold: \n",
            "[[43 21  9]\n",
            " [21 30 21]\n",
            " [12 32 28]]\n",
            "\n",
            "Accuracy for Current Fold: 0.46543778801843316\n",
            "\n",
            "--------------------------------------------------\n",
            "Detailed classification report for current fold:\n",
            "\n",
            "              precision    recall  f1-score   support\n",
            "\n",
            "         0.0       0.55      0.62      0.58        72\n",
            "         1.0       0.34      0.26      0.30        72\n",
            "         2.0       0.56      0.60      0.58        73\n",
            "\n",
            "    accuracy                           0.50       217\n",
            "   macro avg       0.48      0.50      0.49       217\n",
            "weighted avg       0.48      0.50      0.49       217\n",
            "\n",
            "\n",
            "\n",
            "Confusion Matrix for current fold: \n",
            "[[45 21  6]\n",
            " [24 19 29]\n",
            " [13 16 44]]\n",
            "\n",
            "Accuracy for Current Fold: 0.4976958525345622\n",
            "\n",
            "\n",
            "---------------------Average---------------------\n",
            "Accuracy (Avg. +/- Std.) is  0.491 +/- 0.041\n",
            "Avg. CM is [[35, 36], [36, 107]]\n",
            "Total for all folds CM is [[533, 553], [553, 1619]]\n"
          ]
        },
        {
          "output_type": "display_data",
          "data": {
            "text/plain": [
              "<Figure size 576x360 with 0 Axes>"
            ]
          },
          "metadata": {}
        }
      ]
    },
    {
      "cell_type": "markdown",
      "metadata": {
        "id": "TqySfVdpCoE3"
      },
      "source": [
        "#### Analyzing **Random Forest**"
      ]
    },
    {
      "cell_type": "code",
      "metadata": {
        "colab": {
          "base_uri": "https://localhost:8080/",
          "height": 0
        },
        "id": "20CxA0gqCyQm",
        "outputId": "c2d82d99-8004-478c-bfdf-82794b7ce26d"
      },
      "source": [
        "clf_RF(X_Data, Y_Lavel, 'BloodPressure')"
      ],
      "execution_count": 84,
      "outputs": [
        {
          "output_type": "stream",
          "name": "stdout",
          "text": [
            "--------------------------------------------------\n",
            "Detailed classification report for current fold:\n",
            "\n",
            "              precision    recall  f1-score   support\n",
            "\n",
            "         0.0       0.82      0.88      0.85        72\n",
            "         1.0       0.65      0.53      0.59        73\n",
            "         2.0       0.67      0.74      0.70        73\n",
            "\n",
            "    accuracy                           0.72       218\n",
            "   macro avg       0.71      0.72      0.71       218\n",
            "weighted avg       0.71      0.72      0.71       218\n",
            "\n",
            "\n",
            "\n",
            "Confusion Matrix for current fold: \n",
            "[[63  7  2]\n",
            " [ 9 39 25]\n",
            " [ 5 14 54]]\n",
            "\n",
            "Accuracy for Current Fold: 0.7155963302752294\n",
            "\n",
            "--------------------------------------------------\n",
            "Detailed classification report for current fold:\n",
            "\n",
            "              precision    recall  f1-score   support\n",
            "\n",
            "         0.0       0.73      0.85      0.78        72\n",
            "         1.0       0.68      0.47      0.55        73\n",
            "         2.0       0.71      0.82      0.76        72\n",
            "\n",
            "    accuracy                           0.71       217\n",
            "   macro avg       0.71      0.71      0.70       217\n",
            "weighted avg       0.71      0.71      0.70       217\n",
            "\n",
            "\n",
            "\n",
            "Confusion Matrix for current fold: \n",
            "[[61  8  3]\n",
            " [18 34 21]\n",
            " [ 5  8 59]]\n",
            "\n",
            "Accuracy for Current Fold: 0.7096774193548387\n",
            "\n",
            "--------------------------------------------------\n",
            "Detailed classification report for current fold:\n",
            "\n",
            "              precision    recall  f1-score   support\n",
            "\n",
            "         0.0       0.68      0.92      0.78        73\n",
            "         1.0       0.62      0.47      0.54        72\n",
            "         2.0       0.73      0.65      0.69        72\n",
            "\n",
            "    accuracy                           0.68       217\n",
            "   macro avg       0.68      0.68      0.67       217\n",
            "weighted avg       0.68      0.68      0.67       217\n",
            "\n",
            "\n",
            "\n",
            "Confusion Matrix for current fold: \n",
            "[[67  5  1]\n",
            " [22 34 16]\n",
            " [ 9 16 47]]\n",
            "\n",
            "Accuracy for Current Fold: 0.6820276497695853\n",
            "\n",
            "--------------------------------------------------\n",
            "Detailed classification report for current fold:\n",
            "\n",
            "              precision    recall  f1-score   support\n",
            "\n",
            "         0.0       0.75      0.82      0.78        73\n",
            "         1.0       0.70      0.61      0.65        72\n",
            "         2.0       0.73      0.75      0.74        72\n",
            "\n",
            "    accuracy                           0.73       217\n",
            "   macro avg       0.73      0.73      0.73       217\n",
            "weighted avg       0.73      0.73      0.73       217\n",
            "\n",
            "\n",
            "\n",
            "Confusion Matrix for current fold: \n",
            "[[60  9  4]\n",
            " [12 44 16]\n",
            " [ 8 10 54]]\n",
            "\n",
            "Accuracy for Current Fold: 0.728110599078341\n",
            "\n",
            "--------------------------------------------------\n",
            "Detailed classification report for current fold:\n",
            "\n",
            "              precision    recall  f1-score   support\n",
            "\n",
            "         0.0       0.78      0.81      0.79        72\n",
            "         1.0       0.57      0.53      0.55        72\n",
            "         2.0       0.68      0.71      0.70        73\n",
            "\n",
            "    accuracy                           0.68       217\n",
            "   macro avg       0.68      0.68      0.68       217\n",
            "weighted avg       0.68      0.68      0.68       217\n",
            "\n",
            "\n",
            "\n",
            "Confusion Matrix for current fold: \n",
            "[[58 11  3]\n",
            " [13 38 21]\n",
            " [ 3 18 52]]\n",
            "\n",
            "Accuracy for Current Fold: 0.6820276497695853\n",
            "\n",
            "\n",
            "---------------------Average---------------------\n",
            "Accuracy (Avg. +/- Std.) is  0.703 +/- 0.019\n",
            "Avg. CM is [[50, 21], [21, 123]]\n",
            "Total for all folds CM is [[764, 322], [322, 1850]]\n"
          ]
        },
        {
          "output_type": "display_data",
          "data": {
            "text/plain": [
              "<Figure size 576x360 with 0 Axes>"
            ]
          },
          "metadata": {}
        }
      ]
    },
    {
      "cell_type": "markdown",
      "metadata": {
        "id": "ObS0nyN5H1qb"
      },
      "source": [
        "#### Analyzing **AdaBoost**"
      ]
    },
    {
      "cell_type": "code",
      "metadata": {
        "colab": {
          "base_uri": "https://localhost:8080/",
          "height": 0
        },
        "id": "BXwutgp4H8uw",
        "outputId": "39b00f1d-3e70-4eba-b0f5-e1e915221655"
      },
      "source": [
        "clf_AB(X_Data, Y_Lavel, 'BloodPressure')"
      ],
      "execution_count": 85,
      "outputs": [
        {
          "output_type": "stream",
          "name": "stdout",
          "text": [
            "--------------------------------------------------\n",
            "Detailed classification report for current fold:\n",
            "\n",
            "              precision    recall  f1-score   support\n",
            "\n",
            "         0.0       0.64      0.83      0.72        72\n",
            "         1.0       0.48      0.34      0.40        73\n",
            "         2.0       0.56      0.55      0.55        73\n",
            "\n",
            "    accuracy                           0.57       218\n",
            "   macro avg       0.56      0.57      0.56       218\n",
            "weighted avg       0.56      0.57      0.56       218\n",
            "\n",
            "\n",
            "\n",
            "Confusion Matrix for current fold: \n",
            "[[60  9  3]\n",
            " [19 25 29]\n",
            " [15 18 40]]\n",
            "\n",
            "Accuracy for Current Fold: 0.573394495412844\n",
            "\n",
            "--------------------------------------------------\n",
            "Detailed classification report for current fold:\n",
            "\n",
            "              precision    recall  f1-score   support\n",
            "\n",
            "         0.0       0.68      0.76      0.72        72\n",
            "         1.0       0.42      0.34      0.38        73\n",
            "         2.0       0.56      0.60      0.58        72\n",
            "\n",
            "    accuracy                           0.57       217\n",
            "   macro avg       0.55      0.57      0.56       217\n",
            "weighted avg       0.55      0.57      0.56       217\n",
            "\n",
            "\n",
            "\n",
            "Confusion Matrix for current fold: \n",
            "[[55 11  6]\n",
            " [20 25 28]\n",
            " [ 6 23 43]]\n",
            "\n",
            "Accuracy for Current Fold: 0.5668202764976958\n",
            "\n",
            "--------------------------------------------------\n",
            "Detailed classification report for current fold:\n",
            "\n",
            "              precision    recall  f1-score   support\n",
            "\n",
            "         0.0       0.60      0.77      0.67        73\n",
            "         1.0       0.46      0.29      0.36        72\n",
            "         2.0       0.59      0.64      0.61        72\n",
            "\n",
            "    accuracy                           0.57       217\n",
            "   macro avg       0.55      0.57      0.55       217\n",
            "weighted avg       0.55      0.57      0.55       217\n",
            "\n",
            "\n",
            "\n",
            "Confusion Matrix for current fold: \n",
            "[[56  9  8]\n",
            " [27 21 24]\n",
            " [10 16 46]]\n",
            "\n",
            "Accuracy for Current Fold: 0.5668202764976958\n",
            "\n",
            "--------------------------------------------------\n",
            "Detailed classification report for current fold:\n",
            "\n",
            "              precision    recall  f1-score   support\n",
            "\n",
            "         0.0       0.56      0.60      0.58        73\n",
            "         1.0       0.42      0.44      0.43        72\n",
            "         2.0       0.59      0.50      0.54        72\n",
            "\n",
            "    accuracy                           0.52       217\n",
            "   macro avg       0.52      0.52      0.52       217\n",
            "weighted avg       0.52      0.52      0.52       217\n",
            "\n",
            "\n",
            "\n",
            "Confusion Matrix for current fold: \n",
            "[[44 23  6]\n",
            " [21 32 19]\n",
            " [14 22 36]]\n",
            "\n",
            "Accuracy for Current Fold: 0.5161290322580645\n",
            "\n",
            "--------------------------------------------------\n",
            "Detailed classification report for current fold:\n",
            "\n",
            "              precision    recall  f1-score   support\n",
            "\n",
            "         0.0       0.64      0.71      0.67        72\n",
            "         1.0       0.47      0.50      0.49        72\n",
            "         2.0       0.59      0.49      0.54        73\n",
            "\n",
            "    accuracy                           0.57       217\n",
            "   macro avg       0.57      0.57      0.56       217\n",
            "weighted avg       0.57      0.57      0.56       217\n",
            "\n",
            "\n",
            "\n",
            "Confusion Matrix for current fold: \n",
            "[[51 14  7]\n",
            " [18 36 18]\n",
            " [11 26 36]]\n",
            "\n",
            "Accuracy for Current Fold: 0.5668202764976958\n",
            "\n",
            "\n",
            "---------------------Average---------------------\n",
            "Accuracy (Avg. +/- Std.) is  0.558 +/- 0.021\n",
            "Avg. CM is [[40, 32], [32, 112]]\n",
            "Total for all folds CM is [[606, 480], [480, 1692]]\n"
          ]
        },
        {
          "output_type": "display_data",
          "data": {
            "text/plain": [
              "<Figure size 576x360 with 0 Axes>"
            ]
          },
          "metadata": {}
        }
      ]
    },
    {
      "cell_type": "markdown",
      "metadata": {
        "id": "NI8OmhDlIt-f"
      },
      "source": [
        "#### Analyzing **Naive Bayes**"
      ]
    },
    {
      "cell_type": "code",
      "metadata": {
        "colab": {
          "base_uri": "https://localhost:8080/",
          "height": 0
        },
        "id": "UfxRBIB4IdgW",
        "outputId": "31fe5c4a-c12d-4684-b2aa-eda3eb717db6"
      },
      "source": [
        "clf_NB(X_Data, Y_Lavel, 'BloodPressure')"
      ],
      "execution_count": 86,
      "outputs": [
        {
          "output_type": "stream",
          "name": "stdout",
          "text": [
            "--------------------------------------------------\n",
            "Detailed classification report for current fold:\n",
            "\n",
            "              precision    recall  f1-score   support\n",
            "\n",
            "         0.0       0.56      0.86      0.68        72\n",
            "         1.0       0.58      0.15      0.24        73\n",
            "         2.0       0.46      0.56      0.51        73\n",
            "\n",
            "    accuracy                           0.52       218\n",
            "   macro avg       0.53      0.52      0.48       218\n",
            "weighted avg       0.53      0.52      0.47       218\n",
            "\n",
            "\n",
            "\n",
            "Confusion Matrix for current fold: \n",
            "[[62  2  8]\n",
            " [22 11 40]\n",
            " [26  6 41]]\n",
            "\n",
            "Accuracy for Current Fold: 0.5229357798165137\n",
            "\n",
            "--------------------------------------------------\n",
            "Detailed classification report for current fold:\n",
            "\n",
            "              precision    recall  f1-score   support\n",
            "\n",
            "         0.0       0.52      0.81      0.63        72\n",
            "         1.0       0.47      0.12      0.20        73\n",
            "         2.0       0.55      0.67      0.60        72\n",
            "\n",
            "    accuracy                           0.53       217\n",
            "   macro avg       0.52      0.53      0.48       217\n",
            "weighted avg       0.52      0.53      0.48       217\n",
            "\n",
            "\n",
            "\n",
            "Confusion Matrix for current fold: \n",
            "[[58  3 11]\n",
            " [36  9 28]\n",
            " [17  7 48]]\n",
            "\n",
            "Accuracy for Current Fold: 0.5299539170506913\n",
            "\n",
            "--------------------------------------------------\n",
            "Detailed classification report for current fold:\n",
            "\n",
            "              precision    recall  f1-score   support\n",
            "\n",
            "         0.0       0.53      0.81      0.64        73\n",
            "         1.0       0.47      0.11      0.18        72\n",
            "         2.0       0.51      0.62      0.56        72\n",
            "\n",
            "    accuracy                           0.52       217\n",
            "   macro avg       0.50      0.51      0.46       217\n",
            "weighted avg       0.50      0.52      0.46       217\n",
            "\n",
            "\n",
            "\n",
            "Confusion Matrix for current fold: \n",
            "[[59  2 12]\n",
            " [32  8 32]\n",
            " [20  7 45]]\n",
            "\n",
            "Accuracy for Current Fold: 0.5161290322580645\n",
            "\n",
            "--------------------------------------------------\n",
            "Detailed classification report for current fold:\n",
            "\n",
            "              precision    recall  f1-score   support\n",
            "\n",
            "         0.0       0.49      0.73      0.59        73\n",
            "         1.0       0.58      0.15      0.24        72\n",
            "         2.0       0.50      0.62      0.56        72\n",
            "\n",
            "    accuracy                           0.50       217\n",
            "   macro avg       0.52      0.50      0.46       217\n",
            "weighted avg       0.52      0.50      0.46       217\n",
            "\n",
            "\n",
            "\n",
            "Confusion Matrix for current fold: \n",
            "[[53  1 19]\n",
            " [35 11 26]\n",
            " [20  7 45]]\n",
            "\n",
            "Accuracy for Current Fold: 0.5023041474654378\n",
            "\n",
            "--------------------------------------------------\n",
            "Detailed classification report for current fold:\n",
            "\n",
            "              precision    recall  f1-score   support\n",
            "\n",
            "         0.0       0.52      0.79      0.63        72\n",
            "         1.0       0.36      0.18      0.24        72\n",
            "         2.0       0.54      0.52      0.53        73\n",
            "\n",
            "    accuracy                           0.50       217\n",
            "   macro avg       0.47      0.50      0.46       217\n",
            "weighted avg       0.47      0.50      0.47       217\n",
            "\n",
            "\n",
            "\n",
            "Confusion Matrix for current fold: \n",
            "[[57  5 10]\n",
            " [36 13 23]\n",
            " [17 18 38]]\n",
            "\n",
            "Accuracy for Current Fold: 0.4976958525345622\n",
            "\n",
            "\n",
            "---------------------Average---------------------\n",
            "Accuracy (Avg. +/- Std.) is  0.514 +/- 0.012\n",
            "Avg. CM is [[37, 35], [35, 109]]\n",
            "Total for all folds CM is [[558, 528], [528, 1644]]\n"
          ]
        },
        {
          "output_type": "display_data",
          "data": {
            "text/plain": [
              "<Figure size 576x360 with 0 Axes>"
            ]
          },
          "metadata": {}
        }
      ]
    },
    {
      "cell_type": "markdown",
      "metadata": {
        "id": "rkLrc60EJA6i"
      },
      "source": [
        "#### Analyzing **XGBoost**"
      ]
    },
    {
      "cell_type": "code",
      "metadata": {
        "colab": {
          "base_uri": "https://localhost:8080/",
          "height": 1000
        },
        "id": "U4c2mzLpI9vd",
        "outputId": "7e69509e-1e7e-447f-9497-7e6f66521b27"
      },
      "source": [
        "clf_XGB(X_Data, Y_Lavel, 'BloodPressure')"
      ],
      "execution_count": 87,
      "outputs": [
        {
          "output_type": "stream",
          "name": "stdout",
          "text": [
            "--------------------------------------------------\n",
            "Detailed classification report for current fold:\n",
            "\n",
            "              precision    recall  f1-score   support\n",
            "\n",
            "         0.0       0.77      0.83      0.80        72\n",
            "         1.0       0.66      0.60      0.63        73\n",
            "         2.0       0.68      0.68      0.68        73\n",
            "\n",
            "    accuracy                           0.71       218\n",
            "   macro avg       0.70      0.71      0.70       218\n",
            "weighted avg       0.70      0.71      0.70       218\n",
            "\n",
            "\n",
            "\n",
            "Confusion Matrix for current fold: \n",
            "[[60  8  4]\n",
            " [10 44 19]\n",
            " [ 8 15 50]]\n",
            "\n",
            "Accuracy for Current Fold: 0.7064220183486238\n",
            "\n",
            "--------------------------------------------------\n",
            "Detailed classification report for current fold:\n",
            "\n",
            "              precision    recall  f1-score   support\n",
            "\n",
            "         0.0       0.76      0.78      0.77        72\n",
            "         1.0       0.61      0.56      0.59        73\n",
            "         2.0       0.71      0.75      0.73        72\n",
            "\n",
            "    accuracy                           0.70       217\n",
            "   macro avg       0.69      0.70      0.69       217\n",
            "weighted avg       0.69      0.70      0.69       217\n",
            "\n",
            "\n",
            "\n",
            "Confusion Matrix for current fold: \n",
            "[[56 13  3]\n",
            " [13 41 19]\n",
            " [ 5 13 54]]\n",
            "\n",
            "Accuracy for Current Fold: 0.695852534562212\n",
            "\n",
            "--------------------------------------------------\n",
            "Detailed classification report for current fold:\n",
            "\n",
            "              precision    recall  f1-score   support\n",
            "\n",
            "         0.0       0.65      0.81      0.72        73\n",
            "         1.0       0.53      0.46      0.49        72\n",
            "         2.0       0.72      0.64      0.68        72\n",
            "\n",
            "    accuracy                           0.64       217\n",
            "   macro avg       0.63      0.64      0.63       217\n",
            "weighted avg       0.63      0.64      0.63       217\n",
            "\n",
            "\n",
            "\n",
            "Confusion Matrix for current fold: \n",
            "[[59 10  4]\n",
            " [25 33 14]\n",
            " [ 7 19 46]]\n",
            "\n",
            "Accuracy for Current Fold: 0.6359447004608295\n",
            "\n",
            "--------------------------------------------------\n",
            "Detailed classification report for current fold:\n",
            "\n",
            "              precision    recall  f1-score   support\n",
            "\n",
            "         0.0       0.69      0.74      0.72        73\n",
            "         1.0       0.61      0.54      0.57        72\n",
            "         2.0       0.67      0.69      0.68        72\n",
            "\n",
            "    accuracy                           0.66       217\n",
            "   macro avg       0.66      0.66      0.66       217\n",
            "weighted avg       0.66      0.66      0.66       217\n",
            "\n",
            "\n",
            "\n",
            "Confusion Matrix for current fold: \n",
            "[[54 13  6]\n",
            " [14 39 19]\n",
            " [10 12 50]]\n",
            "\n",
            "Accuracy for Current Fold: 0.6589861751152074\n",
            "\n",
            "--------------------------------------------------\n",
            "Detailed classification report for current fold:\n",
            "\n",
            "              precision    recall  f1-score   support\n",
            "\n",
            "         0.0       0.75      0.78      0.76        72\n",
            "         1.0       0.68      0.71      0.69        72\n",
            "         2.0       0.70      0.64      0.67        73\n",
            "\n",
            "    accuracy                           0.71       217\n",
            "   macro avg       0.71      0.71      0.71       217\n",
            "weighted avg       0.71      0.71      0.71       217\n",
            "\n",
            "\n",
            "\n",
            "Confusion Matrix for current fold: \n",
            "[[56  8  8]\n",
            " [ 9 51 12]\n",
            " [10 16 47]]\n",
            "\n",
            "Accuracy for Current Fold: 0.7096774193548387\n",
            "\n",
            "\n",
            "---------------------Average---------------------\n",
            "Accuracy (Avg. +/- Std.) is  0.681 +/- 0.029\n",
            "Avg. CM is [[49, 23], [23, 121]]\n",
            "Total for all folds CM is [[740, 346], [346, 1826]]\n",
            "Sensitivity (Avg. +/- Std.) is  0.681 +/- 0.103\n",
            "Specificity (Avg. +/- Std.) is  0.841 +/- 0.028\n",
            "Precision (Avg. +/- Std.) is  0.679 +/- 0.060\n",
            "FOR (Avg. +/- Std.) is  0.158 +/- 0.045\n",
            "DOR (Avg. +/- Std.) is  14.033 +/- 8.105\n"
          ]
        },
        {
          "output_type": "display_data",
          "data": {
            "text/plain": [
              "<Figure size 576x360 with 0 Axes>"
            ]
          },
          "metadata": {}
        }
      ]
    },
    {
      "cell_type": "markdown",
      "metadata": {
        "id": "ruw9L1ZkwMkO"
      },
      "source": [
        "# With Glucose as Target"
      ]
    },
    {
      "cell_type": "code",
      "metadata": {
        "id": "5PqLKfiGzNqd"
      },
      "source": [
        "def categorize_GL(data_GL):\n",
        "    #Oral glucose tolerance test\n",
        "    GL = \"Glucose\"\n",
        "    try:\n",
        "        low_i = data_GL.loc[(data_GL[GL] <= 70)] # low\n",
        "        normal_i = data_GL.loc[(data_GL[GL] > 70) & (data_GL[GL] < 140)] #prediabetic\n",
        "        high_i =  data_GL.loc[data_GL[GL] >= 140] #high\n",
        "\n",
        "        data_GL[GL][low_i.index] = 0\n",
        "        data_GL[GL][normal_i.index] = 1\n",
        "        data_GL[GL][high_i.index] = 2\n",
        "     \n",
        "    except:\n",
        "        pass\n",
        "    \n",
        "    return data_GL"
      ],
      "execution_count": 88,
      "outputs": []
    },
    {
      "cell_type": "code",
      "metadata": {
        "colab": {
          "base_uri": "https://localhost:8080/"
        },
        "id": "eSpX-Hw-wpEI",
        "outputId": "32b05374-4fb1-4c25-dd46-74caa80189ff"
      },
      "source": [
        "data_GL = swap_col('Glucose')\n",
        "print(data_GL.head()), data_GL.shape"
      ],
      "execution_count": 89,
      "outputs": [
        {
          "output_type": "stream",
          "name": "stdout",
          "text": [
            "   Pregnancies  Diabetic  ...   Age  Glucose\n",
            "0          6.0         1  ...  50.0    148.0\n",
            "1          1.0         0  ...  31.0     85.0\n",
            "2          8.0         1  ...  32.0    183.0\n",
            "3          1.0         0  ...  21.0     89.0\n",
            "4          5.0         0  ...  30.0    116.0\n",
            "\n",
            "[5 rows x 9 columns]\n"
          ]
        },
        {
          "output_type": "execute_result",
          "data": {
            "text/plain": [
              "(None, (636, 9))"
            ]
          },
          "metadata": {},
          "execution_count": 89
        }
      ]
    },
    {
      "cell_type": "code",
      "metadata": {
        "id": "w6j5iDfuaorf"
      },
      "source": [
        "data_GL = categorize_GL(data_GL)"
      ],
      "execution_count": 90,
      "outputs": []
    },
    {
      "cell_type": "code",
      "metadata": {
        "colab": {
          "base_uri": "https://localhost:8080/",
          "height": 419
        },
        "id": "mEbDhdY132NS",
        "outputId": "06b4cc3d-029a-413f-9398-36390e417a5c"
      },
      "source": [
        "#Augmentation\n",
        "smote = SMOTE()\n",
        "X = np.array(data_GL.iloc[:,0:8])\n",
        "y = np.array(data_GL.iloc[:,8])\n",
        "X, y = smote.fit_resample(X, y)\n",
        "data_GL = pd.DataFrame(X)\n",
        "data_GL['Glucose'] = y\n",
        "data_GL.shape"
      ],
      "execution_count": 91,
      "outputs": [
        {
          "output_type": "execute_result",
          "data": {
            "text/html": [
              "<div>\n",
              "<style scoped>\n",
              "    .dataframe tbody tr th:only-of-type {\n",
              "        vertical-align: middle;\n",
              "    }\n",
              "\n",
              "    .dataframe tbody tr th {\n",
              "        vertical-align: top;\n",
              "    }\n",
              "\n",
              "    .dataframe thead th {\n",
              "        text-align: right;\n",
              "    }\n",
              "</style>\n",
              "<table border=\"1\" class=\"dataframe\">\n",
              "  <thead>\n",
              "    <tr style=\"text-align: right;\">\n",
              "      <th></th>\n",
              "      <th>0</th>\n",
              "      <th>1</th>\n",
              "      <th>2</th>\n",
              "      <th>3</th>\n",
              "      <th>4</th>\n",
              "      <th>5</th>\n",
              "      <th>6</th>\n",
              "      <th>7</th>\n",
              "      <th>Glucose</th>\n",
              "    </tr>\n",
              "  </thead>\n",
              "  <tbody>\n",
              "    <tr>\n",
              "      <th>0</th>\n",
              "      <td>6.000000</td>\n",
              "      <td>1.000000</td>\n",
              "      <td>72.000000</td>\n",
              "      <td>35.000000</td>\n",
              "      <td>171.474227</td>\n",
              "      <td>33.600000</td>\n",
              "      <td>0.627000</td>\n",
              "      <td>50.000000</td>\n",
              "      <td>2.0</td>\n",
              "    </tr>\n",
              "    <tr>\n",
              "      <th>1</th>\n",
              "      <td>1.000000</td>\n",
              "      <td>0.000000</td>\n",
              "      <td>66.000000</td>\n",
              "      <td>29.000000</td>\n",
              "      <td>113.606695</td>\n",
              "      <td>26.600000</td>\n",
              "      <td>0.351000</td>\n",
              "      <td>31.000000</td>\n",
              "      <td>1.0</td>\n",
              "    </tr>\n",
              "    <tr>\n",
              "      <th>2</th>\n",
              "      <td>8.000000</td>\n",
              "      <td>1.000000</td>\n",
              "      <td>64.000000</td>\n",
              "      <td>32.059259</td>\n",
              "      <td>171.474227</td>\n",
              "      <td>23.300000</td>\n",
              "      <td>0.672000</td>\n",
              "      <td>32.000000</td>\n",
              "      <td>2.0</td>\n",
              "    </tr>\n",
              "    <tr>\n",
              "      <th>3</th>\n",
              "      <td>1.000000</td>\n",
              "      <td>0.000000</td>\n",
              "      <td>66.000000</td>\n",
              "      <td>23.000000</td>\n",
              "      <td>94.000000</td>\n",
              "      <td>28.100000</td>\n",
              "      <td>0.167000</td>\n",
              "      <td>21.000000</td>\n",
              "      <td>1.0</td>\n",
              "    </tr>\n",
              "    <tr>\n",
              "      <th>4</th>\n",
              "      <td>5.000000</td>\n",
              "      <td>0.000000</td>\n",
              "      <td>74.000000</td>\n",
              "      <td>27.094512</td>\n",
              "      <td>113.606695</td>\n",
              "      <td>25.600000</td>\n",
              "      <td>0.201000</td>\n",
              "      <td>30.000000</td>\n",
              "      <td>1.0</td>\n",
              "    </tr>\n",
              "    <tr>\n",
              "      <th>...</th>\n",
              "      <td>...</td>\n",
              "      <td>...</td>\n",
              "      <td>...</td>\n",
              "      <td>...</td>\n",
              "      <td>...</td>\n",
              "      <td>...</td>\n",
              "      <td>...</td>\n",
              "      <td>...</td>\n",
              "      <td>...</td>\n",
              "    </tr>\n",
              "    <tr>\n",
              "      <th>1447</th>\n",
              "      <td>7.000000</td>\n",
              "      <td>1.000000</td>\n",
              "      <td>87.788945</td>\n",
              "      <td>32.059259</td>\n",
              "      <td>171.474227</td>\n",
              "      <td>34.604020</td>\n",
              "      <td>0.292910</td>\n",
              "      <td>44.316583</td>\n",
              "      <td>2.0</td>\n",
              "    </tr>\n",
              "    <tr>\n",
              "      <th>1448</th>\n",
              "      <td>5.912418</td>\n",
              "      <td>0.456209</td>\n",
              "      <td>78.000000</td>\n",
              "      <td>27.963813</td>\n",
              "      <td>119.260634</td>\n",
              "      <td>40.529150</td>\n",
              "      <td>0.419017</td>\n",
              "      <td>50.193464</td>\n",
              "      <td>2.0</td>\n",
              "    </tr>\n",
              "    <tr>\n",
              "      <th>1449</th>\n",
              "      <td>9.672367</td>\n",
              "      <td>1.000000</td>\n",
              "      <td>94.000000</td>\n",
              "      <td>32.375521</td>\n",
              "      <td>162.910208</td>\n",
              "      <td>34.011116</td>\n",
              "      <td>0.572632</td>\n",
              "      <td>47.017102</td>\n",
              "      <td>2.0</td>\n",
              "    </tr>\n",
              "    <tr>\n",
              "      <th>1450</th>\n",
              "      <td>1.141011</td>\n",
              "      <td>0.070505</td>\n",
              "      <td>72.141011</td>\n",
              "      <td>21.779737</td>\n",
              "      <td>168.244952</td>\n",
              "      <td>25.945476</td>\n",
              "      <td>0.138652</td>\n",
              "      <td>24.352527</td>\n",
              "      <td>2.0</td>\n",
              "    </tr>\n",
              "    <tr>\n",
              "      <th>1451</th>\n",
              "      <td>4.974482</td>\n",
              "      <td>1.000000</td>\n",
              "      <td>63.897927</td>\n",
              "      <td>32.846891</td>\n",
              "      <td>324.821373</td>\n",
              "      <td>31.192345</td>\n",
              "      <td>0.571951</td>\n",
              "      <td>29.000000</td>\n",
              "      <td>2.0</td>\n",
              "    </tr>\n",
              "  </tbody>\n",
              "</table>\n",
              "<p>1452 rows × 9 columns</p>\n",
              "</div>"
            ],
            "text/plain": [
              "             0         1          2  ...         6          7  Glucose\n",
              "0     6.000000  1.000000  72.000000  ...  0.627000  50.000000      2.0\n",
              "1     1.000000  0.000000  66.000000  ...  0.351000  31.000000      1.0\n",
              "2     8.000000  1.000000  64.000000  ...  0.672000  32.000000      2.0\n",
              "3     1.000000  0.000000  66.000000  ...  0.167000  21.000000      1.0\n",
              "4     5.000000  0.000000  74.000000  ...  0.201000  30.000000      1.0\n",
              "...        ...       ...        ...  ...       ...        ...      ...\n",
              "1447  7.000000  1.000000  87.788945  ...  0.292910  44.316583      2.0\n",
              "1448  5.912418  0.456209  78.000000  ...  0.419017  50.193464      2.0\n",
              "1449  9.672367  1.000000  94.000000  ...  0.572632  47.017102      2.0\n",
              "1450  1.141011  0.070505  72.141011  ...  0.138652  24.352527      2.0\n",
              "1451  4.974482  1.000000  63.897927  ...  0.571951  29.000000      2.0\n",
              "\n",
              "[1452 rows x 9 columns]"
            ]
          },
          "metadata": {},
          "execution_count": 91
        }
      ]
    },
    {
      "cell_type": "code",
      "metadata": {
        "colab": {
          "base_uri": "https://localhost:8080/"
        },
        "id": "OAtsyAOOCFJb",
        "outputId": "423b71e9-220d-4df3-879f-5b253a55ee9d"
      },
      "source": [
        "data_GL.Glucose.value_counts()"
      ],
      "execution_count": 92,
      "outputs": [
        {
          "output_type": "execute_result",
          "data": {
            "text/plain": [
              "0.0    484\n",
              "1.0    484\n",
              "2.0    484\n",
              "Name: Glucose, dtype: int64"
            ]
          },
          "metadata": {},
          "execution_count": 92
        }
      ]
    },
    {
      "cell_type": "code",
      "metadata": {
        "id": "DCrUBu0CCFJc"
      },
      "source": [
        "data_GL.columns = ['F' + str(i) for i in range(1,9)]+['Outcome'] #Renaming"
      ],
      "execution_count": 93,
      "outputs": []
    },
    {
      "cell_type": "code",
      "metadata": {
        "id": "GLo5e6rbDwPn"
      },
      "source": [
        "X_Data,Y_Lavel = feature_Selector(data_GL, algo='None', n_feature=8)  "
      ],
      "execution_count": 94,
      "outputs": []
    },
    {
      "cell_type": "markdown",
      "metadata": {
        "id": "-evipCEhS6Cb"
      },
      "source": [
        "#### Analyzing **KNN**"
      ]
    },
    {
      "cell_type": "code",
      "metadata": {
        "colab": {
          "base_uri": "https://localhost:8080/"
        },
        "id": "jGR3mjBFS6Cr",
        "outputId": "1e85c4b5-4ee1-4cc1-f63f-4803062746cb"
      },
      "source": [
        "clf_KNN(X_Data, Y_Lavel, 'Glucose')"
      ],
      "execution_count": null,
      "outputs": [
        {
          "output_type": "stream",
          "name": "stdout",
          "text": [
            "--------------------------------------------------\n",
            "Detailed classification report for current fold:\n",
            "\n",
            "              precision    recall  f1-score   support\n",
            "\n",
            "         0.0       0.92      1.00      0.96        97\n",
            "         1.0       0.91      0.70      0.79        97\n",
            "         2.0       0.79      0.91      0.85        97\n",
            "\n",
            "    accuracy                           0.87       291\n",
            "   macro avg       0.87      0.87      0.87       291\n",
            "weighted avg       0.87      0.87      0.87       291\n",
            "\n",
            "\n",
            "\n",
            "Confusion Matrix for current fold: \n",
            "[[97  0  0]\n",
            " [ 6 68 23]\n",
            " [ 2  7 88]]\n",
            "\n",
            "Accuracy for Current Fold: 0.8694158075601375\n",
            "\n",
            "--------------------------------------------------\n",
            "Detailed classification report for current fold:\n",
            "\n",
            "              precision    recall  f1-score   support\n",
            "\n",
            "         0.0       0.93      0.99      0.96        97\n",
            "         1.0       0.94      0.68      0.79        97\n",
            "         2.0       0.77      0.94      0.85        97\n",
            "\n",
            "    accuracy                           0.87       291\n",
            "   macro avg       0.88      0.87      0.87       291\n",
            "weighted avg       0.88      0.87      0.87       291\n",
            "\n",
            "\n",
            "\n",
            "Confusion Matrix for current fold: \n",
            "[[96  0  1]\n",
            " [ 5 66 26]\n",
            " [ 2  4 91]]\n",
            "\n",
            "Accuracy for Current Fold: 0.8694158075601375\n",
            "\n",
            "--------------------------------------------------\n",
            "Detailed classification report for current fold:\n",
            "\n",
            "              precision    recall  f1-score   support\n",
            "\n",
            "         0.0       0.93      0.96      0.94        96\n",
            "         1.0       0.87      0.62      0.72        97\n",
            "         2.0       0.74      0.93      0.82        97\n",
            "\n",
            "    accuracy                           0.83       290\n",
            "   macro avg       0.85      0.83      0.83       290\n",
            "weighted avg       0.85      0.83      0.83       290\n",
            "\n",
            "\n",
            "\n",
            "Confusion Matrix for current fold: \n",
            "[[92  3  1]\n",
            " [ 6 60 31]\n",
            " [ 1  6 90]]\n",
            "\n",
            "Accuracy for Current Fold: 0.8344827586206897\n",
            "\n"
          ]
        }
      ]
    },
    {
      "cell_type": "code",
      "metadata": {
        "id": "RyXUwkHFDzMQ"
      },
      "source": [
        "#clf_KNN(X_Data, Y_Lavel, 'Glucose')"
      ],
      "execution_count": null,
      "outputs": []
    },
    {
      "cell_type": "code",
      "metadata": {
        "id": "cPs3Ksk5B8tZ"
      },
      "source": [
        "all_clf_res['BloodPressure']"
      ],
      "execution_count": null,
      "outputs": []
    },
    {
      "cell_type": "markdown",
      "metadata": {
        "id": "0vGBC_OpTUVh"
      },
      "source": [
        "#### Analyzing **Decision Trees**"
      ]
    },
    {
      "cell_type": "code",
      "metadata": {
        "id": "YXIvuFNyTUVh"
      },
      "source": [
        "clf_DT(X_Data, Y_Lavel, 'Glucose')"
      ],
      "execution_count": null,
      "outputs": []
    },
    {
      "cell_type": "markdown",
      "metadata": {
        "id": "voo0Cm09TUVi"
      },
      "source": [
        "#### Analyzing **Random Forest**"
      ]
    },
    {
      "cell_type": "code",
      "metadata": {
        "id": "u5dbju9xTUVi"
      },
      "source": [
        "clf_RF(X_Data, Y_Lavel, 'Glucose')"
      ],
      "execution_count": null,
      "outputs": []
    },
    {
      "cell_type": "markdown",
      "metadata": {
        "id": "h9dDOrzmTUVj"
      },
      "source": [
        "#### Analyzing **AdaBoost**"
      ]
    },
    {
      "cell_type": "code",
      "metadata": {
        "id": "pXNHLhI2TUVj"
      },
      "source": [
        "clf_AB(X_Data, Y_Lavel, 'Glucose')"
      ],
      "execution_count": null,
      "outputs": []
    },
    {
      "cell_type": "markdown",
      "metadata": {
        "id": "xYt1DfSdTUVj"
      },
      "source": [
        "#### Analyzing **Naive Bayes**"
      ]
    },
    {
      "cell_type": "code",
      "metadata": {
        "id": "qZJmrlB0TUVk"
      },
      "source": [
        "clf_NB(X_Data, Y_Lavel, 'Glucose')"
      ],
      "execution_count": null,
      "outputs": []
    },
    {
      "cell_type": "markdown",
      "metadata": {
        "id": "qonY4zaqTUVk"
      },
      "source": [
        "#### Analyzing **XGBoost**"
      ]
    },
    {
      "cell_type": "code",
      "metadata": {
        "id": "ZcCdpaKYTUVk"
      },
      "source": [
        "clf_XGB(X_Data, Y_Lavel, 'Glucose')"
      ],
      "execution_count": null,
      "outputs": []
    },
    {
      "cell_type": "markdown",
      "metadata": {
        "id": "LNm5XLjbgICM"
      },
      "source": [
        "# Results"
      ]
    },
    {
      "cell_type": "code",
      "metadata": {
        "id": "CoWT8X5yTowz"
      },
      "source": [
        "row_index = ['BloodPressure', 'Glucose']\n",
        "model_names = ['KNN', 'DecisionTree', 'RandomForest', 'AdaBoost', 'NaiveBayes', 'XGBoost']\n",
        "results = pd.DataFrame(all_clf_res['BloodPressure'], index = model_names)\n",
        "results['Glucose'] = all_clf_res['Glucose']\n",
        "results = results.transpose()"
      ],
      "execution_count": null,
      "outputs": []
    },
    {
      "cell_type": "code",
      "metadata": {
        "id": "WQkn5K84UwfB"
      },
      "source": [
        "results.index = row_index"
      ],
      "execution_count": null,
      "outputs": []
    },
    {
      "cell_type": "code",
      "metadata": {
        "id": "x0A9DjmvWmux"
      },
      "source": [
        "print(\"Multiclass\")\n",
        "results"
      ],
      "execution_count": null,
      "outputs": []
    },
    {
      "cell_type": "code",
      "metadata": {
        "id": "w7bUCaxzEbpQ"
      },
      "source": [
        ""
      ],
      "execution_count": null,
      "outputs": []
    }
  ]
}
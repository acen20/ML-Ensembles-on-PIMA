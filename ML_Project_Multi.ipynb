{
  "nbformat": 4,
  "nbformat_minor": 0,
  "metadata": {
    "colab": {
      "name": "ML_Project - Multi.ipynb",
      "provenance": [],
      "collapsed_sections": [
        "q33OJ0hJqoIs",
        "fkzO1gNx5Tgd",
        "ErKErG555xGZ",
        "bGhn4vnO6K3l",
        "P74ZUthv62Vo",
        "6UhhU-hY7Mbk",
        "Lo6UwJM9wEYU",
        "rRBCrG0g7rVW",
        "TqySfVdpCoE3",
        "ObS0nyN5H1qb",
        "NI8OmhDlIt-f",
        "rkLrc60EJA6i",
        "-evipCEhS6Cb",
        "0vGBC_OpTUVh",
        "voo0Cm09TUVi",
        "h9dDOrzmTUVj",
        "xYt1DfSdTUVj",
        "qonY4zaqTUVk",
        "LNm5XLjbgICM"
      ]
    },
    "kernelspec": {
      "display_name": "Python 3 (ipykernel)",
      "language": "python",
      "name": "python3"
    },
    "language_info": {
      "codemirror_mode": {
        "name": "ipython",
        "version": 3
      },
      "file_extension": ".py",
      "mimetype": "text/x-python",
      "name": "python",
      "nbconvert_exporter": "python",
      "pygments_lexer": "ipython3",
      "version": "3.8.10"
    }
  },
  "cells": [
    {
      "cell_type": "markdown",
      "metadata": {
        "id": "hfulVdlqeDUb"
      },
      "source": [
        "# Libraries"
      ]
    },
    {
      "cell_type": "code",
      "metadata": {
        "id": "6P_KLNhChx4e",
        "scrolled": true
      },
      "source": [
        "import numpy as np\n",
        "import pandas as pd \n",
        "import copy\n",
        "import matplotlib.pyplot as plt\n",
        "%matplotlib inline\n",
        "import seaborn as sns\n",
        "sns.set(font_scale=1.0, style=\"dark\")\n",
        "import warnings \n",
        "from sklearn.svm import SVC, NuSVC\n",
        "warnings.filterwarnings('ignore')\n",
        "from sklearn.model_selection import train_test_split\n",
        "from sklearn.naive_bayes import GaussianNB\n",
        "from sklearn.svm import SVC\n",
        "from sklearn.neighbors  import KNeighborsClassifier\n",
        "from sklearn.tree import DecisionTreeClassifier\n",
        "from sklearn.ensemble import RandomForestClassifier\n",
        "from sklearn.ensemble import AdaBoostClassifier\n",
        "from sklearn.ensemble import GradientBoostingClassifier\n",
        "from sklearn.neural_network import MLPClassifier\n",
        "import xgboost as xgb\n",
        "from scipy import stats\n",
        "from scipy.stats import uniform, randint\n",
        "from sklearn.metrics import f1_score\n",
        "from sklearn.model_selection import KFold, StratifiedKFold, RepeatedStratifiedKFold\n",
        "from sklearn.metrics import roc_curve, auc, accuracy_score\n",
        "# from tflearn.data_utils import to_categorical\n",
        "from sklearn import preprocessing\n",
        "from sklearn.model_selection import GridSearchCV, RandomizedSearchCV\n",
        "from sklearn.metrics import classification_report\n",
        "from scipy import interp\n",
        "from sklearn.metrics import confusion_matrix, multilabel_confusion_matrix, plot_confusion_matrix\n",
        "from sklearn.decomposition import PCA\n",
        "from sklearn.decomposition import FastICA\n",
        "from tensorflow.keras.utils import to_categorical"
      ],
      "execution_count": 86,
      "outputs": []
    },
    {
      "cell_type": "markdown",
      "metadata": {
        "id": "GsIelASieMjL"
      },
      "source": [
        "# Data Manipulation"
      ]
    },
    {
      "cell_type": "code",
      "metadata": {
        "id": "6ZWa0WB5N06M"
      },
      "source": [
        "## Make 1 or True  if you run colab\n",
        "## Other wise 0 or False\n",
        "##if you run in  colab\n",
        "\n",
        "colab = 0\n",
        "if colab ==True:\n",
        "  data_dir='/content/drive/MyDrive/PIMA Journal/diabetes.csv'\n",
        "  from google.colab import drive\n",
        "  drive.mount('/content/drive')\n",
        "else:\n",
        "  \n",
        "  data_dir='Diabetes_processed.csv'\n"
      ],
      "execution_count": 87,
      "outputs": []
    },
    {
      "cell_type": "code",
      "metadata": {
        "id": "gPXAbwA7Olty"
      },
      "source": [
        "data = pd.read_csv(data_dir)\n",
        "all_clf_res = {\n",
        "               'BloodPressure':[],\n",
        "               'Glucose':[]\n",
        "}"
      ],
      "execution_count": 88,
      "outputs": []
    },
    {
      "cell_type": "code",
      "metadata": {
        "colab": {
          "base_uri": "https://localhost:8080/",
          "height": 204
        },
        "id": "fsEN6pCHOtDa",
        "outputId": "e02cd2b4-6d93-49e1-a480-6f757e678234"
      },
      "source": [
        "data.head()"
      ],
      "execution_count": 89,
      "outputs": [
        {
          "output_type": "execute_result",
          "data": {
            "text/html": [
              "<div>\n",
              "<style scoped>\n",
              "    .dataframe tbody tr th:only-of-type {\n",
              "        vertical-align: middle;\n",
              "    }\n",
              "\n",
              "    .dataframe tbody tr th {\n",
              "        vertical-align: top;\n",
              "    }\n",
              "\n",
              "    .dataframe thead th {\n",
              "        text-align: right;\n",
              "    }\n",
              "</style>\n",
              "<table border=\"1\" class=\"dataframe\">\n",
              "  <thead>\n",
              "    <tr style=\"text-align: right;\">\n",
              "      <th></th>\n",
              "      <th>Pregnancies</th>\n",
              "      <th>Glucose</th>\n",
              "      <th>BloodPressure</th>\n",
              "      <th>SkinThickness</th>\n",
              "      <th>Insulin</th>\n",
              "      <th>BMI</th>\n",
              "      <th>DiabetesPedigreeFunction</th>\n",
              "      <th>Age</th>\n",
              "      <th>Outcome</th>\n",
              "    </tr>\n",
              "  </thead>\n",
              "  <tbody>\n",
              "    <tr>\n",
              "      <th>0</th>\n",
              "      <td>6.0</td>\n",
              "      <td>148.0</td>\n",
              "      <td>72.0</td>\n",
              "      <td>35.000000</td>\n",
              "      <td>171.474227</td>\n",
              "      <td>33.6</td>\n",
              "      <td>0.627</td>\n",
              "      <td>50.0</td>\n",
              "      <td>1</td>\n",
              "    </tr>\n",
              "    <tr>\n",
              "      <th>1</th>\n",
              "      <td>1.0</td>\n",
              "      <td>85.0</td>\n",
              "      <td>66.0</td>\n",
              "      <td>29.000000</td>\n",
              "      <td>113.606695</td>\n",
              "      <td>26.6</td>\n",
              "      <td>0.351</td>\n",
              "      <td>31.0</td>\n",
              "      <td>0</td>\n",
              "    </tr>\n",
              "    <tr>\n",
              "      <th>2</th>\n",
              "      <td>8.0</td>\n",
              "      <td>183.0</td>\n",
              "      <td>64.0</td>\n",
              "      <td>32.059259</td>\n",
              "      <td>171.474227</td>\n",
              "      <td>23.3</td>\n",
              "      <td>0.672</td>\n",
              "      <td>32.0</td>\n",
              "      <td>1</td>\n",
              "    </tr>\n",
              "    <tr>\n",
              "      <th>3</th>\n",
              "      <td>1.0</td>\n",
              "      <td>89.0</td>\n",
              "      <td>66.0</td>\n",
              "      <td>23.000000</td>\n",
              "      <td>94.000000</td>\n",
              "      <td>28.1</td>\n",
              "      <td>0.167</td>\n",
              "      <td>21.0</td>\n",
              "      <td>0</td>\n",
              "    </tr>\n",
              "    <tr>\n",
              "      <th>4</th>\n",
              "      <td>5.0</td>\n",
              "      <td>116.0</td>\n",
              "      <td>74.0</td>\n",
              "      <td>27.094512</td>\n",
              "      <td>113.606695</td>\n",
              "      <td>25.6</td>\n",
              "      <td>0.201</td>\n",
              "      <td>30.0</td>\n",
              "      <td>0</td>\n",
              "    </tr>\n",
              "  </tbody>\n",
              "</table>\n",
              "</div>"
            ],
            "text/plain": [
              "   Pregnancies  Glucose  BloodPressure  ...  DiabetesPedigreeFunction   Age  Outcome\n",
              "0          6.0    148.0           72.0  ...                     0.627  50.0        1\n",
              "1          1.0     85.0           66.0  ...                     0.351  31.0        0\n",
              "2          8.0    183.0           64.0  ...                     0.672  32.0        1\n",
              "3          1.0     89.0           66.0  ...                     0.167  21.0        0\n",
              "4          5.0    116.0           74.0  ...                     0.201  30.0        0\n",
              "\n",
              "[5 rows x 9 columns]"
            ]
          },
          "metadata": {},
          "execution_count": 89
        }
      ]
    },
    {
      "cell_type": "code",
      "metadata": {
        "id": "7FBYD-y5pmde"
      },
      "source": [
        "def swap_col(target_):\n",
        "  swap_data = copy.deepcopy(data)\n",
        "  swap_data[target_] = data.Outcome\n",
        "  swap_data.Outcome = data[target_]\n",
        "  swap_data.rename(columns = {'Outcome':target_, target_: 'Diabetic'}, inplace = True)\n",
        "  #swap_data.Diabetic.replace({1:'Yes', 0:'No'} , inplace = True)\n",
        "  return swap_data"
      ],
      "execution_count": 90,
      "outputs": []
    },
    {
      "cell_type": "code",
      "metadata": {
        "id": "9EcVLsoXqcT0"
      },
      "source": [
        "data_BP = swap_col('BloodPressure')\n",
        "\n",
        "#data_ST = swap_col('SkinThickness')\n",
        "#data_Ins = swap_col('Insulin')\n",
        "#data_BMI = swap_col('BMI')\n",
        "#data_DPF = swap_col('DiabetesPedigreeFunction')\n",
        "#data_Age = swap_col('Age')\n",
        "#data_Pregnancies = swap_col('Pregnancies')"
      ],
      "execution_count": 91,
      "outputs": []
    },
    {
      "cell_type": "code",
      "metadata": {
        "colab": {
          "base_uri": "https://localhost:8080/",
          "height": 204
        },
        "id": "7g6m-qlyhx4u",
        "outputId": "10d41bc1-9e98-42be-d7ac-fc540cc750a4"
      },
      "source": [
        "data_BP.head()"
      ],
      "execution_count": 92,
      "outputs": [
        {
          "output_type": "execute_result",
          "data": {
            "text/html": [
              "<div>\n",
              "<style scoped>\n",
              "    .dataframe tbody tr th:only-of-type {\n",
              "        vertical-align: middle;\n",
              "    }\n",
              "\n",
              "    .dataframe tbody tr th {\n",
              "        vertical-align: top;\n",
              "    }\n",
              "\n",
              "    .dataframe thead th {\n",
              "        text-align: right;\n",
              "    }\n",
              "</style>\n",
              "<table border=\"1\" class=\"dataframe\">\n",
              "  <thead>\n",
              "    <tr style=\"text-align: right;\">\n",
              "      <th></th>\n",
              "      <th>Pregnancies</th>\n",
              "      <th>Glucose</th>\n",
              "      <th>Diabetic</th>\n",
              "      <th>SkinThickness</th>\n",
              "      <th>Insulin</th>\n",
              "      <th>BMI</th>\n",
              "      <th>DiabetesPedigreeFunction</th>\n",
              "      <th>Age</th>\n",
              "      <th>BloodPressure</th>\n",
              "    </tr>\n",
              "  </thead>\n",
              "  <tbody>\n",
              "    <tr>\n",
              "      <th>0</th>\n",
              "      <td>6.0</td>\n",
              "      <td>148.0</td>\n",
              "      <td>1</td>\n",
              "      <td>35.000000</td>\n",
              "      <td>171.474227</td>\n",
              "      <td>33.6</td>\n",
              "      <td>0.627</td>\n",
              "      <td>50.0</td>\n",
              "      <td>72.0</td>\n",
              "    </tr>\n",
              "    <tr>\n",
              "      <th>1</th>\n",
              "      <td>1.0</td>\n",
              "      <td>85.0</td>\n",
              "      <td>0</td>\n",
              "      <td>29.000000</td>\n",
              "      <td>113.606695</td>\n",
              "      <td>26.6</td>\n",
              "      <td>0.351</td>\n",
              "      <td>31.0</td>\n",
              "      <td>66.0</td>\n",
              "    </tr>\n",
              "    <tr>\n",
              "      <th>2</th>\n",
              "      <td>8.0</td>\n",
              "      <td>183.0</td>\n",
              "      <td>1</td>\n",
              "      <td>32.059259</td>\n",
              "      <td>171.474227</td>\n",
              "      <td>23.3</td>\n",
              "      <td>0.672</td>\n",
              "      <td>32.0</td>\n",
              "      <td>64.0</td>\n",
              "    </tr>\n",
              "    <tr>\n",
              "      <th>3</th>\n",
              "      <td>1.0</td>\n",
              "      <td>89.0</td>\n",
              "      <td>0</td>\n",
              "      <td>23.000000</td>\n",
              "      <td>94.000000</td>\n",
              "      <td>28.1</td>\n",
              "      <td>0.167</td>\n",
              "      <td>21.0</td>\n",
              "      <td>66.0</td>\n",
              "    </tr>\n",
              "    <tr>\n",
              "      <th>4</th>\n",
              "      <td>5.0</td>\n",
              "      <td>116.0</td>\n",
              "      <td>0</td>\n",
              "      <td>27.094512</td>\n",
              "      <td>113.606695</td>\n",
              "      <td>25.6</td>\n",
              "      <td>0.201</td>\n",
              "      <td>30.0</td>\n",
              "      <td>74.0</td>\n",
              "    </tr>\n",
              "  </tbody>\n",
              "</table>\n",
              "</div>"
            ],
            "text/plain": [
              "   Pregnancies  Glucose  ...   Age  BloodPressure\n",
              "0          6.0    148.0  ...  50.0           72.0\n",
              "1          1.0     85.0  ...  31.0           66.0\n",
              "2          8.0    183.0  ...  32.0           64.0\n",
              "3          1.0     89.0  ...  21.0           66.0\n",
              "4          5.0    116.0  ...  30.0           74.0\n",
              "\n",
              "[5 rows x 9 columns]"
            ]
          },
          "metadata": {},
          "execution_count": 92
        }
      ]
    },
    {
      "cell_type": "code",
      "metadata": {
        "id": "sSG-nEalhx4w"
      },
      "source": [
        "knn_res = pd.DataFrame()\n",
        "random_initializer=100            #random initializer\n",
        "n_dots=50"
      ],
      "execution_count": 93,
      "outputs": []
    },
    {
      "cell_type": "markdown",
      "metadata": {
        "id": "9635-rRaNaHB"
      },
      "source": [
        "# Utility Functions\n"
      ]
    },
    {
      "cell_type": "code",
      "metadata": {
        "id": "3PneAZ5Jhx4x"
      },
      "source": [
        "def metrics (y_true, y_pred, probas_, tprs, mean_fpr):\n",
        "  '''\n",
        "  Parameters :\n",
        "  Input - \n",
        "  y_true - true  value of input data    \n",
        "  y_pred- predicted  value of input data  \n",
        "  probas_- probability/confidence of predicted output\n",
        "\n",
        "  return -True Negative(tn),False Positive(fp),False Negative(fn)\n",
        "  True positive(tp),AUC(roc_auc),False Positive Rate(fpr),\n",
        "  True positive rate(tpr)\n",
        "\n",
        "  '''\n",
        "\n",
        "\n",
        "  points=n_dots*'-'\n",
        "  print(points)\n",
        "#    print(\"Best parameters set found on development set:\")\n",
        "#    print(clf.best_params_)\n",
        "  #fpr, tpr, thresholds = roc_curve(y_true, probas_[:, 1])\n",
        "  #tprs.append(interp(mean_fpr, fpr, tpr))\n",
        "  #tprs[-1][0] = 0.0\n",
        "  #roc_auc = auc(fpr, tpr)\n",
        "  #  aucs.append(roc_auc)\n",
        "  print(\"Detailed classification report for current fold:\")\n",
        "  print()\n",
        "  print(classification_report(y_true, y_pred))\n",
        "  print()\n",
        "  #print(\"Area Under ROC (AUC): {}\".format(roc_auc))\n",
        "  print()\n",
        "  print('Confusion Matrix for current fold: ')\n",
        "  print(confusion_matrix(y_true, y_pred))\n",
        "  print()\n",
        "  print(\"Accuracy for Current Fold: {}\".format(accuracy_score(y_true, y_pred)))\n",
        "  print()\n",
        "  confusion_array = multilabel_confusion_matrix(y_true, y_pred)\n",
        "  confusion_d = pd.DataFrame(confusion_array.reshape(-1, 4), columns=[\"TN\", \"FP\", \"FN\", \"TP\"])\n",
        "  tn, fp, fn, tp = np.array(confusion_d.TN), np.array(confusion_d.FP), np.array(confusion_d.FN), np.array(confusion_d.TP)\n",
        "\n",
        "  return  tn, fp, fn, tp\n",
        "\n",
        "#*******************************************************************************#\n",
        "\n",
        "def plot_Current_ROC(fpr,tpr,iterator,roc_auc):\n",
        "  \n",
        "  '''\n",
        "  Parameters :\n",
        "  Input - \n",
        "  fpr - False positive rate\n",
        "  tpr - True positive rate\n",
        "  roc_auc -auc values of roc curve\n",
        "\n",
        "  Output - \n",
        "  Visalization of current roc curve\n",
        "\n",
        "  '''\n",
        "  plt.plot(fpr,\n",
        "          \n",
        "          tpr,\n",
        "          # Color[iterator],\n",
        "          alpha=0.35,\n",
        "          # label='macro-average ROC (AUC = {0:0.3f})'.format(roc_auc)\n",
        "          # +FOLD[iterator],\n",
        "          linewidth=1)\n",
        "  \n",
        "\n",
        "#*******************************************************************************#\n",
        "   \n",
        "def average_ROC(mean_fpr,tprs,aucs,TP,TN,FP,FN):\n",
        "\n",
        "  '''\n",
        "  Parameters :\n",
        "  mean_fpr - Mean False positive rate\n",
        "  tprs -values of true positive rate\n",
        "  aucs  - values of auc\n",
        "  TP    - True positive \n",
        "  TN    - True Negative\n",
        "  FP    - False Positiv\n",
        "  FN    - False Negative\n",
        "\n",
        "  Output - \n",
        "  Visalization of TPR vs FPR plot\n",
        "  '''\n",
        "  sen = (np.sum(TP))/(np.sum(TP)+np.sum(FN))\n",
        "  spe = (np.sum(TN))/(np.sum(TN)+np.sum(FP))\n",
        "\n",
        "  mean_tpr = np.mean(tprs, axis=0)\n",
        "  mean_tpr[-1] = 1.0\n",
        "  # mean_auc = auc(mean_fpr, mean_tpr)\n",
        "  mean_auc = np.mean(aucs)\n",
        "  std_auc = np.std(aucs)\n",
        "  # plt.figure(figsize=(8, 5))\n",
        "  # plt.grid(True)\n",
        "  ax = plt.axes()\n",
        "  ax.grid(color='lightgray', linestyle='-', linewidth=.5)\n",
        "  # Setting the background color\n",
        "  ax.set_facecolor(\"white\")\n",
        "  \n",
        "  ax.spines['bottom'].set_color('#000000')\n",
        "  ax.spines['top'].set_color('#000000') \n",
        "  ax.spines['right'].set_color('#000000')\n",
        "  ax.spines['left'].set_color('#000000')\n",
        "\n",
        "  plt.plot(mean_fpr, mean_tpr, color='blue',\n",
        "          label=r'Avg. ROC (AUC (avg $\\pm$ std) = %0.3f $\\pm$ %0.3f)' % (mean_auc, std_auc),\n",
        "          lw=2, alpha=.8)\n",
        "  \n",
        "  plt.scatter((1-spe), sen, s=80, c='r', marker='x',)\n",
        "  plt.scatter(0, sen, s=80, c='r', marker='x',)\n",
        "  plt.scatter((1-spe),0, s=80, c='r', marker='x',)\n",
        "  plt.axhline(y=sen, color='r', linestyle='--')\n",
        "  plt.axvline(x=(1-spe), color='r', linestyle='--')\n",
        "  plt.text((1-spe), 0.02, \"FPR={:0.3f}\".format((1-spe)))\n",
        "  plt.text(0.009, sen+0.05, \"TPR={:0.3f}\".format(sen))\n",
        "\n",
        "  std_tpr = np.std(tprs, axis=0)\n",
        "  tprs_upper = np.minimum(mean_tpr + std_tpr, 1)\n",
        "  tprs_lower = np.maximum(mean_tpr - std_tpr, 0)\n",
        "  plt.fill_between(mean_fpr, tprs_lower, tprs_upper, color='darkgray', alpha=0.5,\n",
        "                  label=r'$\\pm$ 1 Standard deviation')\n",
        "\n",
        "  plt.xticks(np.arange(0.0, 1.01, step=0.1))\n",
        "  plt.yticks(np.arange(0.0, 1.01, step=0.1))\n",
        "  left=0.0\n",
        "  right=1.0\n",
        "  plt.xlim(left, right)\n",
        "  plt.ylim(left, right)\n",
        "  plt.xlabel('False Positive Rate (FPR)')\n",
        "  plt.ylabel('True Positive Rate (TPR)')\n",
        "  plt.legend(loc=\"lower right\")\n",
        "  # plt.grid(True)\n",
        "  plt.show()\n",
        "\n",
        "#*******************************************************************************#\n",
        "\n",
        "def average_performance(Accuracy,TP,TN,FP,FN, target_col): \n",
        "\n",
        "  '''\n",
        "  Parameters :\n",
        "  Input - \n",
        "  Accuracy - value of accuracy\n",
        "  TP  - True Positive\n",
        "  TN  - True Negative\n",
        "  FP  - False Positive\n",
        "  FN  - False Negative\n",
        "\n",
        "\n",
        "  Output - \n",
        "  It prints the average accuarcy,confusion matrix\n",
        "  '''\n",
        "\n",
        "  print()\n",
        "  n_dotsav=(n_dots-len('Average'))//2\n",
        "    \n",
        "  print('-'*n_dotsav+'Average'+'-'*n_dotsav)\n",
        "  #print(\"AUC (Avg. +/- Std.) is  %0.3f +/- %0.3f\" %(np.mean(aucs),np.std(aucs)))\n",
        "  print(\"Accuracy (Avg. +/- Std.) is  %0.3f +/- %0.3f\" %(np.mean(Accuracy),np.std(Accuracy)))\n",
        "  cm = [[int(np.mean(TP)), int(np.mean(FP))],[int(np.mean(FN)), int(np.mean(TN))]]\n",
        "  print ('Avg. CM is '+str(cm))\n",
        "  cm = [[int(np.sum(TP)), int(np.sum(FP))],[int(np.sum(FN)), int(np.sum(TN))]]\n",
        "  print ('Total for all folds CM is '+str(cm))\n",
        "  #re_auc=str(round(np.mean(aucs), 3))+'+/-'+str(round(np.std(aucs),3))\n",
        "  re_accuracy=str(round(np.mean(Accuracy), 3))+'+/-'+str(round(np.std(Accuracy),3))\n",
        "  all_clf_res[target_col].append(re_accuracy)\n",
        "\n",
        "def creat_Model (classifier, X_Train, Y_Train, tuned_parameters, verbose):\n",
        " \n",
        "    clf = GridSearchCV(classifier,\n",
        "                    tuned_parameters,\n",
        "                    verbose=verbose,\n",
        "                    cv=5,\n",
        "                    scoring='accuracy',\n",
        "                    n_jobs=-1)\n",
        "    clf.fit(X_Train, Y_Train)\n",
        "    return clf\n",
        "\n",
        "#*******************************************************************************#\n",
        "    \n",
        "def feature_Selector(data, algo, n_feature):\n",
        " \n",
        "    if algo=='PCA':                                                   #for pca algorithm\n",
        "        X_Data= data.iloc[:,:8].values\n",
        "        pca = PCA(n_components=n_feature)                             #number of feature\n",
        "        X_Data = pca.fit_transform(X_Data)\n",
        "        return X_Data , data.iloc[:,8:].values\n",
        " \n",
        "    if algo == 'ICA':\n",
        "        X_Data= data.iloc[:,:8].values\n",
        "        ICA = FastICA(n_components=n_feature, random_state=12) \n",
        "        X_Data = ICA.fit_transform(X_Data)\n",
        "        return X_Data , data.iloc[:,8:].values\n",
        "    \n",
        "    if algo =='corr':                                                   #for ica algorithm\n",
        "        if n_feature ==4:\n",
        "            data = data[['F2','F5','F4','F6','Outcome']]                #for 4 feature\n",
        "            return data.iloc[:,:4].values, data.iloc[:,4:].values\n",
        "        if n_feature ==6:\n",
        "            data = data[['F1','F2','F4','F5','F6','F8','Outcome']]       #for 6 feature\n",
        "            return data.iloc[:,:6].values, data.iloc[:,6:].values\n",
        "        \n",
        "    if algo == 'None':\n",
        "        return data.iloc[:,:8].values, data.iloc[:,8:].values            #if feature selection is off all features are counted\n",
        "\n",
        "#*******************************************************************************#"
      ],
      "execution_count": 94,
      "outputs": []
    },
    {
      "cell_type": "code",
      "metadata": {
        "id": "nb_v6Fnqhx40"
      },
      "source": [
        "kf = StratifiedKFold(n_splits=5,\n",
        "                     shuffle=True,\n",
        "                     random_state=random_initializer)"
      ],
      "execution_count": 95,
      "outputs": []
    },
    {
      "cell_type": "markdown",
      "metadata": {
        "id": "vfYhdL_AN9i1"
      },
      "source": [
        "# **Classifiers**"
      ]
    },
    {
      "cell_type": "markdown",
      "metadata": {
        "id": "q33OJ0hJqoIs"
      },
      "source": [
        "## KNN Classifier"
      ]
    },
    {
      "cell_type": "code",
      "metadata": {
        "id": "J1257TzEqoIw",
        "scrolled": true
      },
      "source": [
        "def clf_KNN(X_Data, Y_Lavel, target_col):\n",
        "\n",
        "    Accuracy = []                                                                # for store the value of accuracy \n",
        "    FP = []                                                                      # for store False Positive \n",
        "    TN = []                                                                      # for True Negative\n",
        "    FN = []                                                                      # for False Negative\n",
        "    TP = []                                                                      # for True Positive\n",
        "    tprs = []                                                                    # for true positive rates\n",
        "    aucs_kNN = []                                                                # for store the values of auc\n",
        "    iterator=0\n",
        "    mean_fpr = np.linspace(0, 1, 100)\n",
        "    fig = plt.figure(figsize=(8, 5))\n",
        "\n",
        "    for train_index, test_index in kf.split(X_Data,Y_Lavel):                     # split in train and test\n",
        "        #   print(\"TRAIN:\", train_index, \"TEST:\", test_index)\n",
        "        X_Train, X_Test = X_Data[train_index], X_Data[test_index]                #train data and label\n",
        "        Y_Train, Y_Test = Y_Lavel[train_index], Y_Lavel[test_index]              #test data and label\n",
        "\n",
        "        ###########################################\n",
        "        # define the hyper parameters of Knn\n",
        "        n_neighbors = [1,3,5,7,9,11,13,15,17,19,21,23,25,27,29,31,33,35,37,39,41,43,45,47,49]\n",
        "        leaf_size = [5,10,15,20,25,30,35,40,45,50]\n",
        "        Distance = [1,2]\n",
        "        ############################################\n",
        "\n",
        "\n",
        "        tuned_parameters = [ {'n_neighbors': n_neighbors,                         #define parameters with different algorithm\n",
        "                            'algorithm' : ['brute'],\n",
        "                            'p':Distance},\n",
        "\n",
        "                            {'n_neighbors': n_neighbors, \n",
        "                            'algorithm' : ['ball_tree'],\n",
        "                            'leaf_size' : leaf_size,\n",
        "                            'p':Distance},\n",
        "\n",
        "                            {'n_neighbors': n_neighbors, \n",
        "                            'algorithm' : ['kd_tree'],\n",
        "                            'leaf_size' : leaf_size,\n",
        "                            'p':Distance}]\n",
        "\n",
        "        clf = creat_Model (classifier = KNeighborsClassifier(),                     #create the model \n",
        "                          X_Train = X_Train,\n",
        "                          Y_Train = Y_Train,\n",
        "                          tuned_parameters = tuned_parameters,\n",
        "                          verbose=0)\n",
        "\n",
        "        tn, fp, fn, tp = metrics (y_true = Y_Test,               #get the values of  model evaluation \n",
        "                                          y_pred = clf.predict(X_Test),\n",
        "                                          probas_ = clf.predict_proba(X_Test), \n",
        "                                          tprs = tprs,\n",
        "                                          mean_fpr = mean_fpr)\n",
        "        #tprs.append(interp(mean_fpr, fpr, tpr))                                     \n",
        "        #tprs[-1][0] = 0.0\n",
        "        #aucs_kNN.append(roc_auc)\n",
        "        #plot_Current_ROC (fpr,tpr,iterator,roc_auc)                                 #plot the roc of current fold\n",
        "        iterator += 1\n",
        "        plot_confusion_matrix(clf, X_Test, Y_Test)\n",
        "        TN.append(tn)\n",
        "        FP.append(fp)\n",
        "        FN.append(fn)\n",
        "        TP.append(tp)\n",
        "        Accuracy.append(accuracy_score(Y_Test, clf.predict(X_Test)))\n",
        "    #average_ROC(mean_fpr,tprs,aucs_kNN,TP,TN,FP,FN)                                 #plot average roc curve\n",
        "    average_performance(Accuracy,TP,TN,FP,FN, target_col)                  #print the average performance of the model   "
      ],
      "execution_count": 96,
      "outputs": []
    },
    {
      "cell_type": "markdown",
      "metadata": {
        "id": "fkzO1gNx5Tgd"
      },
      "source": [
        "## Decision Tree"
      ]
    },
    {
      "cell_type": "code",
      "metadata": {
        "id": "D1ynAB2l5eHZ"
      },
      "source": [
        "def clf_DT(X_Data, Y_Lavel, target_col):\n",
        "\n",
        "  Accuracy = []                                                                # for store the value of accuracy \n",
        "  FP = []                                                                      # for store False Positive \n",
        "  TN = []                                                                      # for True Negative\n",
        "  FN = []                                                                      # for False Negative\n",
        "  TP = []                                                                      # for True Positive\n",
        "  tprs = []                                                                    # for true positive rates\n",
        "  aucs_Tree = []                                                               # for store the values of auc of tree model\n",
        "  iterator=0\n",
        "  mean_fpr = np.linspace(0, 1, 100)\n",
        "  fig = plt.figure(figsize=(8, 5))\n",
        "\n",
        "  for train_index, test_index in kf.split(X_Data,Y_Lavel):\n",
        "      #   print(\"TRAIN:\", train_index, \"TEST:\", test_index)\n",
        "      X_Train, X_Test = X_Data[train_index], X_Data[test_index]\n",
        "      Y_Train, Y_Test = Y_Lavel[train_index], Y_Lavel[test_index]\n",
        "\n",
        "                                                                              # define the decision tree parameters \n",
        "\n",
        "      tuned_parameters = {'criterion': ['gini','entropy'],\n",
        "                        'splitter': ['best'],\n",
        "                        'min_samples_split':[0.1,0.2,0.3,0.4,0.5,0.6,0.7,0.8,0.9,1.0],\n",
        "                        'min_samples_leaf': [1,2,3,4,5] }\n",
        "\n",
        "      clf = creat_Model (classifier = DecisionTreeClassifier( random_state=random_initializer),\n",
        "                        X_Train = X_Train,                                    # create the model using DecisionTree Classifier \n",
        "                        Y_Train = Y_Train,\n",
        "                        tuned_parameters = tuned_parameters,\n",
        "                        verbose=0)\n",
        "\n",
        "      tn, fp, fn, tp  = metrics (y_true = Y_Test,           #get the evaluation parameters of model\n",
        "                                y_pred = clf.predict(X_Test),\n",
        "                                probas_ = clf.predict_proba(X_Test),\n",
        "                                tprs = tprs, \n",
        "                                mean_fpr = mean_fpr)\n",
        "      #tprs.append(interp(mean_fpr, fpr, tpr))\n",
        "      #tprs[-1][0] = 0.0\n",
        "      #aucs_Tree.append(roc_auc)                                                # plot the roc of current fold\n",
        "      iterator += 1\n",
        "      TN.append(tn)\n",
        "      FP.append(fp)\n",
        "      FN.append(fn)\n",
        "      TP.append(tp)\n",
        "      Accuracy.append(accuracy_score(Y_Test, clf.predict(X_Test)))\n",
        "  #average_ROC(mean_fpr,tprs,aucs_Tree,TP,TN,FP,FN)                             #plot average roc curve\n",
        "  average_performance(Accuracy,TP,TN,FP,FN, target_col)                          #print the average performance of the model"
      ],
      "execution_count": 97,
      "outputs": []
    },
    {
      "cell_type": "markdown",
      "metadata": {
        "id": "ErKErG555xGZ"
      },
      "source": [
        "## Random Forest"
      ]
    },
    {
      "cell_type": "code",
      "metadata": {
        "id": "lKmfWVqn54Yg"
      },
      "source": [
        "def clf_RF(X_Data, Y_Lavel, target_col):\n",
        "  Accuracy = []                                                                # for store the value of accuracy \n",
        "  FP = []                                                                      # for store False Positive \n",
        "  TN = []                                                                      # for True Negative\n",
        "  FN = []                                                                      # for False Negative\n",
        "  TP = []                                                                      # for True Positive\n",
        "  tprs = []                                                                    # for true positive rates\n",
        "  aucs_Forest = []                                                             # for store the values of auc of Random Forest model\n",
        "  iterator=0\n",
        "  mean_fpr = np.linspace(0, 1, 100)\n",
        "  fig = plt.figure(figsize=(8, 5))\n",
        "\n",
        "  for train_index, test_index in kf.split(X_Data,Y_Lavel):                     #split dataset into train /test\n",
        "  #   print(\"TRAIN:\", train_index, \"TEST:\", test_index)\n",
        "      X_Train, X_Test = X_Data[train_index], X_Data[test_index]                # data and label of train dataset\n",
        "      Y_Train, Y_Test = Y_Lavel[train_index], Y_Lavel[test_index]              # data and label of test dataset\n",
        "\n",
        "      # parameters of Random Forest model\n",
        "      tuned_parameters = {'criterion': ['gini','entropy']}\n",
        "\n",
        "      clf = creat_Model (classifier = RandomForestClassifier( random_state=random_initializer),\n",
        "                        X_Train = X_Train,                                      # create a model using random forest classifier\n",
        "                        Y_Train = Y_Train,\n",
        "                        tuned_parameters = tuned_parameters,\n",
        "                        verbose=0)\n",
        "\n",
        "      tn, fp, fn, tp = metrics (y_true = Y_Test,              #evaluation parameters of random forest model\n",
        "                                y_pred = clf.predict(X_Test),\n",
        "                                probas_ = clf.predict_proba(X_Test),\n",
        "                                tprs = tprs, \n",
        "                                mean_fpr = mean_fpr)\n",
        "      \n",
        "      #tprs.append(interp(mean_fpr, fpr, tpr))\n",
        "      #tprs[-1][0] = 0.0\n",
        "      #aucs_Forest.append(roc_auc)\n",
        "      #plot_Current_ROC (fpr,tpr,iterator,roc_auc)                               #plot the roc of current fold\n",
        "      iterator += 1\n",
        "      TN.append(tn)\n",
        "      FP.append(fp)\n",
        "      FN.append(fn)\n",
        "      TP.append(tp)\n",
        "      Accuracy.append(accuracy_score(Y_Test, clf.predict(X_Test)))\n",
        "  #average_ROC(mean_fpr,tprs,aucs_Forest,TP,TN,FP,FN)                            #plot average roc curve\n",
        "  average_performance(Accuracy,TP,TN,FP,FN, target_col)                         #print the average performance of the model"
      ],
      "execution_count": 98,
      "outputs": []
    },
    {
      "cell_type": "markdown",
      "metadata": {
        "id": "bGhn4vnO6K3l"
      },
      "source": [
        "## AdaBoost"
      ]
    },
    {
      "cell_type": "code",
      "metadata": {
        "id": "0SfVImwq6WGh"
      },
      "source": [
        "def clf_AB(X_Data, Y_Lavel, target_col):\n",
        "  Accuracy = []                                                                # for store the value of accuracy \n",
        "  FP = []                                                                      # for store False Positive \n",
        "  TN = []                                                                      # for True Negative\n",
        "  FN = []                                                                      # for False Negative\n",
        "  TP = []                                                                      # for True Positive\n",
        "  tprs = []                                                                    # for true positive rates\n",
        "  aucs_aBoost = []                                                             # for store the values of auc of Adaboost model\n",
        "  iterator=0\n",
        "\n",
        "  mean_fpr = np.linspace(0, 1, 100)\n",
        "  fig = plt.figure(figsize=(8, 5))\n",
        "\n",
        "\n",
        "  for train_index, test_index in kf.split(X_Data,Y_Lavel):                     #split into train and test \n",
        "      #   print(\"TRAIN:\", train_index, \"TEST:\", test_index)\n",
        "      X_Train, X_Test = X_Data[train_index], X_Data[test_index]                #data and label\n",
        "      Y_Train, Y_Test = Y_Lavel[train_index], Y_Lavel[test_index]              #data and label\n",
        "\n",
        "      #####################################################\n",
        "      # define the parameters of adaboost algorithm\n",
        "      #####################################################\n",
        "      tuned_parameters = { 'algorithm': ['SAMME','SAMME.R'],\n",
        "                        'learning_rate':[0.1,0.5,1.0],\n",
        "                        'n_estimators': [10,50,100,200]}\n",
        "\n",
        "      \n",
        "      clf = creat_Model (classifier = AdaBoostClassifier( random_state=random_initializer),\n",
        "                        X_Train = X_Train,                                      # create a model using  AdaBoost Classifier\n",
        "                        Y_Train = Y_Train,\n",
        "                        tuned_parameters = tuned_parameters,\n",
        "                        verbose=0)\n",
        "      tn, fp, fn, tp = metrics (y_true = Y_Test,             # model evaluation parametrs\n",
        "                                y_pred = clf.predict(X_Test),\n",
        "                                probas_ = clf.predict_proba(X_Test),\n",
        "                                tprs = tprs, \n",
        "                                mean_fpr = mean_fpr)\n",
        "      #tprs.append(interp(mean_fpr, fpr, tpr))\n",
        "      #tprs[-1][0] = 0.0\n",
        "      #aucs_aBoost.append(roc_auc)\n",
        "      #plot_Current_ROC (fpr,tpr,iterator,roc_auc)                              #plot the roc of current fold\n",
        "      iterator += 1\n",
        "      TN.append(tn)\n",
        "      FP.append(fp)\n",
        "      FN.append(fn)\n",
        "      TP.append(tp)\n",
        "      Accuracy.append(accuracy_score(Y_Test, clf.predict(X_Test)))\n",
        "  #average_ROC(mean_fpr,tprs,aucs_aBoost,TP,TN,FP,FN)                           #plot average roc curve\n",
        "  average_performance(Accuracy,TP,TN,FP,FN, target_col)                        #print the average performance of the model"
      ],
      "execution_count": 99,
      "outputs": []
    },
    {
      "cell_type": "markdown",
      "metadata": {
        "id": "P74ZUthv62Vo"
      },
      "source": [
        "## Naive Bayes"
      ]
    },
    {
      "cell_type": "code",
      "metadata": {
        "id": "aGSIcPav67nG"
      },
      "source": [
        "def clf_NB(X_Data, Y_Lavel, target_col):\n",
        "  Accuracy = []                                                                # for store the value of accuracy \n",
        "  FP = []                                                                      # for store False Positive \n",
        "  TN = []                                                                      # for True Negative\n",
        "  FN = []                                                                      # for False Negative\n",
        "  TP = []                                                                      # for True Positive\n",
        "  tprs = []                                                                    # for true positive rates\n",
        "  aucs_NB = []                                                                 # for store the values of auc of  model\n",
        "  iterator=0\n",
        "\n",
        "  mean_fpr = np.linspace(0, 1, 100) \n",
        "  fig = plt.figure(figsize=(8, 5))\n",
        "\n",
        "\n",
        "  for train_index, test_index in kf.split(X_Data,Y_Lavel):                     #split into train and test\n",
        "  #   print(\"TRAIN:\", train_index, \"TEST:\", test_index)\n",
        "      X_Train, X_Test = X_Data[train_index], X_Data[test_index]                #train data and label\n",
        "      Y_Train, Y_Test = Y_Lavel[train_index], Y_Lavel[test_index]              #test  data and label\n",
        "\n",
        "\n",
        "      #############################################\n",
        "      # define parameters of Naive Bayes model \n",
        "      ############################################\n",
        "      var_smoothing = [1e-01,\n",
        "                      1e-02,\n",
        "                      1e-03,\n",
        "                      1e-04,\n",
        "                      1e-05,\n",
        "                      1e-06,\n",
        "                      1e-07,\n",
        "                      1e-08,\n",
        "                      1e-09,\n",
        "                      1e-10,\n",
        "                      1e-11,\n",
        "                      1e-12]\n",
        "\n",
        "      tuned_parameters = [{'var_smoothing': var_smoothing}]\n",
        "\n",
        "      #############################################################\n",
        "      clf = creat_Model (classifier = GaussianNB(),                             # create model using Naive Bias\n",
        "                        X_Train = X_Train,\n",
        "                        Y_Train = Y_Train,\n",
        "                        tuned_parameters = tuned_parameters,\n",
        "                        verbose=0)\n",
        "      tn, fp, fn, tp = metrics (y_true = Y_Test,             # model evaluation parameters\n",
        "                                y_pred = clf.predict(X_Test),\n",
        "                                probas_ = clf.predict_proba(X_Test),\n",
        "                                tprs = tprs, \n",
        "                                mean_fpr = mean_fpr)\n",
        "      #tprs.append(interp(mean_fpr, fpr, tpr))\n",
        "      #tprs[-1][0] = 0.0\n",
        "      #aucs_NB.append(roc_auc)\n",
        "      #plot_Current_ROC (fpr,tpr,iterator,roc_auc)                               #plot the roc of current fold\n",
        "      iterator += 1\n",
        "      TN.append(tn)\n",
        "      FP.append(fp)\n",
        "      FN.append(fn)\n",
        "      TP.append(tp)\n",
        "      Accuracy.append(accuracy_score(Y_Test, clf.predict(X_Test)))\n",
        "  #average_ROC(mean_fpr,tprs,aucs_NB,TP,TN,FP,FN)                               #plot average roc curve\n",
        "  average_performance(Accuracy,TP,TN,FP,FN, target_col)                            #print the average performance of the model"
      ],
      "execution_count": 100,
      "outputs": []
    },
    {
      "cell_type": "markdown",
      "metadata": {
        "id": "6UhhU-hY7Mbk"
      },
      "source": [
        "## XGBoost"
      ]
    },
    {
      "cell_type": "code",
      "metadata": {
        "id": "a8XPonAI7XKk"
      },
      "source": [
        "def clf_XGB(X_Data, Y_Lavel, target_col):\n",
        "  Accuracy = []                                                                # for store the value of accuracy \n",
        "  FP = []                                                                      # for store False Positive \n",
        "  TN = []                                                                      # for True Negative\n",
        "  FN = []                                                                      # for False Negative\n",
        "  TP = []                                                                      # for True Positive\n",
        "  tprs = []                                                                    # for true positive rates\n",
        "  aucs_xboost = []                                                                # for store the values of auc\n",
        "  sn = []                                                                      # for sensitivity \n",
        "  sp = []                                                                      # for specificity\n",
        "  pr = []                                                                      # for precision\n",
        "  FOR = []                                                                     # for False omission rate \n",
        "  DOR = []                                                                     # for Diagnostic odds ratio (DOR)\n",
        "  iterator=0\n",
        "  mean_fpr = np.linspace(0, 1, 100)\n",
        "  fig = plt.figure(figsize=(8, 5))\n",
        "\n",
        "\n",
        "  for train_index, test_index in kf.split(X_Data,Y_Lavel):                     # split into train and test\n",
        "  #   print(\"TRAIN:\", train_index, \"TEST:\", test_index)\n",
        "      X_Train, X_Test = X_Data[train_index], X_Data[test_index]                #train data and label\n",
        "      Y_Train, Y_Test = Y_Lavel[train_index], Y_Lavel[test_index]              #test data and label\n",
        "\n",
        "      #####################################\n",
        "      ## define the parameters \n",
        "      ######################################\n",
        "      tuned_parameters = {\n",
        "          'min_child_weight': [1, 5, 10],\n",
        "          'gamma': [0.5, 1, 1.5, 2, 5],\n",
        "          'subsample': [0.5, 1.0],\n",
        "          'colsample_bytree': [0.6, 0.8, 1.0],\n",
        "          'max_depth': [3, 4, 5]\n",
        "          }\n",
        "\n",
        "      clf = creat_Model (classifier = xgb.XGBClassifier(objective = \"multi:softprob\", eval_metric = 'merror', random_state=random_initializer),\n",
        "                        X_Train = X_Train,                                        # create model using XGB classifier \n",
        "                        Y_Train = Y_Train,\n",
        "                        tuned_parameters = tuned_parameters,\n",
        "                        verbose=0)\n",
        "      tn, fp, fn, tp  = metrics (y_true = Y_Test,               #evaluate the model parameters\n",
        "                        y_pred = clf.predict(X_Test),\n",
        "                        probas_ = clf.predict_proba(X_Test),\n",
        "                        tprs = tprs, \n",
        "                        mean_fpr = mean_fpr)\n",
        "      #tprs.append(interp(mean_fpr, fpr, tpr))\n",
        "      #tprs[-1][0] = 0.0\n",
        "      #aucs_xboost.append(roc_auc)\n",
        "      #plot_Current_ROC(fpr,tpr,iterator,roc_auc)                                  #plot the roc of current fold \n",
        "      iterator += 1\n",
        "      TN.append(tn)\n",
        "      FP.append(fp)\n",
        "      FN.append(fn)\n",
        "      TP.append(tp)\n",
        "      Accuracy.append(accuracy_score(Y_Test, clf.predict(X_Test)))\n",
        "      sn.append(tp/(tp+fn))\n",
        "      sp.append(tn/(fp+tn))\n",
        "      pr.append(tp/(tp+fp))\n",
        "      FOR.append(fn/(tn+fn))\n",
        "      DOR.append((tp*tn)/(fp*fn))\n",
        "\n",
        "  #average_ROC(mean_fpr,tprs,aucs_xboost,TP,TN,FP,FN)                              #plot average roc curve\n",
        "  average_performance(Accuracy,TP,TN,FP,FN, target_col)               #print the average performance of the model\n",
        "\n",
        "  #####################################################################\n",
        "  #    print the sensitivity,specificity,precision,for,dor of model\n",
        "  #####################################################################\n",
        "  print(\"Sensitivity (Avg. +/- Std.) is  %0.3f +/- %0.3f\" %(np.mean(sn),np.std(sn)))\n",
        "  print(\"Specificity (Avg. +/- Std.) is  %0.3f +/- %0.3f\" %(np.mean(sp),np.std(sp)))\n",
        "  print(\"Precision (Avg. +/- Std.) is  %0.3f +/- %0.3f\" %(np.mean(pr),np.std(pr)))\n",
        "  print(\"FOR (Avg. +/- Std.) is  %0.3f +/- %0.3f\" %(np.mean(FOR),np.std(FOR)))\n",
        "  print(\"DOR (Avg. +/- Std.) is  %0.3f +/- %0.3f\" %(np.mean(DOR),np.std(DOR)))"
      ],
      "execution_count": 101,
      "outputs": []
    },
    {
      "cell_type": "markdown",
      "metadata": {
        "id": "-SsUKyeshx41"
      },
      "source": [
        "# With BloodPressure as Target"
      ]
    },
    {
      "cell_type": "code",
      "metadata": {
        "colab": {
          "base_uri": "https://localhost:8080/"
        },
        "id": "Sr1VI20Utwf6",
        "scrolled": true,
        "outputId": "3cc64183-d399-42cb-8da4-112b972fc9a5"
      },
      "source": [
        "data_BP.head(), data_BP.shape"
      ],
      "execution_count": 102,
      "outputs": [
        {
          "output_type": "execute_result",
          "data": {
            "text/plain": [
              "(   Pregnancies  Glucose  ...   Age  BloodPressure\n",
              " 0          6.0    148.0  ...  50.0           72.0\n",
              " 1          1.0     85.0  ...  31.0           66.0\n",
              " 2          8.0    183.0  ...  32.0           64.0\n",
              " 3          1.0     89.0  ...  21.0           66.0\n",
              " 4          5.0    116.0  ...  30.0           74.0\n",
              " \n",
              " [5 rows x 9 columns], (636, 9))"
            ]
          },
          "metadata": {},
          "execution_count": 102
        }
      ]
    },
    {
      "cell_type": "code",
      "metadata": {
        "id": "T1R64Mjrhx42"
      },
      "source": [
        "def categorize_BP(data_BP):\n",
        "    \n",
        "    BP = \"BloodPressure\"\n",
        "    try:\n",
        "        low_i = data_BP.loc[(data_BP[BP] <= 60)] #diastolic less than 80 is normal\n",
        "        normal_i = data_BP.loc[(data_BP[BP] > 60) & (data_BP[BP] < 80)] #diastolic between 60 and 80 is normal\n",
        "        high_i =  data_BP.loc[data_BP[BP] >= 80] #diastolic greater than 80 is high\n",
        " \n",
        "        data_BP[BP][low_i.index] = 0\n",
        "        data_BP[BP][normal_i.index] = 1\n",
        "        data_BP[BP][high_i.index] = 2\n",
        "     \n",
        "    except:\n",
        "        pass\n",
        "    \n",
        "    return data_BP"
      ],
      "execution_count": 103,
      "outputs": []
    },
    {
      "cell_type": "code",
      "metadata": {
        "id": "NCUqhRgVhx43"
      },
      "source": [
        "data_BP = categorize_BP(data_BP)"
      ],
      "execution_count": 104,
      "outputs": []
    },
    {
      "cell_type": "code",
      "metadata": {
        "colab": {
          "base_uri": "https://localhost:8080/"
        },
        "id": "z9midecChx44",
        "outputId": "60ae622c-a65c-4f06-d42c-e2b0b4da1a9a"
      },
      "source": [
        "data_BP.BloodPressure.value_counts()"
      ],
      "execution_count": 105,
      "outputs": [
        {
          "output_type": "execute_result",
          "data": {
            "text/plain": [
              "1.0    362\n",
              "2.0    167\n",
              "0.0    107\n",
              "Name: BloodPressure, dtype: int64"
            ]
          },
          "metadata": {},
          "execution_count": 105
        }
      ]
    },
    {
      "cell_type": "code",
      "metadata": {
        "id": "LXpvMzadhx45"
      },
      "source": [
        "data_BP.columns = ['F' + str(i) for i in range(1,9)]+['Outcome'] #Renaming"
      ],
      "execution_count": 106,
      "outputs": []
    },
    {
      "cell_type": "code",
      "metadata": {
        "id": "Eerd4pjVhx45"
      },
      "source": [
        "X_Data,Y_Lavel = feature_Selector(data_BP, algo='None', n_feature=8)  "
      ],
      "execution_count": 107,
      "outputs": []
    },
    {
      "cell_type": "code",
      "metadata": {
        "colab": {
          "base_uri": "https://localhost:8080/"
        },
        "id": "wmLtRnM9hx45",
        "scrolled": true,
        "outputId": "561a73db-fef1-43e9-8fc0-19d5957df7ad"
      },
      "source": [
        "np.unique(Y_Lavel,return_counts = True)"
      ],
      "execution_count": 108,
      "outputs": [
        {
          "output_type": "execute_result",
          "data": {
            "text/plain": [
              "(array([0., 1., 2.]), array([107, 362, 167]))"
            ]
          },
          "metadata": {},
          "execution_count": 108
        }
      ]
    },
    {
      "cell_type": "markdown",
      "metadata": {
        "id": "Lo6UwJM9wEYU"
      },
      "source": [
        "#### Analyzing **KNN**"
      ]
    },
    {
      "cell_type": "code",
      "metadata": {
        "colab": {
          "base_uri": "https://localhost:8080/",
          "height": 0
        },
        "id": "ja0vlEwcIaEH",
        "outputId": "bcb3a998-c338-4e9d-cc46-122324fe7a1f"
      },
      "source": [
        "clf_KNN(X_Data, Y_Lavel, 'BloodPressure')"
      ],
      "execution_count": 109,
      "outputs": [
        {
          "output_type": "stream",
          "name": "stdout",
          "text": [
            "--------------------------------------------------\n",
            "Detailed classification report for current fold:\n",
            "\n",
            "              precision    recall  f1-score   support\n",
            "\n",
            "         0.0       0.00      0.00      0.00        21\n",
            "         1.0       0.57      0.99      0.72        73\n",
            "         2.0       0.00      0.00      0.00        34\n",
            "\n",
            "    accuracy                           0.56       128\n",
            "   macro avg       0.19      0.33      0.24       128\n",
            "weighted avg       0.32      0.56      0.41       128\n",
            "\n",
            "\n",
            "\n",
            "Confusion Matrix for current fold: \n",
            "[[ 0 21  0]\n",
            " [ 0 72  1]\n",
            " [ 0 34  0]]\n",
            "\n",
            "Accuracy for Current Fold: 0.5625\n",
            "\n",
            "--------------------------------------------------\n",
            "Detailed classification report for current fold:\n",
            "\n",
            "              precision    recall  f1-score   support\n",
            "\n",
            "         0.0       0.00      0.00      0.00        21\n",
            "         1.0       0.58      1.00      0.74        73\n",
            "         2.0       0.50      0.03      0.06        33\n",
            "\n",
            "    accuracy                           0.58       127\n",
            "   macro avg       0.36      0.34      0.26       127\n",
            "weighted avg       0.47      0.58      0.44       127\n",
            "\n",
            "\n",
            "\n",
            "Confusion Matrix for current fold: \n",
            "[[ 0 20  1]\n",
            " [ 0 73  0]\n",
            " [ 0 32  1]]\n",
            "\n",
            "Accuracy for Current Fold: 0.5826771653543307\n",
            "\n",
            "--------------------------------------------------\n",
            "Detailed classification report for current fold:\n",
            "\n",
            "              precision    recall  f1-score   support\n",
            "\n",
            "         0.0       0.00      0.00      0.00        22\n",
            "         1.0       0.57      0.99      0.72        72\n",
            "         2.0       0.50      0.03      0.06        33\n",
            "\n",
            "    accuracy                           0.57       127\n",
            "   macro avg       0.36      0.34      0.26       127\n",
            "weighted avg       0.45      0.57      0.42       127\n",
            "\n",
            "\n",
            "\n",
            "Confusion Matrix for current fold: \n",
            "[[ 0 22  0]\n",
            " [ 0 71  1]\n",
            " [ 0 32  1]]\n",
            "\n",
            "Accuracy for Current Fold: 0.5669291338582677\n",
            "\n",
            "--------------------------------------------------\n",
            "Detailed classification report for current fold:\n",
            "\n",
            "              precision    recall  f1-score   support\n",
            "\n",
            "         0.0       0.00      0.00      0.00        22\n",
            "         1.0       0.56      0.94      0.70        72\n",
            "         2.0       0.20      0.03      0.05        33\n",
            "\n",
            "    accuracy                           0.54       127\n",
            "   macro avg       0.25      0.32      0.25       127\n",
            "weighted avg       0.37      0.54      0.41       127\n",
            "\n",
            "\n",
            "\n",
            "Confusion Matrix for current fold: \n",
            "[[ 0 22  0]\n",
            " [ 0 68  4]\n",
            " [ 1 31  1]]\n",
            "\n",
            "Accuracy for Current Fold: 0.5433070866141733\n",
            "\n",
            "--------------------------------------------------\n",
            "Detailed classification report for current fold:\n",
            "\n",
            "              precision    recall  f1-score   support\n",
            "\n",
            "         0.0       0.00      0.00      0.00        21\n",
            "         1.0       0.57      1.00      0.72        72\n",
            "         2.0       0.00      0.00      0.00        34\n",
            "\n",
            "    accuracy                           0.57       127\n",
            "   macro avg       0.19      0.33      0.24       127\n",
            "weighted avg       0.32      0.57      0.41       127\n",
            "\n",
            "\n",
            "\n",
            "Confusion Matrix for current fold: \n",
            "[[ 0 21  0]\n",
            " [ 0 72  0]\n",
            " [ 0 34  0]]\n",
            "\n",
            "Accuracy for Current Fold: 0.5669291338582677\n",
            "\n",
            "\n",
            "---------------------Average---------------------\n",
            "Accuracy (Avg. +/- Std.) is  0.564 +/- 0.013\n",
            "Avg. CM is [[23, 18], [18, 66]]\n",
            "Total for all folds CM is [[359, 277], [277, 995]]\n"
          ]
        },
        {
          "output_type": "display_data",
          "data": {
            "text/plain": [
              "<Figure size 576x360 with 0 Axes>"
            ]
          },
          "metadata": {}
        },
        {
          "output_type": "display_data",
          "data": {
            "image/png": "[encoded data removed]",
            "text/plain": [
              "<Figure size 432x288 with 2 Axes>"
            ]
          },
          "metadata": {}
        },
        {
          "output_type": "display_data",
          "data": {
            "image/png": "[encoded data removed]",
            "text/plain": [
              "<Figure size 432x288 with 2 Axes>"
            ]
          },
          "metadata": {}
        },
        {
          "output_type": "display_data",
          "data": {
            "image/png": "[encoded data removed]",
            "text/plain": [
              "<Figure size 432x288 with 2 Axes>"
            ]
          },
          "metadata": {}
        },
        {
          "output_type": "display_data",
          "data": {
            "image/png": "[encoded data removed]",
            "text/plain": [
              "<Figure size 432x288 with 2 Axes>"
            ]
          },
          "metadata": {}
        },
        {
          "output_type": "display_data",
          "data": {
            "image/png": "[encoded data removed]",
            "text/plain": [
              "<Figure size 432x288 with 2 Axes>"
            ]
          },
          "metadata": {}
        }
      ]
    },
    {
      "cell_type": "markdown",
      "metadata": {
        "id": "rRBCrG0g7rVW"
      },
      "source": [
        "#### Analyzing **Decision Trees**"
      ]
    },
    {
      "cell_type": "code",
      "metadata": {
        "colab": {
          "base_uri": "https://localhost:8080/",
          "height": 0
        },
        "id": "plku1Joy79bq",
        "outputId": "3a17377b-e61f-44b4-ad36-2e99f8e6eb2c"
      },
      "source": [
        "clf_DT(X_Data, Y_Lavel, 'BloodPressure')"
      ],
      "execution_count": 110,
      "outputs": [
        {
          "output_type": "stream",
          "name": "stdout",
          "text": [
            "--------------------------------------------------\n",
            "Detailed classification report for current fold:\n",
            "\n",
            "              precision    recall  f1-score   support\n",
            "\n",
            "         0.0       0.00      0.00      0.00        21\n",
            "         1.0       0.57      1.00      0.73        73\n",
            "         2.0       0.00      0.00      0.00        34\n",
            "\n",
            "    accuracy                           0.57       128\n",
            "   macro avg       0.19      0.33      0.24       128\n",
            "weighted avg       0.33      0.57      0.41       128\n",
            "\n",
            "\n",
            "\n",
            "Confusion Matrix for current fold: \n",
            "[[ 0 21  0]\n",
            " [ 0 73  0]\n",
            " [ 0 34  0]]\n",
            "\n",
            "Accuracy for Current Fold: 0.5703125\n",
            "\n",
            "--------------------------------------------------\n",
            "Detailed classification report for current fold:\n",
            "\n",
            "              precision    recall  f1-score   support\n",
            "\n",
            "         0.0       0.00      0.00      0.00        21\n",
            "         1.0       0.57      1.00      0.73        73\n",
            "         2.0       0.00      0.00      0.00        33\n",
            "\n",
            "    accuracy                           0.57       127\n",
            "   macro avg       0.19      0.33      0.24       127\n",
            "weighted avg       0.33      0.57      0.42       127\n",
            "\n",
            "\n",
            "\n",
            "Confusion Matrix for current fold: \n",
            "[[ 0 21  0]\n",
            " [ 0 73  0]\n",
            " [ 0 33  0]]\n",
            "\n",
            "Accuracy for Current Fold: 0.5748031496062992\n",
            "\n",
            "--------------------------------------------------\n",
            "Detailed classification report for current fold:\n",
            "\n",
            "              precision    recall  f1-score   support\n",
            "\n",
            "         0.0       0.00      0.00      0.00        22\n",
            "         1.0       0.57      1.00      0.72        72\n",
            "         2.0       0.00      0.00      0.00        33\n",
            "\n",
            "    accuracy                           0.57       127\n",
            "   macro avg       0.19      0.33      0.24       127\n",
            "weighted avg       0.32      0.57      0.41       127\n",
            "\n",
            "\n",
            "\n",
            "Confusion Matrix for current fold: \n",
            "[[ 0 22  0]\n",
            " [ 0 72  0]\n",
            " [ 0 33  0]]\n",
            "\n",
            "Accuracy for Current Fold: 0.5669291338582677\n",
            "\n",
            "--------------------------------------------------\n",
            "Detailed classification report for current fold:\n",
            "\n",
            "              precision    recall  f1-score   support\n",
            "\n",
            "         0.0       0.00      0.00      0.00        22\n",
            "         1.0       0.57      1.00      0.72        72\n",
            "         2.0       0.00      0.00      0.00        33\n",
            "\n",
            "    accuracy                           0.57       127\n",
            "   macro avg       0.19      0.33      0.24       127\n",
            "weighted avg       0.32      0.57      0.41       127\n",
            "\n",
            "\n",
            "\n",
            "Confusion Matrix for current fold: \n",
            "[[ 0 22  0]\n",
            " [ 0 72  0]\n",
            " [ 0 33  0]]\n",
            "\n",
            "Accuracy for Current Fold: 0.5669291338582677\n",
            "\n",
            "--------------------------------------------------\n",
            "Detailed classification report for current fold:\n",
            "\n",
            "              precision    recall  f1-score   support\n",
            "\n",
            "         0.0       0.00      0.00      0.00        21\n",
            "         1.0       0.57      1.00      0.72        72\n",
            "         2.0       0.00      0.00      0.00        34\n",
            "\n",
            "    accuracy                           0.57       127\n",
            "   macro avg       0.19      0.33      0.24       127\n",
            "weighted avg       0.32      0.57      0.41       127\n",
            "\n",
            "\n",
            "\n",
            "Confusion Matrix for current fold: \n",
            "[[ 0 21  0]\n",
            " [ 0 72  0]\n",
            " [ 0 34  0]]\n",
            "\n",
            "Accuracy for Current Fold: 0.5669291338582677\n",
            "\n",
            "\n",
            "---------------------Average---------------------\n",
            "Accuracy (Avg. +/- Std.) is  0.569 +/- 0.003\n",
            "Avg. CM is [[24, 18], [18, 66]]\n",
            "Total for all folds CM is [[362, 274], [274, 998]]\n"
          ]
        },
        {
          "output_type": "display_data",
          "data": {
            "text/plain": [
              "<Figure size 576x360 with 0 Axes>"
            ]
          },
          "metadata": {}
        }
      ]
    },
    {
      "cell_type": "markdown",
      "metadata": {
        "id": "TqySfVdpCoE3"
      },
      "source": [
        "#### Analyzing **Random Forest**"
      ]
    },
    {
      "cell_type": "code",
      "metadata": {
        "colab": {
          "base_uri": "https://localhost:8080/",
          "height": 0
        },
        "id": "20CxA0gqCyQm",
        "outputId": "5bf4c358-e526-416c-f458-7108fd832ec0"
      },
      "source": [
        "clf_RF(X_Data, Y_Lavel, 'BloodPressure')"
      ],
      "execution_count": 111,
      "outputs": [
        {
          "output_type": "stream",
          "name": "stdout",
          "text": [
            "--------------------------------------------------\n",
            "Detailed classification report for current fold:\n",
            "\n",
            "              precision    recall  f1-score   support\n",
            "\n",
            "         0.0       0.60      0.14      0.23        21\n",
            "         1.0       0.58      0.90      0.71        73\n",
            "         2.0       0.50      0.15      0.23        34\n",
            "\n",
            "    accuracy                           0.58       128\n",
            "   macro avg       0.56      0.40      0.39       128\n",
            "weighted avg       0.56      0.58      0.50       128\n",
            "\n",
            "\n",
            "\n",
            "Confusion Matrix for current fold: \n",
            "[[ 3 18  0]\n",
            " [ 2 66  5]\n",
            " [ 0 29  5]]\n",
            "\n",
            "Accuracy for Current Fold: 0.578125\n",
            "\n",
            "--------------------------------------------------\n",
            "Detailed classification report for current fold:\n",
            "\n",
            "              precision    recall  f1-score   support\n",
            "\n",
            "         0.0       0.17      0.05      0.07        21\n",
            "         1.0       0.58      0.82      0.68        73\n",
            "         2.0       0.44      0.24      0.31        33\n",
            "\n",
            "    accuracy                           0.54       127\n",
            "   macro avg       0.40      0.37      0.36       127\n",
            "weighted avg       0.48      0.54      0.49       127\n",
            "\n",
            "\n",
            "\n",
            "Confusion Matrix for current fold: \n",
            "[[ 1 18  2]\n",
            " [ 5 60  8]\n",
            " [ 0 25  8]]\n",
            "\n",
            "Accuracy for Current Fold: 0.5433070866141733\n",
            "\n",
            "--------------------------------------------------\n",
            "Detailed classification report for current fold:\n",
            "\n",
            "              precision    recall  f1-score   support\n",
            "\n",
            "         0.0       0.43      0.14      0.21        22\n",
            "         1.0       0.58      0.82      0.68        72\n",
            "         2.0       0.44      0.24      0.31        33\n",
            "\n",
            "    accuracy                           0.55       127\n",
            "   macro avg       0.48      0.40      0.40       127\n",
            "weighted avg       0.52      0.55      0.50       127\n",
            "\n",
            "\n",
            "\n",
            "Confusion Matrix for current fold: \n",
            "[[ 3 19  0]\n",
            " [ 3 59 10]\n",
            " [ 1 24  8]]\n",
            "\n",
            "Accuracy for Current Fold: 0.5511811023622047\n",
            "\n",
            "--------------------------------------------------\n",
            "Detailed classification report for current fold:\n",
            "\n",
            "              precision    recall  f1-score   support\n",
            "\n",
            "         0.0       0.50      0.18      0.27        22\n",
            "         1.0       0.58      0.85      0.69        72\n",
            "         2.0       0.46      0.18      0.26        33\n",
            "\n",
            "    accuracy                           0.56       127\n",
            "   macro avg       0.51      0.40      0.40       127\n",
            "weighted avg       0.53      0.56      0.50       127\n",
            "\n",
            "\n",
            "\n",
            "Confusion Matrix for current fold: \n",
            "[[ 4 18  0]\n",
            " [ 4 61  7]\n",
            " [ 0 27  6]]\n",
            "\n",
            "Accuracy for Current Fold: 0.5590551181102362\n",
            "\n",
            "--------------------------------------------------\n",
            "Detailed classification report for current fold:\n",
            "\n",
            "              precision    recall  f1-score   support\n",
            "\n",
            "         0.0       0.11      0.05      0.07        21\n",
            "         1.0       0.55      0.82      0.66        72\n",
            "         2.0       0.18      0.06      0.09        34\n",
            "\n",
            "    accuracy                           0.49       127\n",
            "   macro avg       0.28      0.31      0.27       127\n",
            "weighted avg       0.38      0.49      0.41       127\n",
            "\n",
            "\n",
            "\n",
            "Confusion Matrix for current fold: \n",
            "[[ 1 19  1]\n",
            " [ 5 59  8]\n",
            " [ 3 29  2]]\n",
            "\n",
            "Accuracy for Current Fold: 0.4881889763779528\n",
            "\n",
            "\n",
            "---------------------Average---------------------\n",
            "Accuracy (Avg. +/- Std.) is  0.544 +/- 0.030\n",
            "Avg. CM is [[23, 19], [19, 65]]\n",
            "Total for all folds CM is [[346, 290], [290, 982]]\n"
          ]
        },
        {
          "output_type": "display_data",
          "data": {
            "text/plain": [
              "<Figure size 576x360 with 0 Axes>"
            ]
          },
          "metadata": {}
        }
      ]
    },
    {
      "cell_type": "markdown",
      "metadata": {
        "id": "ObS0nyN5H1qb"
      },
      "source": [
        "#### Analyzing **AdaBoost**"
      ]
    },
    {
      "cell_type": "code",
      "metadata": {
        "colab": {
          "base_uri": "https://localhost:8080/",
          "height": 0
        },
        "id": "BXwutgp4H8uw",
        "outputId": "a308444f-dfc4-48c7-ba17-4a86a80d3f53"
      },
      "source": [
        "clf_AB(X_Data, Y_Lavel, 'BloodPressure')"
      ],
      "execution_count": 112,
      "outputs": [
        {
          "output_type": "stream",
          "name": "stdout",
          "text": [
            "--------------------------------------------------\n",
            "Detailed classification report for current fold:\n",
            "\n",
            "              precision    recall  f1-score   support\n",
            "\n",
            "         0.0       0.00      0.00      0.00        21\n",
            "         1.0       0.57      1.00      0.73        73\n",
            "         2.0       0.00      0.00      0.00        33\n",
            "\n",
            "    accuracy                           0.57       127\n",
            "   macro avg       0.19      0.33      0.24       127\n",
            "weighted avg       0.33      0.57      0.42       127\n",
            "\n",
            "\n",
            "\n",
            "Confusion Matrix for current fold: \n",
            "[[ 0 21  0]\n",
            " [ 0 73  0]\n",
            " [ 0 33  0]]\n",
            "\n",
            "Accuracy for Current Fold: 0.5748031496062992\n",
            "\n",
            "--------------------------------------------------\n",
            "Detailed classification report for current fold:\n",
            "\n",
            "              precision    recall  f1-score   support\n",
            "\n",
            "         0.0       0.00      0.00      0.00        22\n",
            "         1.0       0.57      0.89      0.70        72\n",
            "         2.0       0.47      0.21      0.29        33\n",
            "\n",
            "    accuracy                           0.56       127\n",
            "   macro avg       0.35      0.37      0.33       127\n",
            "weighted avg       0.45      0.56      0.47       127\n",
            "\n",
            "\n",
            "\n",
            "Confusion Matrix for current fold: \n",
            "[[ 0 22  0]\n",
            " [ 0 64  8]\n",
            " [ 0 26  7]]\n",
            "\n",
            "Accuracy for Current Fold: 0.5590551181102362\n",
            "\n",
            "--------------------------------------------------\n",
            "Detailed classification report for current fold:\n",
            "\n",
            "              precision    recall  f1-score   support\n",
            "\n",
            "         0.0       0.00      0.00      0.00        22\n",
            "         1.0       0.57      0.94      0.71        72\n",
            "         2.0       0.43      0.09      0.15        33\n",
            "\n",
            "    accuracy                           0.56       127\n",
            "   macro avg       0.33      0.35      0.29       127\n",
            "weighted avg       0.43      0.56      0.44       127\n",
            "\n",
            "\n",
            "\n",
            "Confusion Matrix for current fold: \n",
            "[[ 0 22  0]\n",
            " [ 0 68  4]\n",
            " [ 0 30  3]]\n",
            "\n",
            "Accuracy for Current Fold: 0.5590551181102362\n",
            "\n",
            "--------------------------------------------------\n",
            "Detailed classification report for current fold:\n",
            "\n",
            "              precision    recall  f1-score   support\n",
            "\n",
            "         0.0       0.00      0.00      0.00        21\n",
            "         1.0       0.57      1.00      0.72        72\n",
            "         2.0       0.00      0.00      0.00        34\n",
            "\n",
            "    accuracy                           0.57       127\n",
            "   macro avg       0.19      0.33      0.24       127\n",
            "weighted avg       0.32      0.57      0.41       127\n",
            "\n",
            "\n",
            "\n",
            "Confusion Matrix for current fold: \n",
            "[[ 0 21  0]\n",
            " [ 0 72  0]\n",
            " [ 0 34  0]]\n",
            "\n",
            "Accuracy for Current Fold: 0.5669291338582677\n",
            "\n",
            "\n",
            "---------------------Average---------------------\n",
            "Accuracy (Avg. +/- Std.) is  0.569 +/- 0.010\n",
            "Avg. CM is [[24, 18], [18, 66]]\n",
            "Total for all folds CM is [[362, 274], [274, 998]]\n"
          ]
        },
        {
          "output_type": "display_data",
          "data": {
            "text/plain": [
              "<Figure size 576x360 with 0 Axes>"
            ]
          },
          "metadata": {}
        }
      ]
    },
    {
      "cell_type": "markdown",
      "metadata": {
        "id": "NI8OmhDlIt-f"
      },
      "source": [
        "#### Analyzing **Naive Bayes**"
      ]
    },
    {
      "cell_type": "code",
      "metadata": {
        "colab": {
          "base_uri": "https://localhost:8080/",
          "height": 0
        },
        "id": "UfxRBIB4IdgW",
        "outputId": "a23b2fb6-8981-4a94-d654-54277a8c29df"
      },
      "source": [
        "clf_NB(X_Data, Y_Lavel, 'BloodPressure')"
      ],
      "execution_count": 113,
      "outputs": [
        {
          "output_type": "stream",
          "name": "stdout",
          "text": [
            "--------------------------------------------------\n",
            "Detailed classification report for current fold:\n",
            "\n",
            "              precision    recall  f1-score   support\n",
            "\n",
            "         0.0       0.00      0.00      0.00        21\n",
            "         1.0       0.57      0.96      0.71        73\n",
            "         2.0       0.40      0.06      0.10        34\n",
            "\n",
            "    accuracy                           0.56       128\n",
            "   macro avg       0.32      0.34      0.27       128\n",
            "weighted avg       0.43      0.56      0.43       128\n",
            "\n",
            "\n",
            "\n",
            "Confusion Matrix for current fold: \n",
            "[[ 0 21  0]\n",
            " [ 0 70  3]\n",
            " [ 0 32  2]]\n",
            "\n",
            "Accuracy for Current Fold: 0.5625\n",
            "\n",
            "--------------------------------------------------\n",
            "Detailed classification report for current fold:\n",
            "\n",
            "              precision    recall  f1-score   support\n",
            "\n",
            "         0.0       0.00      0.00      0.00        21\n",
            "         1.0       0.57      1.00      0.73        73\n",
            "         2.0       0.00      0.00      0.00        33\n",
            "\n",
            "    accuracy                           0.57       127\n",
            "   macro avg       0.19      0.33      0.24       127\n",
            "weighted avg       0.33      0.57      0.42       127\n",
            "\n",
            "\n",
            "\n",
            "Confusion Matrix for current fold: \n",
            "[[ 0 21  0]\n",
            " [ 0 73  0]\n",
            " [ 0 33  0]]\n",
            "\n",
            "Accuracy for Current Fold: 0.5748031496062992\n",
            "\n",
            "--------------------------------------------------\n",
            "Detailed classification report for current fold:\n",
            "\n",
            "              precision    recall  f1-score   support\n",
            "\n",
            "         0.0       0.00      0.00      0.00        22\n",
            "         1.0       0.56      0.96      0.71        72\n",
            "         2.0       0.00      0.00      0.00        33\n",
            "\n",
            "    accuracy                           0.54       127\n",
            "   macro avg       0.19      0.32      0.24       127\n",
            "weighted avg       0.32      0.54      0.40       127\n",
            "\n",
            "\n",
            "\n",
            "Confusion Matrix for current fold: \n",
            "[[ 0 21  1]\n",
            " [ 0 69  3]\n",
            " [ 0 33  0]]\n",
            "\n",
            "Accuracy for Current Fold: 0.5433070866141733\n",
            "\n",
            "--------------------------------------------------\n",
            "Detailed classification report for current fold:\n",
            "\n",
            "              precision    recall  f1-score   support\n",
            "\n",
            "         0.0       0.00      0.00      0.00        22\n",
            "         1.0       0.57      0.97      0.72        72\n",
            "         2.0       0.25      0.03      0.05        33\n",
            "\n",
            "    accuracy                           0.56       127\n",
            "   macro avg       0.27      0.33      0.26       127\n",
            "weighted avg       0.39      0.56      0.42       127\n",
            "\n",
            "\n",
            "\n",
            "Confusion Matrix for current fold: \n",
            "[[ 0 21  1]\n",
            " [ 0 70  2]\n",
            " [ 0 32  1]]\n",
            "\n",
            "Accuracy for Current Fold: 0.5590551181102362\n",
            "\n",
            "--------------------------------------------------\n",
            "Detailed classification report for current fold:\n",
            "\n",
            "              precision    recall  f1-score   support\n",
            "\n",
            "         0.0       0.20      0.14      0.17        21\n",
            "         1.0       0.55      0.75      0.63        72\n",
            "         2.0       0.38      0.15      0.21        34\n",
            "\n",
            "    accuracy                           0.49       127\n",
            "   macro avg       0.38      0.35      0.34       127\n",
            "weighted avg       0.45      0.49      0.44       127\n",
            "\n",
            "\n",
            "\n",
            "Confusion Matrix for current fold: \n",
            "[[ 3 18  0]\n",
            " [10 54  8]\n",
            " [ 2 27  5]]\n",
            "\n",
            "Accuracy for Current Fold: 0.4881889763779528\n",
            "\n",
            "\n",
            "---------------------Average---------------------\n",
            "Accuracy (Avg. +/- Std.) is  0.546 +/- 0.030\n",
            "Avg. CM is [[23, 19], [19, 65]]\n",
            "Total for all folds CM is [[347, 289], [289, 983]]\n"
          ]
        },
        {
          "output_type": "display_data",
          "data": {
            "text/plain": [
              "<Figure size 576x360 with 0 Axes>"
            ]
          },
          "metadata": {}
        }
      ]
    },
    {
      "cell_type": "markdown",
      "metadata": {
        "id": "rkLrc60EJA6i"
      },
      "source": [
        "#### Analyzing **XGBoost**"
      ]
    },
    {
      "cell_type": "code",
      "metadata": {
        "colab": {
          "base_uri": "https://localhost:8080/",
          "height": 0
        },
        "id": "U4c2mzLpI9vd",
        "outputId": "bd1f5cef-8b72-44f5-de5d-0724bf101477"
      },
      "source": [
        "clf_XGB(X_Data, Y_Lavel, 'BloodPressure')"
      ],
      "execution_count": 114,
      "outputs": [
        {
          "output_type": "stream",
          "name": "stdout",
          "text": [
            "--------------------------------------------------\n",
            "Detailed classification report for current fold:\n",
            "\n",
            "              precision    recall  f1-score   support\n",
            "\n",
            "         0.0       0.00      0.00      0.00        21\n",
            "         1.0       0.57      0.96      0.72        73\n",
            "         2.0       0.50      0.09      0.15        34\n",
            "\n",
            "    accuracy                           0.57       128\n",
            "   macro avg       0.36      0.35      0.29       128\n",
            "weighted avg       0.46      0.57      0.45       128\n",
            "\n",
            "\n",
            "\n",
            "Confusion Matrix for current fold: \n",
            "[[ 0 21  0]\n",
            " [ 0 70  3]\n",
            " [ 0 31  3]]\n",
            "\n",
            "Accuracy for Current Fold: 0.5703125\n",
            "\n",
            "--------------------------------------------------\n",
            "Detailed classification report for current fold:\n",
            "\n",
            "              precision    recall  f1-score   support\n",
            "\n",
            "         0.0       0.00      0.00      0.00        21\n",
            "         1.0       0.57      1.00      0.73        73\n",
            "         2.0       0.00      0.00      0.00        33\n",
            "\n",
            "    accuracy                           0.57       127\n",
            "   macro avg       0.19      0.33      0.24       127\n",
            "weighted avg       0.33      0.57      0.42       127\n",
            "\n",
            "\n",
            "\n",
            "Confusion Matrix for current fold: \n",
            "[[ 0 21  0]\n",
            " [ 0 73  0]\n",
            " [ 0 33  0]]\n",
            "\n",
            "Accuracy for Current Fold: 0.5748031496062992\n",
            "\n",
            "--------------------------------------------------\n",
            "Detailed classification report for current fold:\n",
            "\n",
            "              precision    recall  f1-score   support\n",
            "\n",
            "         0.0       0.11      0.05      0.06        22\n",
            "         1.0       0.57      0.78      0.66        72\n",
            "         2.0       0.45      0.27      0.34        33\n",
            "\n",
            "    accuracy                           0.52       127\n",
            "   macro avg       0.38      0.37      0.35       127\n",
            "weighted avg       0.46      0.52      0.47       127\n",
            "\n",
            "\n",
            "\n",
            "Confusion Matrix for current fold: \n",
            "[[ 1 21  0]\n",
            " [ 5 56 11]\n",
            " [ 3 21  9]]\n",
            "\n",
            "Accuracy for Current Fold: 0.5196850393700787\n",
            "\n",
            "--------------------------------------------------\n",
            "Detailed classification report for current fold:\n",
            "\n",
            "              precision    recall  f1-score   support\n",
            "\n",
            "         0.0       0.50      0.05      0.08        22\n",
            "         1.0       0.56      0.88      0.68        72\n",
            "         2.0       0.38      0.15      0.22        33\n",
            "\n",
            "    accuracy                           0.54       127\n",
            "   macro avg       0.48      0.36      0.33       127\n",
            "weighted avg       0.51      0.54      0.46       127\n",
            "\n",
            "\n",
            "\n",
            "Confusion Matrix for current fold: \n",
            "[[ 1 21  0]\n",
            " [ 1 63  8]\n",
            " [ 0 28  5]]\n",
            "\n",
            "Accuracy for Current Fold: 0.5433070866141733\n",
            "\n",
            "--------------------------------------------------\n",
            "Detailed classification report for current fold:\n",
            "\n",
            "              precision    recall  f1-score   support\n",
            "\n",
            "         0.0       0.00      0.00      0.00        21\n",
            "         1.0       0.56      0.97      0.71        72\n",
            "         2.0       0.33      0.03      0.05        34\n",
            "\n",
            "    accuracy                           0.56       127\n",
            "   macro avg       0.30      0.33      0.26       127\n",
            "weighted avg       0.41      0.56      0.42       127\n",
            "\n",
            "\n",
            "\n",
            "Confusion Matrix for current fold: \n",
            "[[ 0 21  0]\n",
            " [ 0 70  2]\n",
            " [ 0 33  1]]\n",
            "\n",
            "Accuracy for Current Fold: 0.5590551181102362\n",
            "\n",
            "\n",
            "---------------------Average---------------------\n",
            "Accuracy (Avg. +/- Std.) is  0.553 +/- 0.020\n",
            "Avg. CM is [[23, 18], [18, 65]]\n",
            "Total for all folds CM is [[352, 284], [284, 988]]\n",
            "Sensitivity (Avg. +/- Std.) is  0.348 +/- 0.411\n",
            "Specificity (Avg. +/- Std.) is  0.672 +/- 0.420\n",
            "Precision (Avg. +/- Std.) is  nan +/- nan\n",
            "FOR (Avg. +/- Std.) is  nan +/- nan\n",
            "DOR (Avg. +/- Std.) is  nan +/- nan\n"
          ]
        },
        {
          "output_type": "display_data",
          "data": {
            "text/plain": [
              "<Figure size 576x360 with 0 Axes>"
            ]
          },
          "metadata": {}
        }
      ]
    },
    {
      "cell_type": "markdown",
      "metadata": {
        "id": "ruw9L1ZkwMkO"
      },
      "source": [
        "# With Glucose as Target"
      ]
    },
    {
      "cell_type": "code",
      "metadata": {
        "id": "5PqLKfiGzNqd"
      },
      "source": [
        "def categorize_GL(data_GL):\n",
        "    #Oral glucose tolerance test\n",
        "    GL = \"Glucose\"\n",
        "    try:\n",
        "        low_i = data_GL.loc[(data_GL[GL] <= 70)] # low\n",
        "        normal_i = data_GL.loc[(data_GL[GL] > 70) & (data_GL[GL] < 125)] #prediabetic\n",
        "        high_i =  data_GL.loc[data_GL[GL] >= 125] #high\n",
        "\n",
        "        data_GL[GL][low_i.index] = 0\n",
        "        data_GL[GL][normal_i.index] = 1\n",
        "        data_GL[GL][high_i.index] = 2\n",
        "     \n",
        "    except:\n",
        "        pass\n",
        "    \n",
        "    return data_GL"
      ],
      "execution_count": 115,
      "outputs": []
    },
    {
      "cell_type": "code",
      "metadata": {
        "colab": {
          "base_uri": "https://localhost:8080/"
        },
        "id": "eSpX-Hw-wpEI",
        "outputId": "e89df9a5-25f9-459f-c5c8-a235815d3cce"
      },
      "source": [
        "data_GL = swap_col('Glucose')\n",
        "print(data_GL.head()), data_GL.shape"
      ],
      "execution_count": 116,
      "outputs": [
        {
          "output_type": "stream",
          "name": "stdout",
          "text": [
            "   Pregnancies  Diabetic  ...   Age  Glucose\n",
            "0          6.0         1  ...  50.0    148.0\n",
            "1          1.0         0  ...  31.0     85.0\n",
            "2          8.0         1  ...  32.0    183.0\n",
            "3          1.0         0  ...  21.0     89.0\n",
            "4          5.0         0  ...  30.0    116.0\n",
            "\n",
            "[5 rows x 9 columns]\n"
          ]
        },
        {
          "output_type": "execute_result",
          "data": {
            "text/plain": [
              "(None, (636, 9))"
            ]
          },
          "metadata": {},
          "execution_count": 116
        }
      ]
    },
    {
      "cell_type": "code",
      "metadata": {
        "id": "w6j5iDfuaorf"
      },
      "source": [
        "data_GL = categorize_GL(data_GL)"
      ],
      "execution_count": 117,
      "outputs": []
    },
    {
      "cell_type": "code",
      "metadata": {
        "colab": {
          "base_uri": "https://localhost:8080/"
        },
        "id": "OAtsyAOOCFJb",
        "outputId": "4089913c-e877-4e13-9664-debfde65a294"
      },
      "source": [
        "data_GL.Glucose.value_counts()"
      ],
      "execution_count": 118,
      "outputs": [
        {
          "output_type": "execute_result",
          "data": {
            "text/plain": [
              "1.0    394\n",
              "2.0    232\n",
              "0.0     10\n",
              "Name: Glucose, dtype: int64"
            ]
          },
          "metadata": {},
          "execution_count": 118
        }
      ]
    },
    {
      "cell_type": "code",
      "metadata": {
        "id": "DCrUBu0CCFJc"
      },
      "source": [
        "data_GL.columns = ['F' + str(i) for i in range(1,9)]+['Outcome'] #Renaming"
      ],
      "execution_count": 119,
      "outputs": []
    },
    {
      "cell_type": "code",
      "metadata": {
        "id": "GLo5e6rbDwPn"
      },
      "source": [
        "X_Data,Y_Lavel = feature_Selector(data_GL, algo='None', n_feature=8)  "
      ],
      "execution_count": 120,
      "outputs": []
    },
    {
      "cell_type": "markdown",
      "metadata": {
        "id": "-evipCEhS6Cb"
      },
      "source": [
        "#### Analyzing **KNN**"
      ]
    },
    {
      "cell_type": "code",
      "metadata": {
        "colab": {
          "base_uri": "https://localhost:8080/"
        },
        "id": "jGR3mjBFS6Cr",
        "outputId": "9f1a540d-3d63-4d84-9363-7615af57e1fb"
      },
      "source": [
        "clf_KNN(X_Data, Y_Lavel, 'Glucose')"
      ],
      "execution_count": null,
      "outputs": [
        {
          "output_type": "stream",
          "name": "stdout",
          "text": [
            "--------------------------------------------------\n",
            "Detailed classification report for current fold:\n",
            "\n",
            "              precision    recall  f1-score   support\n",
            "\n",
            "         0.0       0.00      0.00      0.00         2\n",
            "         1.0       0.68      0.87      0.76        79\n",
            "         2.0       0.62      0.34      0.44        47\n",
            "\n",
            "    accuracy                           0.66       128\n",
            "   macro avg       0.43      0.40      0.40       128\n",
            "weighted avg       0.64      0.66      0.63       128\n",
            "\n",
            "\n",
            "\n",
            "Confusion Matrix for current fold: \n",
            "[[ 0  2  0]\n",
            " [ 0 69 10]\n",
            " [ 0 31 16]]\n",
            "\n",
            "Accuracy for Current Fold: 0.6640625\n",
            "\n",
            "--------------------------------------------------\n",
            "Detailed classification report for current fold:\n",
            "\n",
            "              precision    recall  f1-score   support\n",
            "\n",
            "         0.0       0.00      0.00      0.00         2\n",
            "         1.0       0.71      0.77      0.74        78\n",
            "         2.0       0.57      0.51      0.54        47\n",
            "\n",
            "    accuracy                           0.66       127\n",
            "   macro avg       0.43      0.43      0.43       127\n",
            "weighted avg       0.65      0.66      0.65       127\n",
            "\n",
            "\n",
            "\n",
            "Confusion Matrix for current fold: \n",
            "[[ 0  2  0]\n",
            " [ 0 60 18]\n",
            " [ 0 23 24]]\n",
            "\n",
            "Accuracy for Current Fold: 0.6614173228346457\n",
            "\n",
            "--------------------------------------------------\n",
            "Detailed classification report for current fold:\n",
            "\n",
            "              precision    recall  f1-score   support\n",
            "\n",
            "         0.0       0.00      0.00      0.00         2\n",
            "         1.0       0.72      0.87      0.79        79\n",
            "         2.0       0.68      0.46      0.55        46\n",
            "\n",
            "    accuracy                           0.71       127\n",
            "   macro avg       0.47      0.44      0.44       127\n",
            "weighted avg       0.69      0.71      0.69       127\n",
            "\n",
            "\n",
            "\n",
            "Confusion Matrix for current fold: \n",
            "[[ 0  2  0]\n",
            " [ 0 69 10]\n",
            " [ 0 25 21]]\n",
            "\n",
            "Accuracy for Current Fold: 0.7086614173228346\n",
            "\n",
            "--------------------------------------------------\n",
            "Detailed classification report for current fold:\n",
            "\n",
            "              precision    recall  f1-score   support\n",
            "\n",
            "         0.0       0.00      0.00      0.00         2\n",
            "         1.0       0.73      0.81      0.77        79\n",
            "         2.0       0.62      0.52      0.56        46\n",
            "\n",
            "    accuracy                           0.69       127\n",
            "   macro avg       0.45      0.44      0.44       127\n",
            "weighted avg       0.68      0.69      0.68       127\n",
            "\n",
            "\n",
            "\n",
            "Confusion Matrix for current fold: \n",
            "[[ 0  2  0]\n",
            " [ 0 64 15]\n",
            " [ 0 22 24]]\n",
            "\n",
            "Accuracy for Current Fold: 0.6929133858267716\n",
            "\n"
          ]
        }
      ]
    },
    {
      "cell_type": "code",
      "metadata": {
        "id": "RyXUwkHFDzMQ"
      },
      "source": [
        "#clf_KNN(X_Data, Y_Lavel, 'Glucose')"
      ],
      "execution_count": null,
      "outputs": []
    },
    {
      "cell_type": "code",
      "metadata": {
        "id": "cPs3Ksk5B8tZ"
      },
      "source": [
        "all_clf_res['BloodPressure']"
      ],
      "execution_count": null,
      "outputs": []
    },
    {
      "cell_type": "markdown",
      "metadata": {
        "id": "0vGBC_OpTUVh"
      },
      "source": [
        "#### Analyzing **Decision Trees**"
      ]
    },
    {
      "cell_type": "code",
      "metadata": {
        "id": "YXIvuFNyTUVh"
      },
      "source": [
        "clf_DT(X_Data, Y_Lavel, 'Glucose')"
      ],
      "execution_count": null,
      "outputs": []
    },
    {
      "cell_type": "markdown",
      "metadata": {
        "id": "voo0Cm09TUVi"
      },
      "source": [
        "#### Analyzing **Random Forest**"
      ]
    },
    {
      "cell_type": "code",
      "metadata": {
        "id": "u5dbju9xTUVi"
      },
      "source": [
        "clf_RF(X_Data, Y_Lavel, 'Glucose')"
      ],
      "execution_count": null,
      "outputs": []
    },
    {
      "cell_type": "markdown",
      "metadata": {
        "id": "h9dDOrzmTUVj"
      },
      "source": [
        "#### Analyzing **AdaBoost**"
      ]
    },
    {
      "cell_type": "code",
      "metadata": {
        "id": "pXNHLhI2TUVj"
      },
      "source": [
        "clf_AB(X_Data, Y_Lavel, 'Glucose')"
      ],
      "execution_count": null,
      "outputs": []
    },
    {
      "cell_type": "markdown",
      "metadata": {
        "id": "xYt1DfSdTUVj"
      },
      "source": [
        "#### Analyzing **Naive Bayes**"
      ]
    },
    {
      "cell_type": "code",
      "metadata": {
        "id": "qZJmrlB0TUVk"
      },
      "source": [
        "clf_NB(X_Data, Y_Lavel, 'Glucose')"
      ],
      "execution_count": null,
      "outputs": []
    },
    {
      "cell_type": "markdown",
      "metadata": {
        "id": "qonY4zaqTUVk"
      },
      "source": [
        "#### Analyzing **XGBoost**"
      ]
    },
    {
      "cell_type": "code",
      "metadata": {
        "colab": {
          "base_uri": "https://localhost:8080/",
          "height": 0
        },
        "id": "ZcCdpaKYTUVk",
        "outputId": "fe94bbeb-17bb-46a7-f7d7-e3c597bf65c6"
      },
      "source": [
        "clf_XGB(X_Data, Y_Lavel, 'Glucose')"
      ],
      "execution_count": 128,
      "outputs": [
        {
          "output_type": "stream",
          "name": "stdout",
          "text": [
            "--------------------------------------------------\n",
            "Detailed classification report for current fold:\n",
            "\n",
            "              precision    recall  f1-score   support\n",
            "\n",
            "         0.0       0.00      0.00      0.00         2\n",
            "         1.0       0.68      0.82      0.75        79\n",
            "         2.0       0.58      0.40      0.48        47\n",
            "\n",
            "    accuracy                           0.66       128\n",
            "   macro avg       0.42      0.41      0.41       128\n",
            "weighted avg       0.63      0.66      0.64       128\n",
            "\n",
            "\n",
            "\n",
            "Confusion Matrix for current fold: \n",
            "[[ 0  2  0]\n",
            " [ 0 65 14]\n",
            " [ 0 28 19]]\n",
            "\n",
            "Accuracy for Current Fold: 0.65625\n",
            "\n",
            "--------------------------------------------------\n",
            "Detailed classification report for current fold:\n",
            "\n",
            "              precision    recall  f1-score   support\n",
            "\n",
            "         0.0       0.00      0.00      0.00         2\n",
            "         1.0       0.78      0.86      0.82        78\n",
            "         2.0       0.73      0.64      0.68        47\n",
            "\n",
            "    accuracy                           0.76       127\n",
            "   macro avg       0.50      0.50      0.50       127\n",
            "weighted avg       0.75      0.76      0.75       127\n",
            "\n",
            "\n",
            "\n",
            "Confusion Matrix for current fold: \n",
            "[[ 0  2  0]\n",
            " [ 0 67 11]\n",
            " [ 0 17 30]]\n",
            "\n",
            "Accuracy for Current Fold: 0.7637795275590551\n",
            "\n",
            "--------------------------------------------------\n",
            "Detailed classification report for current fold:\n",
            "\n",
            "              precision    recall  f1-score   support\n",
            "\n",
            "         0.0       0.00      0.00      0.00         2\n",
            "         1.0       0.76      0.85      0.80        79\n",
            "         2.0       0.69      0.59      0.64        46\n",
            "\n",
            "    accuracy                           0.74       127\n",
            "   macro avg       0.48      0.48      0.48       127\n",
            "weighted avg       0.72      0.74      0.73       127\n",
            "\n",
            "\n",
            "\n",
            "Confusion Matrix for current fold: \n",
            "[[ 0  2  0]\n",
            " [ 0 67 12]\n",
            " [ 0 19 27]]\n",
            "\n",
            "Accuracy for Current Fold: 0.7401574803149606\n",
            "\n",
            "--------------------------------------------------\n",
            "Detailed classification report for current fold:\n",
            "\n",
            "              precision    recall  f1-score   support\n",
            "\n",
            "         0.0       0.00      0.00      0.00         2\n",
            "         1.0       0.81      0.80      0.80        79\n",
            "         2.0       0.67      0.72      0.69        46\n",
            "\n",
            "    accuracy                           0.76       127\n",
            "   macro avg       0.49      0.50      0.50       127\n",
            "weighted avg       0.75      0.76      0.75       127\n",
            "\n",
            "\n",
            "\n",
            "Confusion Matrix for current fold: \n",
            "[[ 0  2  0]\n",
            " [ 0 63 16]\n",
            " [ 0 13 33]]\n",
            "\n",
            "Accuracy for Current Fold: 0.7559055118110236\n",
            "\n",
            "--------------------------------------------------\n",
            "Detailed classification report for current fold:\n",
            "\n",
            "              precision    recall  f1-score   support\n",
            "\n",
            "         0.0       0.00      0.00      0.00         2\n",
            "         1.0       0.75      0.75      0.75        79\n",
            "         2.0       0.58      0.61      0.60        46\n",
            "\n",
            "    accuracy                           0.69       127\n",
            "   macro avg       0.44      0.45      0.45       127\n",
            "weighted avg       0.68      0.69      0.68       127\n",
            "\n",
            "\n",
            "\n",
            "Confusion Matrix for current fold: \n",
            "[[ 0  2  0]\n",
            " [ 0 59 20]\n",
            " [ 0 18 28]]\n",
            "\n",
            "Accuracy for Current Fold: 0.6850393700787402\n",
            "\n",
            "\n",
            "---------------------Average---------------------\n",
            "Accuracy (Avg. +/- Std.) is  0.720 +/- 0.042\n",
            "Avg. CM is [[30, 11], [11, 72]]\n",
            "Total for all folds CM is [[458, 178], [178, 1094]]\n",
            "Sensitivity (Avg. +/- Std.) is  0.469 +/- 0.350\n",
            "Specificity (Avg. +/- Std.) is  0.795 +/- 0.188\n",
            "Precision (Avg. +/- Std.) is  nan +/- nan\n",
            "FOR (Avg. +/- Std.) is  0.195 +/- 0.144\n",
            "DOR (Avg. +/- Std.) is  nan +/- nan\n"
          ]
        },
        {
          "output_type": "display_data",
          "data": {
            "text/plain": [
              "<Figure size 576x360 with 0 Axes>"
            ]
          },
          "metadata": {}
        }
      ]
    },
    {
      "cell_type": "markdown",
      "metadata": {
        "id": "LNm5XLjbgICM"
      },
      "source": [
        "# Results"
      ]
    },
    {
      "cell_type": "code",
      "metadata": {
        "id": "CoWT8X5yTowz"
      },
      "source": [
        "row_index = ['BloodPressure', 'Glucose']\n",
        "model_names = ['KNN', 'DecisionTree', 'RandomForest', 'AdaBoost', 'NaiveBayes', 'XGBoost']\n",
        "results = pd.DataFrame(all_clf_res['BloodPressure'], index = model_names)\n",
        "results['Glucose'] = all_clf_res['Glucose']\n",
        "results = results.transpose()"
      ],
      "execution_count": 129,
      "outputs": []
    },
    {
      "cell_type": "code",
      "metadata": {
        "id": "WQkn5K84UwfB"
      },
      "source": [
        "results.index = row_index"
      ],
      "execution_count": 130,
      "outputs": []
    },
    {
      "cell_type": "code",
      "metadata": {
        "colab": {
          "base_uri": "https://localhost:8080/",
          "height": 128
        },
        "id": "x0A9DjmvWmux",
        "outputId": "b2503085-a875-40e2-ed50-7972a7a622ce"
      },
      "source": [
        "print(\"Multiclass\")\n",
        "results"
      ],
      "execution_count": 132,
      "outputs": [
        {
          "output_type": "stream",
          "name": "stdout",
          "text": [
            "Multiclass\n"
          ]
        },
        {
          "output_type": "execute_result",
          "data": {
            "text/html": [
              "<div>\n",
              "<style scoped>\n",
              "    .dataframe tbody tr th:only-of-type {\n",
              "        vertical-align: middle;\n",
              "    }\n",
              "\n",
              "    .dataframe tbody tr th {\n",
              "        vertical-align: top;\n",
              "    }\n",
              "\n",
              "    .dataframe thead th {\n",
              "        text-align: right;\n",
              "    }\n",
              "</style>\n",
              "<table border=\"1\" class=\"dataframe\">\n",
              "  <thead>\n",
              "    <tr style=\"text-align: right;\">\n",
              "      <th></th>\n",
              "      <th>KNN</th>\n",
              "      <th>DecisionTree</th>\n",
              "      <th>RandomForest</th>\n",
              "      <th>AdaBoost</th>\n",
              "      <th>NaiveBayes</th>\n",
              "      <th>XGBoost</th>\n",
              "    </tr>\n",
              "  </thead>\n",
              "  <tbody>\n",
              "    <tr>\n",
              "      <th>BloodPressure</th>\n",
              "      <td>0.564+/-0.013</td>\n",
              "      <td>0.569+/-0.003</td>\n",
              "      <td>0.544+/-0.03</td>\n",
              "      <td>0.569+/-0.01</td>\n",
              "      <td>0.546+/-0.03</td>\n",
              "      <td>0.553+/-0.02</td>\n",
              "    </tr>\n",
              "    <tr>\n",
              "      <th>Glucose</th>\n",
              "      <td>0.686+/-0.019</td>\n",
              "      <td>0.659+/-0.048</td>\n",
              "      <td>0.709+/-0.031</td>\n",
              "      <td>0.712+/-0.026</td>\n",
              "      <td>0.689+/-0.022</td>\n",
              "      <td>0.72+/-0.042</td>\n",
              "    </tr>\n",
              "  </tbody>\n",
              "</table>\n",
              "</div>"
            ],
            "text/plain": [
              "                         KNN   DecisionTree  ...     NaiveBayes       XGBoost\n",
              "BloodPressure  0.564+/-0.013  0.569+/-0.003  ...   0.546+/-0.03  0.553+/-0.02\n",
              "Glucose        0.686+/-0.019  0.659+/-0.048  ...  0.689+/-0.022  0.72+/-0.042\n",
              "\n",
              "[2 rows x 6 columns]"
            ]
          },
          "metadata": {},
          "execution_count": 132
        }
      ]
    },
    {
      "cell_type": "code",
      "metadata": {
        "id": "w7bUCaxzEbpQ"
      },
      "source": [
        ""
      ],
      "execution_count": null,
      "outputs": []
    }
  ]
}
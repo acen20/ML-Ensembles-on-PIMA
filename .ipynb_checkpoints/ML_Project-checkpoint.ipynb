{
 "cells": [
  {
   "cell_type": "markdown",
   "metadata": {
    "id": "um4hHF6xgf5O"
   },
   "source": [
    "## Notes"
   ]
  },
  {
   "cell_type": "markdown",
   "metadata": {
    "id": "yWBbs8xdh48b"
   },
   "source": [
    "High imbalance of classes in BloodPressure (3) and Glucose (3)\n",
    "### KNN\n",
    "1. Accuracy decreases by decreasing principal components. Highest at (8)\n",
    "2. Try regression instead of classification. The ranges defined for BloodPressure and Glucose gives rise to significant imbalance.\n",
    "3. Try without dimension reduction."
   ]
  },
  {
   "cell_type": "markdown",
   "metadata": {
    "id": "hfulVdlqeDUb"
   },
   "source": [
    "# Libraries"
   ]
  },
  {
   "cell_type": "code",
   "execution_count": 1,
   "metadata": {
    "id": "6P_KLNhChx4e",
    "scrolled": true
   },
   "outputs": [
    {
     "name": "stderr",
     "output_type": "stream",
     "text": [
      "2021-08-26 15:36:22.686902: W tensorflow/stream_executor/platform/default/dso_loader.cc:64] Could not load dynamic library 'libcudart.so.11.0'; dlerror: libcudart.so.11.0: cannot open shared object file: No such file or directory\n",
      "2021-08-26 15:36:22.686948: I tensorflow/stream_executor/cuda/cudart_stub.cc:29] Ignore above cudart dlerror if you do not have a GPU set up on your machine.\n"
     ]
    }
   ],
   "source": [
    "import numpy as np\n",
    "import pandas as pd \n",
    "import copy\n",
    "import matplotlib.pyplot as plt\n",
    "%matplotlib inline\n",
    "import seaborn as sns\n",
    "sns.set(font_scale=2.0, style=\"dark\")\n",
    "import warnings \n",
    "from sklearn.svm import SVC, NuSVC\n",
    "warnings.filterwarnings('ignore')\n",
    "from sklearn.model_selection import train_test_split\n",
    "from sklearn.naive_bayes import GaussianNB\n",
    "from sklearn.svm import SVC\n",
    "from sklearn.neighbors  import KNeighborsClassifier\n",
    "from sklearn.tree import DecisionTreeClassifier\n",
    "from sklearn.ensemble import RandomForestClassifier\n",
    "from sklearn.ensemble import AdaBoostClassifier\n",
    "from sklearn.ensemble import GradientBoostingClassifier\n",
    "from sklearn.neural_network import MLPClassifier\n",
    "import xgboost as xgb\n",
    "from scipy import stats\n",
    "from scipy.stats import uniform, randint\n",
    "from sklearn.metrics import f1_score\n",
    "from sklearn.model_selection import KFold, StratifiedKFold, RepeatedStratifiedKFold\n",
    "from sklearn.metrics import roc_curve, auc, accuracy_score\n",
    "# from tflearn.data_utils import to_categorical\n",
    "from sklearn import preprocessing\n",
    "from sklearn.model_selection import GridSearchCV, RandomizedSearchCV\n",
    "from sklearn.metrics import classification_report\n",
    "from scipy import interp\n",
    "from sklearn.metrics import multilabel_confusion_matrix as confusion_matrix, plot_confusion_matrix\n",
    "from sklearn.decomposition import PCA\n",
    "from sklearn.decomposition import FastICA\n",
    "from tensorflow.keras.utils import to_categorical"
   ]
  },
  {
   "cell_type": "markdown",
   "metadata": {
    "id": "GsIelASieMjL"
   },
   "source": [
    "# Data Manipulation"
   ]
  },
  {
   "cell_type": "code",
   "execution_count": 2,
   "metadata": {
    "id": "6ZWa0WB5N06M"
   },
   "outputs": [],
   "source": [
    "## Make 1 or True  if you run colab\n",
    "## Other wise 0 or False\n",
    "##if you run in  colab\n",
    "\n",
    "colab = 0\n",
    "if colab ==True:\n",
    "  data_dir='/content/drive/MyDrive/PIMA Journal/diabetes.csv'\n",
    "  from google.colab import drive\n",
    "  drive.mount('/content/drive')\n",
    "else:\n",
    "  \n",
    "  data_dir='Diabetes_processed.csv'\n"
   ]
  },
  {
   "cell_type": "code",
   "execution_count": 3,
   "metadata": {
    "id": "gPXAbwA7Olty"
   },
   "outputs": [],
   "source": [
    "data = pd.read_csv(data_dir)"
   ]
  },
  {
   "cell_type": "code",
   "execution_count": 4,
   "metadata": {
    "colab": {
     "base_uri": "https://localhost:8080/",
     "height": 204
    },
    "id": "fsEN6pCHOtDa",
    "outputId": "22396a98-193b-4003-b841-39b0eb73b922"
   },
   "outputs": [
    {
     "data": {
      "text/html": [
       "<div>\n",
       "<style scoped>\n",
       "    .dataframe tbody tr th:only-of-type {\n",
       "        vertical-align: middle;\n",
       "    }\n",
       "\n",
       "    .dataframe tbody tr th {\n",
       "        vertical-align: top;\n",
       "    }\n",
       "\n",
       "    .dataframe thead th {\n",
       "        text-align: right;\n",
       "    }\n",
       "</style>\n",
       "<table border=\"1\" class=\"dataframe\">\n",
       "  <thead>\n",
       "    <tr style=\"text-align: right;\">\n",
       "      <th></th>\n",
       "      <th>Pregnancies</th>\n",
       "      <th>Glucose</th>\n",
       "      <th>BloodPressure</th>\n",
       "      <th>SkinThickness</th>\n",
       "      <th>Insulin</th>\n",
       "      <th>BMI</th>\n",
       "      <th>DiabetesPedigreeFunction</th>\n",
       "      <th>Age</th>\n",
       "      <th>Outcome</th>\n",
       "    </tr>\n",
       "  </thead>\n",
       "  <tbody>\n",
       "    <tr>\n",
       "      <th>0</th>\n",
       "      <td>6.0</td>\n",
       "      <td>148.0</td>\n",
       "      <td>72.0</td>\n",
       "      <td>35.000000</td>\n",
       "      <td>171.474227</td>\n",
       "      <td>33.6</td>\n",
       "      <td>0.627</td>\n",
       "      <td>50.0</td>\n",
       "      <td>1</td>\n",
       "    </tr>\n",
       "    <tr>\n",
       "      <th>1</th>\n",
       "      <td>1.0</td>\n",
       "      <td>85.0</td>\n",
       "      <td>66.0</td>\n",
       "      <td>29.000000</td>\n",
       "      <td>113.606695</td>\n",
       "      <td>26.6</td>\n",
       "      <td>0.351</td>\n",
       "      <td>31.0</td>\n",
       "      <td>0</td>\n",
       "    </tr>\n",
       "    <tr>\n",
       "      <th>2</th>\n",
       "      <td>8.0</td>\n",
       "      <td>183.0</td>\n",
       "      <td>64.0</td>\n",
       "      <td>32.059259</td>\n",
       "      <td>171.474227</td>\n",
       "      <td>23.3</td>\n",
       "      <td>0.672</td>\n",
       "      <td>32.0</td>\n",
       "      <td>1</td>\n",
       "    </tr>\n",
       "    <tr>\n",
       "      <th>3</th>\n",
       "      <td>1.0</td>\n",
       "      <td>89.0</td>\n",
       "      <td>66.0</td>\n",
       "      <td>23.000000</td>\n",
       "      <td>94.000000</td>\n",
       "      <td>28.1</td>\n",
       "      <td>0.167</td>\n",
       "      <td>21.0</td>\n",
       "      <td>0</td>\n",
       "    </tr>\n",
       "    <tr>\n",
       "      <th>4</th>\n",
       "      <td>5.0</td>\n",
       "      <td>116.0</td>\n",
       "      <td>74.0</td>\n",
       "      <td>27.094512</td>\n",
       "      <td>113.606695</td>\n",
       "      <td>25.6</td>\n",
       "      <td>0.201</td>\n",
       "      <td>30.0</td>\n",
       "      <td>0</td>\n",
       "    </tr>\n",
       "  </tbody>\n",
       "</table>\n",
       "</div>"
      ],
      "text/plain": [
       "   Pregnancies  Glucose  BloodPressure  SkinThickness     Insulin   BMI  \\\n",
       "0          6.0    148.0           72.0      35.000000  171.474227  33.6   \n",
       "1          1.0     85.0           66.0      29.000000  113.606695  26.6   \n",
       "2          8.0    183.0           64.0      32.059259  171.474227  23.3   \n",
       "3          1.0     89.0           66.0      23.000000   94.000000  28.1   \n",
       "4          5.0    116.0           74.0      27.094512  113.606695  25.6   \n",
       "\n",
       "   DiabetesPedigreeFunction   Age  Outcome  \n",
       "0                     0.627  50.0        1  \n",
       "1                     0.351  31.0        0  \n",
       "2                     0.672  32.0        1  \n",
       "3                     0.167  21.0        0  \n",
       "4                     0.201  30.0        0  "
      ]
     },
     "execution_count": 4,
     "metadata": {},
     "output_type": "execute_result"
    }
   ],
   "source": [
    "data.head()"
   ]
  },
  {
   "cell_type": "code",
   "execution_count": 5,
   "metadata": {
    "id": "7FBYD-y5pmde"
   },
   "outputs": [],
   "source": [
    "def swap_col(target_):\n",
    "  swap_data = copy.deepcopy(data)\n",
    "  swap_data[target_] = data.Outcome\n",
    "  swap_data.Outcome = data[target_]\n",
    "  swap_data.rename(columns = {'Outcome':target_, target_: 'Diabetic'}, inplace = True)\n",
    "  #swap_data.Diabetic.replace({1:'Yes', 0:'No'} , inplace = True)\n",
    "  return swap_data"
   ]
  },
  {
   "cell_type": "code",
   "execution_count": 6,
   "metadata": {
    "id": "9EcVLsoXqcT0"
   },
   "outputs": [],
   "source": [
    "data_BP = swap_col('BloodPressure')\n",
    "\n",
    "#data_ST = swap_col('SkinThickness')\n",
    "#data_Ins = swap_col('Insulin')\n",
    "#data_BMI = swap_col('BMI')\n",
    "#data_DPF = swap_col('DiabetesPedigreeFunction')\n",
    "#data_Age = swap_col('Age')\n",
    "#data_Pregnancies = swap_col('Pregnancies')"
   ]
  },
  {
   "cell_type": "code",
   "execution_count": 7,
   "metadata": {
    "colab": {
     "base_uri": "https://localhost:8080/",
     "height": 204
    },
    "id": "7g6m-qlyhx4u",
    "outputId": "fa6926a3-5865-4735-ebd7-83c5711ef13f"
   },
   "outputs": [
    {
     "data": {
      "text/html": [
       "<div>\n",
       "<style scoped>\n",
       "    .dataframe tbody tr th:only-of-type {\n",
       "        vertical-align: middle;\n",
       "    }\n",
       "\n",
       "    .dataframe tbody tr th {\n",
       "        vertical-align: top;\n",
       "    }\n",
       "\n",
       "    .dataframe thead th {\n",
       "        text-align: right;\n",
       "    }\n",
       "</style>\n",
       "<table border=\"1\" class=\"dataframe\">\n",
       "  <thead>\n",
       "    <tr style=\"text-align: right;\">\n",
       "      <th></th>\n",
       "      <th>Pregnancies</th>\n",
       "      <th>Glucose</th>\n",
       "      <th>Diabetic</th>\n",
       "      <th>SkinThickness</th>\n",
       "      <th>Insulin</th>\n",
       "      <th>BMI</th>\n",
       "      <th>DiabetesPedigreeFunction</th>\n",
       "      <th>Age</th>\n",
       "      <th>BloodPressure</th>\n",
       "    </tr>\n",
       "  </thead>\n",
       "  <tbody>\n",
       "    <tr>\n",
       "      <th>0</th>\n",
       "      <td>6.0</td>\n",
       "      <td>148.0</td>\n",
       "      <td>1</td>\n",
       "      <td>35.000000</td>\n",
       "      <td>171.474227</td>\n",
       "      <td>33.6</td>\n",
       "      <td>0.627</td>\n",
       "      <td>50.0</td>\n",
       "      <td>72.0</td>\n",
       "    </tr>\n",
       "    <tr>\n",
       "      <th>1</th>\n",
       "      <td>1.0</td>\n",
       "      <td>85.0</td>\n",
       "      <td>0</td>\n",
       "      <td>29.000000</td>\n",
       "      <td>113.606695</td>\n",
       "      <td>26.6</td>\n",
       "      <td>0.351</td>\n",
       "      <td>31.0</td>\n",
       "      <td>66.0</td>\n",
       "    </tr>\n",
       "    <tr>\n",
       "      <th>2</th>\n",
       "      <td>8.0</td>\n",
       "      <td>183.0</td>\n",
       "      <td>1</td>\n",
       "      <td>32.059259</td>\n",
       "      <td>171.474227</td>\n",
       "      <td>23.3</td>\n",
       "      <td>0.672</td>\n",
       "      <td>32.0</td>\n",
       "      <td>64.0</td>\n",
       "    </tr>\n",
       "    <tr>\n",
       "      <th>3</th>\n",
       "      <td>1.0</td>\n",
       "      <td>89.0</td>\n",
       "      <td>0</td>\n",
       "      <td>23.000000</td>\n",
       "      <td>94.000000</td>\n",
       "      <td>28.1</td>\n",
       "      <td>0.167</td>\n",
       "      <td>21.0</td>\n",
       "      <td>66.0</td>\n",
       "    </tr>\n",
       "    <tr>\n",
       "      <th>4</th>\n",
       "      <td>5.0</td>\n",
       "      <td>116.0</td>\n",
       "      <td>0</td>\n",
       "      <td>27.094512</td>\n",
       "      <td>113.606695</td>\n",
       "      <td>25.6</td>\n",
       "      <td>0.201</td>\n",
       "      <td>30.0</td>\n",
       "      <td>74.0</td>\n",
       "    </tr>\n",
       "  </tbody>\n",
       "</table>\n",
       "</div>"
      ],
      "text/plain": [
       "   Pregnancies  Glucose  Diabetic  SkinThickness     Insulin   BMI  \\\n",
       "0          6.0    148.0         1      35.000000  171.474227  33.6   \n",
       "1          1.0     85.0         0      29.000000  113.606695  26.6   \n",
       "2          8.0    183.0         1      32.059259  171.474227  23.3   \n",
       "3          1.0     89.0         0      23.000000   94.000000  28.1   \n",
       "4          5.0    116.0         0      27.094512  113.606695  25.6   \n",
       "\n",
       "   DiabetesPedigreeFunction   Age  BloodPressure  \n",
       "0                     0.627  50.0           72.0  \n",
       "1                     0.351  31.0           66.0  \n",
       "2                     0.672  32.0           64.0  \n",
       "3                     0.167  21.0           66.0  \n",
       "4                     0.201  30.0           74.0  "
      ]
     },
     "execution_count": 7,
     "metadata": {},
     "output_type": "execute_result"
    }
   ],
   "source": [
    "data_BP.head()"
   ]
  },
  {
   "cell_type": "code",
   "execution_count": 8,
   "metadata": {
    "id": "sSG-nEalhx4w"
   },
   "outputs": [],
   "source": [
    "knn_res = pd.DataFrame()\n",
    "random_initializer=100            #random initializer\n",
    "n_dots=50"
   ]
  },
  {
   "cell_type": "markdown",
   "metadata": {
    "id": "9635-rRaNaHB"
   },
   "source": [
    "# Utility Functions\n"
   ]
  },
  {
   "cell_type": "code",
   "execution_count": null,
   "metadata": {
    "id": "3PneAZ5Jhx4x"
   },
   "outputs": [],
   "source": [
    "def metrics (y_true, y_pred, probas_):\n",
    "  '''\n",
    "  Parameters :\n",
    "  Input - \n",
    "  y_true - true  value of input data    \n",
    "  y_pred- predicted  value of input data  \n",
    "  probas_- probability/confidence of predicted output\n",
    "\n",
    "  return -True Negative(tn),False Positive(fp),False Negative(fn)\n",
    "  True positive(tp),AUC(roc_auc),False Positive Rate(fpr),\n",
    "  True positive rate(tpr)\n",
    "\n",
    "  '''\n",
    "\n",
    "\n",
    "  points=n_dots*'-'\n",
    "  print(points)\n",
    "#    print(\"Best parameters set found on development set:\")\n",
    "#    print(clf.best_params_)\n",
    "  #  aucs.append(roc_auc)\n",
    "  print(\"Detailed classification report for current fold:\")\n",
    "  print()\n",
    "  print(classification_report(y_true, y_pred))\n",
    "  print()\n",
    "  print()\n",
    "  #print('Confusion Matrix for current fold: ')\n",
    "  #print(confusion_matrix(y_true, y_pred))\n",
    "  print()\n",
    "  print(\"Accuracy for Current Fold: {}\".format(accuracy_score(y_true, y_pred)))\n",
    "  print()\n",
    "\n",
    "  confusion_array = confusion_matrix(y_true, y_pred)\n",
    "  confusion_d = pd.DataFrame(confusion_array.reshape(-1, 4), columns=[\"TN\", \"FP\", \"FN\", \"TP\"])\n",
    "  tn, fp, fn, tp = np.array(confusion_d.TN), np.array(confusion_d.FP), np.array(confusion_d.FN), np.array(confusion_d.TP)\n",
    "\n",
    "  return  tn, fp, fn, tp\n",
    "\n",
    "\n",
    "def average_performance(Accuracy,TP,TN,FP,FN): \n",
    "\n",
    "  '''\n",
    "  Parameters :\n",
    "  Input - \n",
    "  Accuracy - value of accuracy\n",
    "  TP  - True Positive\n",
    "  TN  - True Negative\n",
    "  FP  - False Positive\n",
    "  FN  - False Negative\n",
    "\n",
    "\n",
    "  Output - \n",
    "  It prints the average accuarcy,confusion matrix\n",
    "  '''\n",
    "\n",
    "  print()\n",
    "  n_dotsav=(n_dots-len('Average'))//2\n",
    "    \n",
    "  print('-'*n_dotsav+'Average'+'-'*n_dotsav)\n",
    "  print(\"Accuracy (Avg. +/- Std.) is  %0.3f +/- %0.3f\" %(np.mean(Accuracy),np.std(Accuracy)))\n",
    "  cm = [[int(np.mean(TP)), int(np.mean(FP))],[int(np.mean(FN)), int(np.mean(TN))]]\n",
    "  print ('Avg. CM is '+str(cm))\n",
    "  cm = [[int(np.sum(TP)), int(np.sum(FP))],[int(np.sum(FN)), int(np.sum(TN))]]\n",
    "  print ('Total for all folds CM is '+str(cm))\n",
    "\n",
    "def creat_Model (classifier, X_Train, Y_Train, tuned_parameters, verbose):\n",
    " \n",
    "    clf = GridSearchCV(classifier,\n",
    "                    tuned_parameters,\n",
    "                    verbose=verbose,\n",
    "                    cv=5,\n",
    "                    scoring='f1_weighted',\n",
    "                    n_jobs=-1)\n",
    "    clf.fit(X_Train, Y_Train)\n",
    "    return clf\n",
    "    ############################################################\n",
    "    \n",
    "def feature_Selector(data, algo, n_feature):\n",
    " \n",
    "    if algo=='PCA':                                                   #for pca algorithm\n",
    "        X_Data= data.iloc[:,:8].values\n",
    "        pca = PCA(n_components=n_feature)                             #number of feature\n",
    "        X_Data = pca.fit_transform(X_Data)\n",
    "        return X_Data , data.iloc[:,8:].values\n",
    " \n",
    "    if algo == 'ICA':\n",
    "        X_Data= data.iloc[:,:8].values\n",
    "        ICA = FastICA(n_components=n_feature, random_state=12) \n",
    "        X_Data = ICA.fit_transform(X_Data)\n",
    "        return X_Data , data.iloc[:,8:].values\n",
    "    \n",
    "    if algo =='corr':                                                   #for ica algorithm\n",
    "        if n_feature ==4:\n",
    "            data = data[['F2','F5','F4','F6','Outcome']]                #for 4 feature\n",
    "            return data.iloc[:,:4].values, data.iloc[:,4:].values\n",
    "        if n_feature ==6:\n",
    "            data = data[['F1','F2','F4','F5','F6','F8','Outcome']]       #for 6 feature\n",
    "            return data.iloc[:,:6].values, data.iloc[:,6:].values\n",
    "        \n",
    "    if algo == 'None':\n",
    "        return data.iloc[:,:8].values, data.iloc[:,8:].values            #if feature selection is off all features are counted"
   ]
  },
  {
   "cell_type": "code",
   "execution_count": null,
   "metadata": {
    "id": "nb_v6Fnqhx40"
   },
   "outputs": [],
   "source": [
    "kf = StratifiedKFold(n_splits=5,\n",
    "                     shuffle=True,\n",
    "                     random_state=random_initializer)"
   ]
  },
  {
   "cell_type": "markdown",
   "metadata": {
    "id": "vfYhdL_AN9i1"
   },
   "source": [
    "# **Classifiers**"
   ]
  },
  {
   "cell_type": "markdown",
   "metadata": {
    "id": "mkEkXDfYNxUX"
   },
   "source": [
    "## KNN Classifier"
   ]
  },
  {
   "cell_type": "code",
   "execution_count": null,
   "metadata": {
    "id": "Ibt8C3GDhx46",
    "scrolled": true
   },
   "outputs": [],
   "source": [
    "def clf_KNN(X_Data, Y_Lavel, target_col):\n",
    "  FP = []                                                                      # for store False Positive \n",
    "  TN = []                                                                      # for True Negative\n",
    "  FN = []                                                                      # for False Negative\n",
    "  TP = []                                                                      # for True Positive\n",
    "  Accuracy = []                                             # for store the value of accuracy                                                               # for store the values of auc\n",
    "  iterator=0\n",
    "\n",
    "  fig = plt.figure(figsize=(8, 5))\n",
    "\n",
    "  for train_index, test_index in kf.split(X_Data,Y_Lavel):                     # split in train and test\n",
    "      #   print(\"TRAIN:\", train_index, \"TEST:\", test_index)\n",
    "      X_Train, X_Test = X_Data[train_index], X_Data[test_index]                #train data and label\n",
    "      Y_Train, Y_Test = Y_Lavel[train_index], Y_Lavel[test_index]              #test data and label\n",
    "\n",
    "      ###########################################\n",
    "      # define the hyper parameters of Knn\n",
    "      n_neighbors = [1,3,5,7,9,11,13,15,17,19,21,23,25,27,29,31,33,35,37,39,41,43,45,47,49]\n",
    "      leaf_size = [5,10,15,20,25,30,35,40,45,50]\n",
    "      Distance = [1,2]\n",
    "      ############################################\n",
    "\n",
    "\n",
    "      tuned_parameters = [ {'n_neighbors': n_neighbors,                         #define parameters with different algorithm\n",
    "                          'algorithm' : ['brute'],\n",
    "                          'p':Distance},\n",
    "\n",
    "                          {'n_neighbors': n_neighbors, \n",
    "                          'algorithm' : ['ball_tree'],\n",
    "                          'leaf_size' : leaf_size,\n",
    "                          'p':Distance},\n",
    "\n",
    "                          {'n_neighbors': n_neighbors, \n",
    "                          'algorithm' : ['kd_tree'],\n",
    "                          'leaf_size' : leaf_size,\n",
    "                          'p':Distance}]\n",
    "\n",
    "      clf = creat_Model (classifier = KNeighborsClassifier(),                     #create the model \n",
    "                        X_Train = X_Train,\n",
    "                        Y_Train = Y_Train,\n",
    "                        tuned_parameters = tuned_parameters,\n",
    "                        verbose=0)\n",
    "      \n",
    "      tn, fp, fn, tp = metrics (y_true = Y_Test,               #get the values of  model evaluation \n",
    "                                                  y_pred = clf.predict(X_Test),\n",
    "                                                  probas_ = clf.predict_proba(X_Test))\n",
    "      \n",
    "  \n",
    "      cm = plot_confusion_matrix(clf, X_Test, Y_Test)\n",
    "      iterator += 1\n",
    "      TN.append(tn)\n",
    "      FP.append(fp)\n",
    "      FN.append(fn)\n",
    "      TP.append(tp)\n",
    "      Accuracy.append(accuracy_score(Y_Test, clf.predict(X_Test)))\n",
    "  average_performance(Accuracy,TP,TN,FP,FN)    \n",
    "  knn_res[target_col+'_KNN'] = Accuracy"
   ]
  },
  {
   "cell_type": "markdown",
   "metadata": {
    "id": "-SsUKyeshx41"
   },
   "source": [
    "# With BloodPressure as Target"
   ]
  },
  {
   "cell_type": "code",
   "execution_count": null,
   "metadata": {
    "colab": {
     "base_uri": "https://localhost:8080/"
    },
    "id": "Sr1VI20Utwf6",
    "outputId": "81ee0437-1052-42b7-d9f6-d19cf988752e",
    "scrolled": true
   },
   "outputs": [
    {
     "data": {
      "text/plain": [
       "(   Pregnancies  Glucose  ...   Age  BloodPressure\n",
       " 0          6.0    148.0  ...  50.0           72.0\n",
       " 1          1.0     85.0  ...  31.0           66.0\n",
       " 2          8.0    183.0  ...  32.0           64.0\n",
       " 3          1.0     89.0  ...  21.0           66.0\n",
       " 4          5.0    116.0  ...  30.0           74.0\n",
       " \n",
       " [5 rows x 9 columns], (636, 9))"
      ]
     },
     "execution_count": 108,
     "metadata": {},
     "output_type": "execute_result"
    }
   ],
   "source": [
    "data_BP.head(), data_BP.shape"
   ]
  },
  {
   "cell_type": "code",
   "execution_count": null,
   "metadata": {
    "id": "T1R64Mjrhx42"
   },
   "outputs": [],
   "source": [
    "def categorize_BP(data_BP):\n",
    "    \n",
    "    BP = \"BloodPressure\"\n",
    "    try:\n",
    "        norm_i = data_BP.loc[(data_BP[BP] <= 80)] #diastolic less than 80 is normal\n",
    "        #elevated_i = data_BP.loc[(data_BP[BP] > 80) & (data_BP[BP] < 90)] #diastolic between 80 and 89 is elevated\n",
    "        high_i =  data_BP.loc[data_BP[BP] > 80] #diastolic greater than 80 is high\n",
    " \n",
    "        data_BP[BP][norm_i.index] = 1\n",
    "        #data_BP[BP][elevated_i.index] = 2\n",
    "        data_BP[BP][high_i.index] = 2\n",
    "     \n",
    "    except:\n",
    "        pass\n",
    "    \n",
    "    return data_BP"
   ]
  },
  {
   "cell_type": "code",
   "execution_count": null,
   "metadata": {
    "id": "NCUqhRgVhx43"
   },
   "outputs": [],
   "source": [
    "data_BP = categorize_BP(data_BP)"
   ]
  },
  {
   "cell_type": "code",
   "execution_count": null,
   "metadata": {
    "colab": {
     "base_uri": "https://localhost:8080/"
    },
    "id": "z9midecChx44",
    "outputId": "0bcf2c7d-c3b2-47ba-fa9f-1057284fdaae"
   },
   "outputs": [
    {
     "data": {
      "text/plain": [
       "1.0    504\n",
       "2.0    132\n",
       "Name: BloodPressure, dtype: int64"
      ]
     },
     "execution_count": 111,
     "metadata": {},
     "output_type": "execute_result"
    }
   ],
   "source": [
    "data_BP.BloodPressure.value_counts()"
   ]
  },
  {
   "cell_type": "code",
   "execution_count": null,
   "metadata": {
    "id": "LXpvMzadhx45"
   },
   "outputs": [],
   "source": [
    "data_BP.columns = ['F' + str(i) for i in range(1,9)]+['Outcome'] #Renaming"
   ]
  },
  {
   "cell_type": "code",
   "execution_count": null,
   "metadata": {
    "id": "Eerd4pjVhx45"
   },
   "outputs": [],
   "source": [
    "#These are the feature selection methods, uncomment one and comment out the rest to try different methods\n",
    "X_Data,Y_Lavel = feature_Selector(data_BP, algo='ICA', n_feature=7)  \n",
    "#X_Data,Y_Lavel = feature_Selector(data_BP, algo='ICA', n_feature=6)  \n",
    "#X_Data,Y_Lavel = feature_Selector(data_BP, algo='corr', n_feature=6)  "
   ]
  },
  {
   "cell_type": "code",
   "execution_count": null,
   "metadata": {
    "colab": {
     "base_uri": "https://localhost:8080/"
    },
    "id": "wmLtRnM9hx45",
    "outputId": "edac5858-c2e1-4f8a-a3ed-60715ebc4cfb",
    "scrolled": true
   },
   "outputs": [
    {
     "data": {
      "text/plain": [
       "(array([1., 2.]), array([504, 132]))"
      ]
     },
     "execution_count": 114,
     "metadata": {},
     "output_type": "execute_result"
    }
   ],
   "source": [
    "np.unique(Y_Lavel,return_counts = True)"
   ]
  },
  {
   "cell_type": "markdown",
   "metadata": {
    "id": "Lo6UwJM9wEYU"
   },
   "source": [
    "Analyzing **KNN**"
   ]
  },
  {
   "cell_type": "code",
   "execution_count": null,
   "metadata": {
    "colab": {
     "base_uri": "https://localhost:8080/",
     "height": 1000
    },
    "id": "ja0vlEwcIaEH",
    "outputId": "d51eb335-c6ed-4cf6-d20b-f57a45476c8a"
   },
   "outputs": [
    {
     "name": "stdout",
     "output_type": "stream",
     "text": [
      "--------------------------------------------------\n",
      "Detailed classification report for current fold:\n",
      "\n",
      "              precision    recall  f1-score   support\n",
      "\n",
      "         1.0       0.80      0.98      0.88       101\n",
      "         2.0       0.60      0.11      0.19        27\n",
      "\n",
      "    accuracy                           0.80       128\n",
      "   macro avg       0.70      0.55      0.54       128\n",
      "weighted avg       0.76      0.80      0.74       128\n",
      "\n",
      "\n",
      "\n",
      "\n",
      "Accuracy for Current Fold: 0.796875\n",
      "\n",
      "--------------------------------------------------\n",
      "Detailed classification report for current fold:\n",
      "\n",
      "              precision    recall  f1-score   support\n",
      "\n",
      "         1.0       0.80      0.92      0.86       101\n",
      "         2.0       0.27      0.12      0.16        26\n",
      "\n",
      "    accuracy                           0.76       127\n",
      "   macro avg       0.54      0.52      0.51       127\n",
      "weighted avg       0.69      0.76      0.71       127\n",
      "\n",
      "\n",
      "\n",
      "\n",
      "Accuracy for Current Fold: 0.7559055118110236\n",
      "\n",
      "--------------------------------------------------\n",
      "Detailed classification report for current fold:\n",
      "\n",
      "              precision    recall  f1-score   support\n",
      "\n",
      "         1.0       0.82      0.92      0.87       101\n",
      "         2.0       0.38      0.19      0.26        26\n",
      "\n",
      "    accuracy                           0.77       127\n",
      "   macro avg       0.60      0.56      0.56       127\n",
      "weighted avg       0.73      0.77      0.74       127\n",
      "\n",
      "\n",
      "\n",
      "\n",
      "Accuracy for Current Fold: 0.7716535433070866\n",
      "\n",
      "--------------------------------------------------\n",
      "Detailed classification report for current fold:\n",
      "\n",
      "              precision    recall  f1-score   support\n",
      "\n",
      "         1.0       0.79      0.87      0.83       101\n",
      "         2.0       0.19      0.12      0.14        26\n",
      "\n",
      "    accuracy                           0.72       127\n",
      "   macro avg       0.49      0.49      0.49       127\n",
      "weighted avg       0.67      0.72      0.69       127\n",
      "\n",
      "\n",
      "\n",
      "\n",
      "Accuracy for Current Fold: 0.7165354330708661\n",
      "\n",
      "--------------------------------------------------\n",
      "Detailed classification report for current fold:\n",
      "\n",
      "              precision    recall  f1-score   support\n",
      "\n",
      "         1.0       0.81      0.96      0.88       100\n",
      "         2.0       0.50      0.15      0.23        27\n",
      "\n",
      "    accuracy                           0.79       127\n",
      "   macro avg       0.65      0.55      0.55       127\n",
      "weighted avg       0.74      0.79      0.74       127\n",
      "\n",
      "\n",
      "\n",
      "\n",
      "Accuracy for Current Fold: 0.7874015748031497\n",
      "\n",
      "\n",
      "---------------------Average---------------------\n",
      "Accuracy (Avg. +/- Std.) is  0.766 +/- 0.028\n",
      "Avg. CM is [[48, 14], [14, 48]]\n",
      "Total for all folds CM is [[487, 149], [149, 487]]\n"
     ]
    },
    {
     "data": {
      "text/plain": [
       "<Figure size 576x360 with 0 Axes>"
      ]
     },
     "metadata": {},
     "output_type": "display_data"
    },
    {
     "data": {
      "image/png": "[encoded data removed]",
      "text/plain": [
       "<Figure size 432x288 with 2 Axes>"
      ]
     },
     "metadata": {},
     "output_type": "display_data"
    },
    {
     "data": {
      "image/png": "[encoded data removed]",
      "text/plain": [
       "<Figure size 432x288 with 2 Axes>"
      ]
     },
     "metadata": {},
     "output_type": "display_data"
    },
    {
     "data": {
      "image/png": "[encoded data removed]",
      "text/plain": [
       "<Figure size 432x288 with 2 Axes>"
      ]
     },
     "metadata": {},
     "output_type": "display_data"
    },
    {
     "data": {
      "image/png": "[encoded data removed]",
      "text/plain": [
       "<Figure size 432x288 with 2 Axes>"
      ]
     },
     "metadata": {},
     "output_type": "display_data"
    },
    {
     "data": {
      "image/png": "[encoded data removed]",
      "text/plain": [
       "<Figure size 432x288 with 2 Axes>"
      ]
     },
     "metadata": {},
     "output_type": "display_data"
    }
   ],
   "source": [
    "clf_KNN(X_Data, Y_Lavel, 'BloodPressure')"
   ]
  },
  {
   "cell_type": "code",
   "execution_count": null,
   "metadata": {
    "colab": {
     "base_uri": "https://localhost:8080/",
     "height": 204
    },
    "id": "EMBXputCKKd4",
    "outputId": "38875259-9a5f-44df-e7a0-067a04e01017"
   },
   "outputs": [
    {
     "data": {
      "text/html": [
       "<div>\n",
       "<style scoped>\n",
       "    .dataframe tbody tr th:only-of-type {\n",
       "        vertical-align: middle;\n",
       "    }\n",
       "\n",
       "    .dataframe tbody tr th {\n",
       "        vertical-align: top;\n",
       "    }\n",
       "\n",
       "    .dataframe thead th {\n",
       "        text-align: right;\n",
       "    }\n",
       "</style>\n",
       "<table border=\"1\" class=\"dataframe\">\n",
       "  <thead>\n",
       "    <tr style=\"text-align: right;\">\n",
       "      <th></th>\n",
       "      <th>BloodPressure_KNN</th>\n",
       "    </tr>\n",
       "  </thead>\n",
       "  <tbody>\n",
       "    <tr>\n",
       "      <th>0</th>\n",
       "      <td>0.796875</td>\n",
       "    </tr>\n",
       "    <tr>\n",
       "      <th>1</th>\n",
       "      <td>0.755906</td>\n",
       "    </tr>\n",
       "    <tr>\n",
       "      <th>2</th>\n",
       "      <td>0.771654</td>\n",
       "    </tr>\n",
       "    <tr>\n",
       "      <th>3</th>\n",
       "      <td>0.716535</td>\n",
       "    </tr>\n",
       "    <tr>\n",
       "      <th>4</th>\n",
       "      <td>0.787402</td>\n",
       "    </tr>\n",
       "  </tbody>\n",
       "</table>\n",
       "</div>"
      ],
      "text/plain": [
       "   BloodPressure_KNN\n",
       "0           0.796875\n",
       "1           0.755906\n",
       "2           0.771654\n",
       "3           0.716535\n",
       "4           0.787402"
      ]
     },
     "execution_count": 116,
     "metadata": {},
     "output_type": "execute_result"
    }
   ],
   "source": [
    "knn_res"
   ]
  },
  {
   "cell_type": "markdown",
   "metadata": {
    "id": "ruw9L1ZkwMkO"
   },
   "source": [
    "# With Glucose as Target"
   ]
  },
  {
   "cell_type": "code",
   "execution_count": null,
   "metadata": {
    "id": "5PqLKfiGzNqd"
   },
   "outputs": [],
   "source": [
    "def categorize_GL(data_GL):\n",
    "    #Oral glucose tolerance test\n",
    "    GL = \"Glucose\"\n",
    "    try:\n",
    "        norm_i = data_GL.loc[(data_GL[GL] <= 140)] # normal\n",
    "        #elevated_i = data_GL.loc[(data_GL[GL] > 140) & (data_GL[GL] < 200)] #prediabetic\n",
    "        high_i =  data_GL.loc[data_GL[GL] > 140] #risk\n",
    "\n",
    "        data_GL[GL][norm_i.index] = 1\n",
    "        #data_GL[GL][elevated_i.index] = 2\n",
    "        data_GL[GL][high_i.index] = 2\n",
    "     \n",
    "    except:\n",
    "        pass\n",
    "    \n",
    "    return data_GL"
   ]
  },
  {
   "cell_type": "code",
   "execution_count": null,
   "metadata": {
    "colab": {
     "base_uri": "https://localhost:8080/"
    },
    "id": "eSpX-Hw-wpEI",
    "outputId": "57c2055f-93da-4c43-8403-19e97033cab5"
   },
   "outputs": [
    {
     "name": "stdout",
     "output_type": "stream",
     "text": [
      "   Pregnancies  Diabetic  ...   Age  Glucose\n",
      "0          6.0         1  ...  50.0    148.0\n",
      "1          1.0         0  ...  31.0     85.0\n",
      "2          8.0         1  ...  32.0    183.0\n",
      "3          1.0         0  ...  21.0     89.0\n",
      "4          5.0         0  ...  30.0    116.0\n",
      "\n",
      "[5 rows x 9 columns]\n"
     ]
    },
    {
     "data": {
      "text/plain": [
       "(None, (636, 9))"
      ]
     },
     "execution_count": 118,
     "metadata": {},
     "output_type": "execute_result"
    }
   ],
   "source": [
    "data_GL = swap_col('Glucose')\n",
    "print(data_GL.head()), data_GL.shape"
   ]
  },
  {
   "cell_type": "code",
   "execution_count": null,
   "metadata": {
    "id": "w6j5iDfuaorf"
   },
   "outputs": [],
   "source": [
    "data_GL = categorize_GL(data_GL)"
   ]
  },
  {
   "cell_type": "code",
   "execution_count": null,
   "metadata": {
    "colab": {
     "base_uri": "https://localhost:8080/"
    },
    "id": "OAtsyAOOCFJb",
    "outputId": "4b1f0c29-b44a-4a80-c603-456a5b49ba17"
   },
   "outputs": [
    {
     "data": {
      "text/plain": [
       "1.0    499\n",
       "2.0    137\n",
       "Name: Glucose, dtype: int64"
      ]
     },
     "execution_count": 120,
     "metadata": {},
     "output_type": "execute_result"
    }
   ],
   "source": [
    "data_GL.Glucose.value_counts()"
   ]
  },
  {
   "cell_type": "code",
   "execution_count": null,
   "metadata": {
    "id": "DCrUBu0CCFJc"
   },
   "outputs": [],
   "source": [
    "data_GL.columns = ['F' + str(i) for i in range(1,9)]+['Outcome'] #Renaming"
   ]
  },
  {
   "cell_type": "code",
   "execution_count": null,
   "metadata": {
    "id": "GLo5e6rbDwPn"
   },
   "outputs": [],
   "source": [
    "X_Data,Y_Lavel = feature_Selector(data_GL, algo='ICA', n_feature=7)  "
   ]
  },
  {
   "cell_type": "markdown",
   "metadata": {
    "id": "Gjnv9GMuMDwe"
   },
   "source": [
    "Analyzing **KNN**"
   ]
  },
  {
   "cell_type": "code",
   "execution_count": null,
   "metadata": {
    "colab": {
     "base_uri": "https://localhost:8080/",
     "height": 1000
    },
    "id": "RyXUwkHFDzMQ",
    "outputId": "e1ae44f5-253e-4422-c4ea-561d18c9ac86"
   },
   "outputs": [
    {
     "name": "stdout",
     "output_type": "stream",
     "text": [
      "--------------------------------------------------\n",
      "Detailed classification report for current fold:\n",
      "\n",
      "              precision    recall  f1-score   support\n",
      "\n",
      "         1.0       0.83      0.87      0.85       100\n",
      "         2.0       0.43      0.36      0.39        28\n",
      "\n",
      "    accuracy                           0.76       128\n",
      "   macro avg       0.63      0.61      0.62       128\n",
      "weighted avg       0.74      0.76      0.75       128\n",
      "\n",
      "\n",
      "\n",
      "\n",
      "Accuracy for Current Fold: 0.7578125\n",
      "\n",
      "--------------------------------------------------\n",
      "Detailed classification report for current fold:\n",
      "\n",
      "              precision    recall  f1-score   support\n",
      "\n",
      "         1.0       0.82      0.97      0.89        99\n",
      "         2.0       0.70      0.25      0.37        28\n",
      "\n",
      "    accuracy                           0.81       127\n",
      "   macro avg       0.76      0.61      0.63       127\n",
      "weighted avg       0.79      0.81      0.77       127\n",
      "\n",
      "\n",
      "\n",
      "\n",
      "Accuracy for Current Fold: 0.8110236220472441\n",
      "\n",
      "--------------------------------------------------\n",
      "Detailed classification report for current fold:\n",
      "\n",
      "              precision    recall  f1-score   support\n",
      "\n",
      "         1.0       0.85      0.90      0.87       100\n",
      "         2.0       0.52      0.41      0.46        27\n",
      "\n",
      "    accuracy                           0.80       127\n",
      "   macro avg       0.69      0.65      0.67       127\n",
      "weighted avg       0.78      0.80      0.79       127\n",
      "\n",
      "\n",
      "\n",
      "\n",
      "Accuracy for Current Fold: 0.7952755905511811\n",
      "\n",
      "--------------------------------------------------\n",
      "Detailed classification report for current fold:\n",
      "\n",
      "              precision    recall  f1-score   support\n",
      "\n",
      "         1.0       0.82      0.92      0.87       100\n",
      "         2.0       0.47      0.26      0.33        27\n",
      "\n",
      "    accuracy                           0.78       127\n",
      "   macro avg       0.64      0.59      0.60       127\n",
      "weighted avg       0.75      0.78      0.75       127\n",
      "\n",
      "\n",
      "\n",
      "\n",
      "Accuracy for Current Fold: 0.7795275590551181\n",
      "\n",
      "--------------------------------------------------\n",
      "Detailed classification report for current fold:\n",
      "\n",
      "              precision    recall  f1-score   support\n",
      "\n",
      "         1.0       0.81      0.95      0.87       100\n",
      "         2.0       0.44      0.15      0.22        27\n",
      "\n",
      "    accuracy                           0.78       127\n",
      "   macro avg       0.62      0.55      0.55       127\n",
      "weighted avg       0.73      0.78      0.73       127\n",
      "\n",
      "\n",
      "\n",
      "\n",
      "Accuracy for Current Fold: 0.7795275590551181\n",
      "\n",
      "\n",
      "---------------------Average---------------------\n",
      "Accuracy (Avg. +/- Std.) is  0.785 +/- 0.018\n",
      "Avg. CM is [[49, 13], [13, 49]]\n",
      "Total for all folds CM is [[499, 137], [137, 499]]\n"
     ]
    },
    {
     "data": {
      "text/plain": [
       "<Figure size 576x360 with 0 Axes>"
      ]
     },
     "metadata": {},
     "output_type": "display_data"
    },
    {
     "data": {
      "image/png": "[encoded data removed]",
      "text/plain": [
       "<Figure size 432x288 with 2 Axes>"
      ]
     },
     "metadata": {},
     "output_type": "display_data"
    },
    {
     "data": {
      "image/png": "[encoded data removed]",
      "text/plain": [
       "<Figure size 432x288 with 2 Axes>"
      ]
     },
     "metadata": {},
     "output_type": "display_data"
    },
    {
     "data": {
      "image/png": "[encoded data removed]",
      "text/plain": [
       "<Figure size 432x288 with 2 Axes>"
      ]
     },
     "metadata": {},
     "output_type": "display_data"
    },
    {
     "data": {
      "image/png": "[encoded data removed]",
      "text/plain": [
       "<Figure size 432x288 with 2 Axes>"
      ]
     },
     "metadata": {},
     "output_type": "display_data"
    },
    {
     "data": {
      "image/png": "[encoded data removed]",
      "text/plain": [
       "<Figure size 432x288 with 2 Axes>"
      ]
     },
     "metadata": {},
     "output_type": "display_data"
    }
   ],
   "source": [
    "clf_KNN(X_Data, Y_Lavel, 'Glucose')"
   ]
  },
  {
   "cell_type": "code",
   "execution_count": null,
   "metadata": {
    "colab": {
     "base_uri": "https://localhost:8080/",
     "height": 204
    },
    "id": "lhpmIBdGKlx3",
    "outputId": "22251246-6b76-408d-ae1a-1a0b58609d7e"
   },
   "outputs": [
    {
     "data": {
      "text/html": [
       "<div>\n",
       "<style scoped>\n",
       "    .dataframe tbody tr th:only-of-type {\n",
       "        vertical-align: middle;\n",
       "    }\n",
       "\n",
       "    .dataframe tbody tr th {\n",
       "        vertical-align: top;\n",
       "    }\n",
       "\n",
       "    .dataframe thead th {\n",
       "        text-align: right;\n",
       "    }\n",
       "</style>\n",
       "<table border=\"1\" class=\"dataframe\">\n",
       "  <thead>\n",
       "    <tr style=\"text-align: right;\">\n",
       "      <th></th>\n",
       "      <th>BloodPressure_KNN</th>\n",
       "      <th>Glucose_KNN</th>\n",
       "    </tr>\n",
       "  </thead>\n",
       "  <tbody>\n",
       "    <tr>\n",
       "      <th>0</th>\n",
       "      <td>0.796875</td>\n",
       "      <td>0.757812</td>\n",
       "    </tr>\n",
       "    <tr>\n",
       "      <th>1</th>\n",
       "      <td>0.755906</td>\n",
       "      <td>0.811024</td>\n",
       "    </tr>\n",
       "    <tr>\n",
       "      <th>2</th>\n",
       "      <td>0.771654</td>\n",
       "      <td>0.795276</td>\n",
       "    </tr>\n",
       "    <tr>\n",
       "      <th>3</th>\n",
       "      <td>0.716535</td>\n",
       "      <td>0.779528</td>\n",
       "    </tr>\n",
       "    <tr>\n",
       "      <th>4</th>\n",
       "      <td>0.787402</td>\n",
       "      <td>0.779528</td>\n",
       "    </tr>\n",
       "  </tbody>\n",
       "</table>\n",
       "</div>"
      ],
      "text/plain": [
       "   BloodPressure_KNN  Glucose_KNN\n",
       "0           0.796875     0.757812\n",
       "1           0.755906     0.811024\n",
       "2           0.771654     0.795276\n",
       "3           0.716535     0.779528\n",
       "4           0.787402     0.779528"
      ]
     },
     "execution_count": 124,
     "metadata": {},
     "output_type": "execute_result"
    }
   ],
   "source": [
    "knn_res"
   ]
  },
  {
   "cell_type": "code",
   "execution_count": null,
   "metadata": {
    "id": "1fy0EiKHL96D"
   },
   "outputs": [],
   "source": []
  }
 ],
 "metadata": {
  "colab": {
   "collapsed_sections": [
    "hfulVdlqeDUb",
    "9635-rRaNaHB",
    "vfYhdL_AN9i1",
    "mkEkXDfYNxUX"
   ],
   "name": "ML Project.ipynb",
   "provenance": []
  },
  "kernelspec": {
   "display_name": "Python 3 (ipykernel)",
   "language": "python",
   "name": "python3"
  },
  "language_info": {
   "codemirror_mode": {
    "name": "ipython",
    "version": 3
   },
   "file_extension": ".py",
   "mimetype": "text/x-python",
   "name": "python",
   "nbconvert_exporter": "python",
   "pygments_lexer": "ipython3",
   "version": "3.8.10"
  }
 },
 "nbformat": 4,
 "nbformat_minor": 1
}
